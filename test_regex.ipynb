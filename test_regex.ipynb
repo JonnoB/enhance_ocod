{
 "cells": [
  {
   "cell_type": "code",
   "execution_count": 5,
   "id": "72745f21",
   "metadata": {},
   "outputs": [],
   "source": [
    "from enhance_ocod.labelling.ner_spans import lfs\n",
    "from enhance_ocod.labelling.weak_labelling import (process_dataframe_batch, create_flat_tag, \n",
    "create_commercial_park_tag, remove_overlapping_spans, get_overlap_stats)\n",
    "import pandas as pd \n",
    "\n",
    "\n"
   ]
  },
  {
   "cell_type": "code",
   "execution_count": 2,
   "id": "88a04e63",
   "metadata": {},
   "outputs": [
    {
     "name": "stderr",
     "output_type": "stream",
     "text": [
      "/tmp/ipykernel_406122/775661850.py:2: DtypeWarning: Columns (24,28,30,32,33,34) have mixed types. Specify dtype option on import or set low_memory=False.\n",
      "  df = pd.read_csv(\"data/OCOD_FULL_2022_02.csv\").rename(columns = {'Property Address':'property_address'})\n",
      "/home/jonno/enhance_ocod/src/enhance_ocod/labelling/weak_labelling.py:263: UserWarning: This pattern is interpreted as a regular expression, and has match groups. To actually get the groups, use str.extract.\n",
      "  df['flat_tag'] = df[text_column].str.contains(\n",
      "/home/jonno/enhance_ocod/src/enhance_ocod/labelling/weak_labelling.py:271: UserWarning: This pattern is interpreted as a regular expression, and has match groups. To actually get the groups, use str.extract.\n",
      "  df['commercial_park_tag'] = df[text_column].str.contains(\n"
     ]
    }
   ],
   "source": [
    "df = pd.read_csv('data/enhanced_ocod_data_and_gt/ground_truth_dev_set_labels.csv')\n",
    "df = pd.read_csv(\"data/OCOD_FULL_2022_02.csv\").rename(columns = {'Property Address':'property_address'})\n",
    "df = df['property_address'].drop_duplicates().reset_index(drop=True).to_frame()\n",
    "\n",
    "\n",
    "df= create_flat_tag(df)\n",
    "\n",
    "df = create_commercial_park_tag(df)"
   ]
  },
  {
   "cell_type": "code",
   "execution_count": 10,
   "id": "78790458",
   "metadata": {},
   "outputs": [
    {
     "name": "stderr",
     "output_type": "stream",
     "text": [
      "Processing batches: 100%|██████████| 93/93 [00:46<00:00,  1.99it/s]\n"
     ]
    },
    {
     "name": "stdout",
     "output_type": "stream",
     "text": [
      "\n",
      "Processing complete:\n",
      "  - Processed 92361 rows successfully\n",
      "  - Found 452964 total spans\n",
      "  - Average 4.90 spans per row\n"
     ]
    }
   ],
   "source": [
    "test = process_dataframe_batch(df, \n",
    "                           batch_size = 1000,\n",
    "                           text_column = 'property_address',\n",
    "                           include_function_name = False,\n",
    "                           save_intermediate = False,\n",
    "                           output_dir = None,\n",
    "                           verbose = True)"
   ]
  },
  {
   "cell_type": "code",
   "execution_count": 11,
   "id": "22e8ae74",
   "metadata": {},
   "outputs": [
    {
     "data": {
      "text/plain": [
       "{'total_rows': 92361,\n",
       " 'rows_with_overlaps': 41258,\n",
       " 'overlap_percentage': 44.67036952826409,\n",
       " 'total_spans_before': 452964,\n",
       " 'total_overlaps_removed': 60784,\n",
       " 'spans_after': 392180}"
      ]
     },
     "execution_count": 11,
     "metadata": {},
     "output_type": "execute_result"
    }
   ],
   "source": [
    "get_overlap_stats(test)"
   ]
  },
  {
   "cell_type": "code",
   "execution_count": 14,
   "id": "1cd018da",
   "metadata": {},
   "outputs": [
    {
     "data": {
      "text/plain": [
       "[{'text': 'Westleigh Lodge Care Home, Nel Pan Lane, Leigh (WN7 5JT)',\n",
       "  'spans': [{'text': 'Westleigh Lodge Care Home',\n",
       "    'start': 0,\n",
       "    'end': 25,\n",
       "    'label': 'BUILDING'},\n",
       "   {'text': 'Westleigh Lodge Care Home',\n",
       "    'start': 0,\n",
       "    'end': 25,\n",
       "    'label': 'BUILDING'},\n",
       "   {'text': 'Leigh', 'start': 41, 'end': 46, 'label': 'CITY'},\n",
       "   {'text': 'WN7 5JT', 'start': 48, 'end': 55, 'label': 'POSTCODE'},\n",
       "   {'text': 'Nel Pan Lane', 'start': 27, 'end': 39, 'label': 'STREET'},\n",
       "   {'text': 'Lane', 'start': 35, 'end': 39, 'label': 'UNIT_TYPE'}],\n",
       "  'row_id': 0},\n",
       " {'text': 'Flat 1, 1a Canal Street, Manchester (M1 3HE)',\n",
       "  'spans': [{'text': 'Manchester', 'start': 25, 'end': 35, 'label': 'CITY'},\n",
       "   {'text': 'M1 3HE', 'start': 37, 'end': 43, 'label': 'POSTCODE'},\n",
       "   {'text': 'Canal Street', 'start': 11, 'end': 23, 'label': 'STREET'},\n",
       "   {'text': '1', 'start': 5, 'end': 6, 'label': 'UNIT_ID'},\n",
       "   {'text': 'Flat', 'start': 0, 'end': 4, 'label': 'UNIT_TYPE'}],\n",
       "  'row_id': 1},\n",
       " {'text': 'Flat 201, 1 Regent Road, Manchester (M3 4AY)',\n",
       "  'spans': [{'text': 'Manchester', 'start': 25, 'end': 35, 'label': 'CITY'},\n",
       "   {'text': 'M3 4AY', 'start': 37, 'end': 43, 'label': 'POSTCODE'},\n",
       "   {'text': 'Regent Road', 'start': 12, 'end': 23, 'label': 'STREET'},\n",
       "   {'text': '1', 'start': 10, 'end': 11, 'label': 'STREET_NUMBER'},\n",
       "   {'text': '201', 'start': 5, 'end': 8, 'label': 'UNIT_ID'},\n",
       "   {'text': 'Flat', 'start': 0, 'end': 4, 'label': 'UNIT_TYPE'}],\n",
       "  'row_id': 2}]"
      ]
     },
     "execution_count": 14,
     "metadata": {},
     "output_type": "execute_result"
    }
   ],
   "source": [
    "test[0:3]"
   ]
  },
  {
   "cell_type": "markdown",
   "id": "63ea0adf",
   "metadata": {},
   "source": []
  }
 ],
 "metadata": {
  "kernelspec": {
   "display_name": ".venv",
   "language": "python",
   "name": "python3"
  },
  "language_info": {
   "codemirror_mode": {
    "name": "ipython",
    "version": 3
   },
   "file_extension": ".py",
   "mimetype": "text/x-python",
   "name": "python",
   "nbconvert_exporter": "python",
   "pygments_lexer": "ipython3",
   "version": "3.12.3"
  }
 },
 "nbformat": 4,
 "nbformat_minor": 5
}
