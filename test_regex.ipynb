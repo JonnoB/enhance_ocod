{
 "cells": [
  {
   "cell_type": "code",
   "execution_count": 9,
   "id": "72745f21",
   "metadata": {},
   "outputs": [],
   "source": [
    "from enhance_ocod.labelling.ner_spans import lfs\n",
    "from enhance_ocod.labelling.weak_labelling import (process_dataframe_batch, create_flat_tag, \n",
    "create_commercial_park_tag, remove_overlapping_spans, get_overlap_stats, remove_zero_length_spans, convert_weak_labels_to_standard_format, evaluate_weak_labels)\n",
    "\n",
    "import pandas as pd \n",
    "\n",
    "\n",
    "data_to_label = \"data/training_data/ground_truth_dev_set_labels.csv\"\n",
    "\n",
    "data_to_label = \"data/enhanced_ocod_data_and_gt/ground_truth_dev_set_labels.csv\"\n",
    "\n",
    "gt_path =  \"data/training_data/ner_ready/ground_truth_test_set_labels.json\""
   ]
  },
  {
   "cell_type": "code",
   "execution_count": null,
   "id": "88a04e63",
   "metadata": {},
   "outputs": [
    {
     "name": "stderr",
     "output_type": "stream",
     "text": [
      "/home/jonno/enhance_ocod/src/enhance_ocod/labelling/weak_labelling.py:273: UserWarning: This pattern is interpreted as a regular expression, and has match groups. To actually get the groups, use str.extract.\n",
      "  df['flat_tag'] = df[text_column].str.contains(\n",
      "/home/jonno/enhance_ocod/src/enhance_ocod/labelling/weak_labelling.py:281: UserWarning: This pattern is interpreted as a regular expression, and has match groups. To actually get the groups, use str.extract.\n",
      "  df['commercial_park_tag'] = df[text_column].str.contains(\n"
     ]
    }
   ],
   "source": [
    "df = pd.read_csv(data_to_label)\n",
    "#df = pd.read_csv(\"data/OCOD_FULL_2022_02.csv\").rename(columns = {'Property Address':'property_address'})\n",
    "df = df['property_address'].drop_duplicates().reset_index(drop=True).to_frame()\n",
    "\n",
    "\n",
    "df= create_flat_tag(df)\n",
    "\n",
    "df = create_commercial_park_tag(df)"
   ]
  },
  {
   "cell_type": "code",
   "execution_count": 6,
   "id": "78790458",
   "metadata": {},
   "outputs": [
    {
     "name": "stderr",
     "output_type": "stream",
     "text": [
      "Processing batches: 100%|██████████| 2/2 [00:00<00:00,  2.04it/s]"
     ]
    },
    {
     "name": "stdout",
     "output_type": "stream",
     "text": [
      "\n",
      "Processing complete:\n",
      "  - Processed 1998 rows successfully\n",
      "  - Found 10088 total spans\n",
      "  - Average 5.05 spans per row\n"
     ]
    },
    {
     "name": "stderr",
     "output_type": "stream",
     "text": [
      "\n"
     ]
    }
   ],
   "source": [
    "test = process_dataframe_batch(df, \n",
    "                           batch_size = 1000,\n",
    "                           text_column = 'property_address',\n",
    "                           include_function_name = False,\n",
    "                           save_intermediate = False,\n",
    "                           output_dir = None,\n",
    "                           verbose = True)\n",
    "                           \n",
    "remove_zero_length_spans(test)\n",
    "remove_overlapping_spans(test)"
   ]
  },
  {
   "cell_type": "code",
   "execution_count": 7,
   "id": "7b53bf7c",
   "metadata": {},
   "outputs": [
    {
     "data": {
      "text/plain": [
       "{'total_rows': 1998,\n",
       " 'rows_with_overlaps': 0,\n",
       " 'overlap_percentage': 0.0,\n",
       " 'total_spans_before': 8411,\n",
       " 'total_overlaps_removed': 0,\n",
       " 'spans_after': 8411}"
      ]
     },
     "execution_count": 7,
     "metadata": {},
     "output_type": "execute_result"
    }
   ],
   "source": [
    "get_overlap_stats(test)"
   ]
  },
  {
   "cell_type": "code",
   "execution_count": null,
   "id": "7ef26ca3",
   "metadata": {},
   "outputs": [
    {
     "name": "stdout",
     "output_type": "stream",
     "text": [
      "Evaluating noisy predictions on regex_labels set...\n"
     ]
    },
    {
     "ename": "FileNotFoundError",
     "evalue": "[Errno 2] No such file or directory: 'data/training_data/ner_ready/ground_truth_test_set_labels.json'",
     "output_type": "error",
     "traceback": [
      "\u001b[31m---------------------------------------------------------------------------\u001b[39m",
      "\u001b[31mFileNotFoundError\u001b[39m                         Traceback (most recent call last)",
      "\u001b[36mCell\u001b[39m\u001b[36m \u001b[39m\u001b[32mIn[8]\u001b[39m\u001b[32m, line 3\u001b[39m\n\u001b[32m      1\u001b[39m test2 = convert_weak_labels_to_standard_format(test)\n\u001b[32m----> \u001b[39m\u001b[32m3\u001b[39m overall_results, class_df = \u001b[43mevaluate_weak_labels\u001b[49m\u001b[43m(\u001b[49m\u001b[43mtest2\u001b[49m\u001b[43m,\u001b[49m\u001b[43m \u001b[49m\n\u001b[32m      4\u001b[39m \u001b[43m    \u001b[49m\u001b[33;43m\"\u001b[39;49m\u001b[33;43mdata/training_data/ner_ready/ground_truth_test_set_labels.json\u001b[39;49m\u001b[33;43m\"\u001b[39;49m\u001b[43m,\u001b[49m\u001b[43m \u001b[49m\n\u001b[32m      5\u001b[39m \u001b[43m    \u001b[49m\u001b[33;43m\"\u001b[39;49m\u001b[33;43menhance_ocod/data/model_performance\u001b[39;49m\u001b[33;43m\"\u001b[39;49m\u001b[43m,\u001b[49m\u001b[43m \u001b[49m\n\u001b[32m      6\u001b[39m \u001b[43m    \u001b[49m\u001b[33;43m'\u001b[39;49m\u001b[33;43mregex_labels\u001b[39;49m\u001b[33;43m'\u001b[39;49m\u001b[43m)\u001b[49m\n",
      "\u001b[36mFile \u001b[39m\u001b[32m~/enhance_ocod/src/enhance_ocod/labelling/weak_labelling.py:424\u001b[39m, in \u001b[36mevaluate_weak_labels\u001b[39m\u001b[34m(noisy_predictions, ground_truth_path, output_dir, dataset_name)\u001b[39m\n\u001b[32m    421\u001b[39m \u001b[38;5;28mprint\u001b[39m(\u001b[33mf\u001b[39m\u001b[33m\"\u001b[39m\u001b[33mEvaluating noisy predictions on \u001b[39m\u001b[38;5;132;01m{\u001b[39;00mdataset_name\u001b[38;5;132;01m}\u001b[39;00m\u001b[33m set...\u001b[39m\u001b[33m\"\u001b[39m)\n\u001b[32m    423\u001b[39m \u001b[38;5;66;03m# Load ground truth\u001b[39;00m\n\u001b[32m--> \u001b[39m\u001b[32m424\u001b[39m \u001b[38;5;28;01mwith\u001b[39;00m \u001b[38;5;28;43mopen\u001b[39;49m\u001b[43m(\u001b[49m\u001b[43mground_truth_path\u001b[49m\u001b[43m,\u001b[49m\u001b[43m \u001b[49m\u001b[33;43m'\u001b[39;49m\u001b[33;43mr\u001b[39;49m\u001b[33;43m'\u001b[39;49m\u001b[43m)\u001b[49m \u001b[38;5;28;01mas\u001b[39;00m f:\n\u001b[32m    425\u001b[39m     ground_truth_data = json.load(f)\n\u001b[32m    427\u001b[39m \u001b[38;5;66;03m# Convert both to standard format and remove duplicates\u001b[39;00m\n",
      "\u001b[31mFileNotFoundError\u001b[39m: [Errno 2] No such file or directory: 'data/training_data/ner_ready/ground_truth_test_set_labels.json'"
     ]
    }
   ],
   "source": [
    "test2 = convert_weak_labels_to_standard_format(test)\n",
    "\n",
    "overall_results, class_df = evaluate_weak_labels(test2, \n",
    "    gt_path, \n",
    "    \"enhance_ocod/data/model_performance\", \n",
    "    'regex_labels')"
   ]
  },
  {
   "cell_type": "code",
   "execution_count": 11,
   "id": "8379a2cd",
   "metadata": {},
   "outputs": [
    {
     "name": "stdout",
     "output_type": "stream",
     "text": [
      "Input text:\n",
      "'15 to 27 (odd numbers) gandul towers, gee street and 66 to 74 (even numbers) bastwick street'\n",
      "\n",
      "Labeled output:\n"
     ]
    },
    {
     "data": {
      "text/plain": [
       "{'text': '15 to 27 (odd numbers) gandul towers, gee street and 66 to 74 (even numbers) bastwick street',\n",
       " 'spans': [{'text': 'gandul towers',\n",
       "   'start': 23,\n",
       "   'end': 36,\n",
       "   'label': 'building_name'},\n",
       "  {'text': 'gee street', 'start': 38, 'end': 48, 'label': 'city'},\n",
       "  {'text': 'odd', 'start': 10, 'end': 13, 'label': 'number_filter'},\n",
       "  {'text': 'even', 'start': 63, 'end': 67, 'label': 'number_filter'},\n",
       "  {'text': 'gee street', 'start': 38, 'end': 48, 'label': 'street_name'},\n",
       "  {'text': 'bastwick street', 'start': 77, 'end': 92, 'label': 'street_name'},\n",
       "  {'text': '66', 'start': 53, 'end': 55, 'label': 'street_number'},\n",
       "  {'text': '15', 'start': 0, 'end': 2, 'label': 'street_number'},\n",
       "  {'text': '15 to 27', 'start': 0, 'end': 8, 'label': 'street_number'},\n",
       "  {'text': '66 to 74', 'start': 53, 'end': 61, 'label': 'street_number'},\n",
       "  {'text': '15 to 27', 'start': 0, 'end': 8, 'label': 'unit_id'},\n",
       "  {'text': '66 to 74', 'start': 53, 'end': 61, 'label': 'unit_id'}]}"
      ]
     },
     "execution_count": 11,
     "metadata": {},
     "output_type": "execute_result"
    }
   ],
   "source": [
    "import pandas as pd\n",
    "from enhance_ocod.labelling.weak_labelling import apply_labelling_functions_to_row\n",
    "\n",
    "# Your example string\n",
    "text = \"15 to 27 (odd numbers) gandul towers, gee street and 66 to 74 (even numbers) bastwick street\"\n",
    "\n",
    "# Create a pandas row (Series) as the function expects\n",
    "row = pd.Series({'text': text})\n",
    "\n",
    "# This is how you would call the function\n",
    "result = apply_labelling_functions_to_row(row, include_function_name=False)\n",
    "\n",
    "\n",
    "print(\"Input text:\")\n",
    "print(f\"'{text}'\")\n",
    "print(\"\\nLabeled output:\")\n",
    "result"
   ]
  },
  {
   "cell_type": "code",
   "execution_count": 10,
   "id": "7430ac05",
   "metadata": {},
   "outputs": [
    {
     "data": {
      "text/html": [
       "<div>\n",
       "<style scoped>\n",
       "    .dataframe tbody tr th:only-of-type {\n",
       "        vertical-align: middle;\n",
       "    }\n",
       "\n",
       "    .dataframe tbody tr th {\n",
       "        vertical-align: top;\n",
       "    }\n",
       "\n",
       "    .dataframe thead th {\n",
       "        text-align: right;\n",
       "    }\n",
       "</style>\n",
       "<table border=\"1\" class=\"dataframe\">\n",
       "  <thead>\n",
       "    <tr style=\"text-align: right;\">\n",
       "      <th></th>\n",
       "      <th>property_address</th>\n",
       "      <th>flat_tag</th>\n",
       "      <th>commercial_park_tag</th>\n",
       "    </tr>\n",
       "  </thead>\n",
       "  <tbody>\n",
       "    <tr>\n",
       "      <th>0</th>\n",
       "      <td>90 craven park, london (nw10 8qe)</td>\n",
       "      <td>False</td>\n",
       "      <td>False</td>\n",
       "    </tr>\n",
       "    <tr>\n",
       "      <th>1</th>\n",
       "      <td>land on the west side of wisbech road, march</td>\n",
       "      <td>False</td>\n",
       "      <td>False</td>\n",
       "    </tr>\n",
       "    <tr>\n",
       "      <th>2</th>\n",
       "      <td>20a bute street, london (sw7 3ex)</td>\n",
       "      <td>False</td>\n",
       "      <td>False</td>\n",
       "    </tr>\n",
       "    <tr>\n",
       "      <th>3</th>\n",
       "      <td>6 city road, finsbury, (ec1y 2aa)</td>\n",
       "      <td>False</td>\n",
       "      <td>False</td>\n",
       "    </tr>\n",
       "    <tr>\n",
       "      <th>4</th>\n",
       "      <td>indigo works, oil sites road, ellesmere port</td>\n",
       "      <td>False</td>\n",
       "      <td>False</td>\n",
       "    </tr>\n",
       "    <tr>\n",
       "      <th>...</th>\n",
       "      <td>...</td>\n",
       "      <td>...</td>\n",
       "      <td>...</td>\n",
       "    </tr>\n",
       "    <tr>\n",
       "      <th>995</th>\n",
       "      <td>56 east lancashire road, st. helens (wa11 9ab)</td>\n",
       "      <td>False</td>\n",
       "      <td>False</td>\n",
       "    </tr>\n",
       "    <tr>\n",
       "      <th>996</th>\n",
       "      <td>flat 2, 34 lennox gardens, london (sw1x 0dh)</td>\n",
       "      <td>True</td>\n",
       "      <td>False</td>\n",
       "    </tr>\n",
       "    <tr>\n",
       "      <th>997</th>\n",
       "      <td>15 the mound, london (se9 3ba)</td>\n",
       "      <td>False</td>\n",
       "      <td>False</td>\n",
       "    </tr>\n",
       "    <tr>\n",
       "      <th>998</th>\n",
       "      <td>flat 13, chelsea house, 26 lowndes street, lon...</td>\n",
       "      <td>True</td>\n",
       "      <td>False</td>\n",
       "    </tr>\n",
       "    <tr>\n",
       "      <th>999</th>\n",
       "      <td>60 wellington parade, walmer, deal (ct14 8ab)</td>\n",
       "      <td>False</td>\n",
       "      <td>False</td>\n",
       "    </tr>\n",
       "  </tbody>\n",
       "</table>\n",
       "<p>1000 rows × 3 columns</p>\n",
       "</div>"
      ],
      "text/plain": [
       "                                      property_address  flat_tag  \\\n",
       "0                    90 craven park, london (nw10 8qe)     False   \n",
       "1         land on the west side of wisbech road, march     False   \n",
       "2                    20a bute street, london (sw7 3ex)     False   \n",
       "3                    6 city road, finsbury, (ec1y 2aa)     False   \n",
       "4         indigo works, oil sites road, ellesmere port     False   \n",
       "..                                                 ...       ...   \n",
       "995     56 east lancashire road, st. helens (wa11 9ab)     False   \n",
       "996       flat 2, 34 lennox gardens, london (sw1x 0dh)      True   \n",
       "997                     15 the mound, london (se9 3ba)     False   \n",
       "998  flat 13, chelsea house, 26 lowndes street, lon...      True   \n",
       "999      60 wellington parade, walmer, deal (ct14 8ab)     False   \n",
       "\n",
       "     commercial_park_tag  \n",
       "0                  False  \n",
       "1                  False  \n",
       "2                  False  \n",
       "3                  False  \n",
       "4                  False  \n",
       "..                   ...  \n",
       "995                False  \n",
       "996                False  \n",
       "997                False  \n",
       "998                False  \n",
       "999                False  \n",
       "\n",
       "[1000 rows x 3 columns]"
      ]
     },
     "execution_count": 10,
     "metadata": {},
     "output_type": "execute_result"
    }
   ],
   "source": [
    "df"
   ]
  },
  {
   "cell_type": "code",
   "execution_count": 2,
   "id": "d99224b5",
   "metadata": {},
   "outputs": [
    {
     "name": "stderr",
     "output_type": "stream",
     "text": [
      "/tmp/ipykernel_45579/197950213.py:1: DtypeWarning: Columns (24,28,30,32,33,34) have mixed types. Specify dtype option on import or set low_memory=False.\n",
      "  df = pd.read_csv('data/ocod_history/OCOD_FULL_2022_02.zip').rename(columns = {'Property Address':'property_address'})\n",
      "/teamspace/studios/this_studio/enhance_ocod/src/enhance_ocod/labelling/weak_labelling.py:273: UserWarning: This pattern is interpreted as a regular expression, and has match groups. To actually get the groups, use str.extract.\n",
      "  df['flat_tag'] = df[text_column].str.contains(\n",
      "/teamspace/studios/this_studio/enhance_ocod/src/enhance_ocod/labelling/weak_labelling.py:281: UserWarning: This pattern is interpreted as a regular expression, and has match groups. To actually get the groups, use str.extract.\n",
      "  df['commercial_park_tag'] = df[text_column].str.contains(\n",
      "Processing batches: 100%|██████████| 93/93 [01:07<00:00,  1.37it/s]\n"
     ]
    },
    {
     "name": "stdout",
     "output_type": "stream",
     "text": [
      "\n",
      "Processing complete:\n",
      "  - Processed 92361 rows successfully\n",
      "  - Found 452678 total spans\n",
      "  - Average 4.90 spans per row\n"
     ]
    }
   ],
   "source": [
    "df = pd.read_csv('data/ocod_history/OCOD_FULL_2022_02.zip').rename(columns = {'Property Address':'property_address'})\n",
    "#df = pd.read_csv(\"data/OCOD_FULL_2022_02.csv\").rename(columns = {'Property Address':'property_address'})\n",
    "df = df['property_address'].drop_duplicates().reset_index(drop=True).to_frame()\n",
    "\n",
    "\n",
    "df= create_flat_tag(df)\n",
    "\n",
    "df = create_commercial_park_tag(df)\n",
    "\n",
    "test = process_dataframe_batch(df, \n",
    "                           batch_size = 1000,\n",
    "                           text_column = 'property_address',\n",
    "                           include_function_name = False,\n",
    "                           save_intermediate = False,\n",
    "                           output_dir = None,\n",
    "                           verbose = True)\n",
    "                           \n",
    "remove_zero_length_spans(test)\n",
    "remove_overlapping_spans(test)\n",
    "\n"
   ]
  },
  {
   "cell_type": "code",
   "execution_count": 7,
   "id": "50c4ba62",
   "metadata": {},
   "outputs": [
    {
     "data": {
      "text/html": [
       "<div>\n",
       "<style scoped>\n",
       "    .dataframe tbody tr th:only-of-type {\n",
       "        vertical-align: middle;\n",
       "    }\n",
       "\n",
       "    .dataframe tbody tr th {\n",
       "        vertical-align: top;\n",
       "    }\n",
       "\n",
       "    .dataframe thead th {\n",
       "        text-align: right;\n",
       "    }\n",
       "</style>\n",
       "<table border=\"1\" class=\"dataframe\">\n",
       "  <thead>\n",
       "    <tr style=\"text-align: right;\">\n",
       "      <th></th>\n",
       "      <th>datapoint_id</th>\n",
       "      <th>start</th>\n",
       "      <th>end</th>\n",
       "      <th>text</th>\n",
       "      <th>label</th>\n",
       "      <th>property_address</th>\n",
       "    </tr>\n",
       "  </thead>\n",
       "  <tbody>\n",
       "    <tr>\n",
       "      <th>0</th>\n",
       "      <td>0</td>\n",
       "      <td>0</td>\n",
       "      <td>25</td>\n",
       "      <td>Westleigh Lodge Care Home</td>\n",
       "      <td>building_name</td>\n",
       "      <td>Westleigh Lodge Care Home, Nel Pan Lane, Leigh...</td>\n",
       "    </tr>\n",
       "    <tr>\n",
       "      <th>1</th>\n",
       "      <td>0</td>\n",
       "      <td>27</td>\n",
       "      <td>39</td>\n",
       "      <td>Nel Pan Lane</td>\n",
       "      <td>street_name</td>\n",
       "      <td>Westleigh Lodge Care Home, Nel Pan Lane, Leigh...</td>\n",
       "    </tr>\n",
       "    <tr>\n",
       "      <th>2</th>\n",
       "      <td>0</td>\n",
       "      <td>41</td>\n",
       "      <td>46</td>\n",
       "      <td>Leigh</td>\n",
       "      <td>city</td>\n",
       "      <td>Westleigh Lodge Care Home, Nel Pan Lane, Leigh...</td>\n",
       "    </tr>\n",
       "    <tr>\n",
       "      <th>3</th>\n",
       "      <td>0</td>\n",
       "      <td>48</td>\n",
       "      <td>55</td>\n",
       "      <td>WN7 5JT</td>\n",
       "      <td>postcode</td>\n",
       "      <td>Westleigh Lodge Care Home, Nel Pan Lane, Leigh...</td>\n",
       "    </tr>\n",
       "    <tr>\n",
       "      <th>4</th>\n",
       "      <td>1</td>\n",
       "      <td>0</td>\n",
       "      <td>4</td>\n",
       "      <td>Flat</td>\n",
       "      <td>unit_type</td>\n",
       "      <td>Flat 1, 1a Canal Street, Manchester (M1 3HE)</td>\n",
       "    </tr>\n",
       "    <tr>\n",
       "      <th>...</th>\n",
       "      <td>...</td>\n",
       "      <td>...</td>\n",
       "      <td>...</td>\n",
       "      <td>...</td>\n",
       "      <td>...</td>\n",
       "      <td>...</td>\n",
       "    </tr>\n",
       "    <tr>\n",
       "      <th>388923</th>\n",
       "      <td>92360</td>\n",
       "      <td>0</td>\n",
       "      <td>7</td>\n",
       "      <td>Storage</td>\n",
       "      <td>unit_type</td>\n",
       "      <td>Storage 17, Discovery Dock Apartments East, 3 ...</td>\n",
       "    </tr>\n",
       "    <tr>\n",
       "      <th>388924</th>\n",
       "      <td>92360</td>\n",
       "      <td>12</td>\n",
       "      <td>42</td>\n",
       "      <td>Discovery Dock Apartments East</td>\n",
       "      <td>building_name</td>\n",
       "      <td>Storage 17, Discovery Dock Apartments East, 3 ...</td>\n",
       "    </tr>\n",
       "    <tr>\n",
       "      <th>388925</th>\n",
       "      <td>92360</td>\n",
       "      <td>46</td>\n",
       "      <td>63</td>\n",
       "      <td>South Quay Square</td>\n",
       "      <td>street_name</td>\n",
       "      <td>Storage 17, Discovery Dock Apartments East, 3 ...</td>\n",
       "    </tr>\n",
       "    <tr>\n",
       "      <th>388926</th>\n",
       "      <td>92360</td>\n",
       "      <td>65</td>\n",
       "      <td>71</td>\n",
       "      <td>London</td>\n",
       "      <td>city</td>\n",
       "      <td>Storage 17, Discovery Dock Apartments East, 3 ...</td>\n",
       "    </tr>\n",
       "    <tr>\n",
       "      <th>388927</th>\n",
       "      <td>92360</td>\n",
       "      <td>73</td>\n",
       "      <td>80</td>\n",
       "      <td>E14 9RU</td>\n",
       "      <td>postcode</td>\n",
       "      <td>Storage 17, Discovery Dock Apartments East, 3 ...</td>\n",
       "    </tr>\n",
       "  </tbody>\n",
       "</table>\n",
       "<p>388928 rows × 6 columns</p>\n",
       "</div>"
      ],
      "text/plain": [
       "        datapoint_id  start  end                            text  \\\n",
       "0                  0      0   25       Westleigh Lodge Care Home   \n",
       "1                  0     27   39                    Nel Pan Lane   \n",
       "2                  0     41   46                           Leigh   \n",
       "3                  0     48   55                         WN7 5JT   \n",
       "4                  1      0    4                            Flat   \n",
       "...              ...    ...  ...                             ...   \n",
       "388923         92360      0    7                         Storage   \n",
       "388924         92360     12   42  Discovery Dock Apartments East   \n",
       "388925         92360     46   63               South Quay Square   \n",
       "388926         92360     65   71                          London   \n",
       "388927         92360     73   80                         E14 9RU   \n",
       "\n",
       "                label                                   property_address  \n",
       "0       building_name  Westleigh Lodge Care Home, Nel Pan Lane, Leigh...  \n",
       "1         street_name  Westleigh Lodge Care Home, Nel Pan Lane, Leigh...  \n",
       "2                city  Westleigh Lodge Care Home, Nel Pan Lane, Leigh...  \n",
       "3            postcode  Westleigh Lodge Care Home, Nel Pan Lane, Leigh...  \n",
       "4           unit_type       Flat 1, 1a Canal Street, Manchester (M1 3HE)  \n",
       "...               ...                                                ...  \n",
       "388923      unit_type  Storage 17, Discovery Dock Apartments East, 3 ...  \n",
       "388924  building_name  Storage 17, Discovery Dock Apartments East, 3 ...  \n",
       "388925    street_name  Storage 17, Discovery Dock Apartments East, 3 ...  \n",
       "388926           city  Storage 17, Discovery Dock Apartments East, 3 ...  \n",
       "388927       postcode  Storage 17, Discovery Dock Apartments East, 3 ...  \n",
       "\n",
       "[388928 rows x 6 columns]"
      ]
     },
     "execution_count": 7,
     "metadata": {},
     "output_type": "execute_result"
    }
   ],
   "source": [
    "rows = []\n",
    "for item in test:\n",
    "\n",
    "    for span in item[\"spans\"]:\n",
    "        rows.append({\n",
    "            \"datapoint_id\": item['datapoint_id'],\n",
    "            \"start\": span[\"start\"],\n",
    "            \"end\": span[\"end\"],\n",
    "            \"text\": span[\"text\"],\n",
    "            \"label\": span[\"label\"],\n",
    "            \"property_address\": item[\"text\"],\n",
    "        })\n",
    "\n",
    "df2 = pd.DataFrame(rows)\n",
    "df2.to_csv('data/training_data/weakly_labelled.csv')\n",
    "df2"
   ]
  },
  {
   "cell_type": "markdown",
   "id": "63ea0adf",
   "metadata": {},
   "source": []
  }
 ],
 "metadata": {
  "kernelspec": {
   "display_name": ".venv",
   "language": "python",
   "name": "python3"
  },
  "language_info": {
   "codemirror_mode": {
    "name": "ipython",
    "version": 3
   },
   "file_extension": ".py",
   "mimetype": "text/x-python",
   "name": "python",
   "nbconvert_exporter": "python",
   "pygments_lexer": "ipython3",
   "version": "3.12.3"
  }
 },
 "nbformat": 4,
 "nbformat_minor": 5
}
