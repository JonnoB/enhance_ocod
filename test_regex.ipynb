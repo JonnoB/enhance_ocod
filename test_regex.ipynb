{
 "cells": [
  {
   "cell_type": "code",
   "execution_count": 4,
   "id": "72745f21",
   "metadata": {},
   "outputs": [],
   "source": [
    "from enhance_ocod.labelling.ner_spans import lfs\n",
    "from enhance_ocod.labelling.weak_labelling import (process_dataframe_batch, create_flat_tag, \n",
    "create_commercial_park_tag, remove_overlapping_spans, get_overlap_stats)\n",
    "import pandas as pd \n",
    "\n",
    "\n"
   ]
  },
  {
   "cell_type": "code",
   "execution_count": 7,
   "id": "88a04e63",
   "metadata": {},
   "outputs": [
    {
     "name": "stderr",
     "output_type": "stream",
     "text": [
      "/home/jonno/enhance_ocod/src/enhance_ocod/labelling/weak_labelling.py:263: UserWarning: This pattern is interpreted as a regular expression, and has match groups. To actually get the groups, use str.extract.\n",
      "  df['flat_tag'] = df[text_column].str.contains(\n",
      "/home/jonno/enhance_ocod/src/enhance_ocod/labelling/weak_labelling.py:271: UserWarning: This pattern is interpreted as a regular expression, and has match groups. To actually get the groups, use str.extract.\n",
      "  df['commercial_park_tag'] = df[text_column].str.contains(\n"
     ]
    }
   ],
   "source": [
    "df = pd.read_csv('data/enhanced_ocod_data_and_gt/ground_truth_dev_set_labels.csv')\n",
    "#df = pd.read_csv(\"data/OCOD_FULL_2022_02.csv\").rename(columns = {'Property Address':'property_address'})\n",
    "df = df['property_address'].drop_duplicates().reset_index(drop=True).to_frame()\n",
    "\n",
    "\n",
    "df= create_flat_tag(df)\n",
    "\n",
    "df = create_commercial_park_tag(df)"
   ]
  },
  {
   "cell_type": "code",
   "execution_count": 12,
   "id": "78790458",
   "metadata": {},
   "outputs": [
    {
     "name": "stderr",
     "output_type": "stream",
     "text": [
      "Processing batches: 100%|██████████| 2/2 [00:01<00:00,  1.91it/s]"
     ]
    },
    {
     "name": "stdout",
     "output_type": "stream",
     "text": [
      "\n",
      "Processing complete:\n",
      "  - Processed 1998 rows successfully\n",
      "  - Found 10094 total spans\n",
      "  - Average 5.05 spans per row\n"
     ]
    },
    {
     "name": "stderr",
     "output_type": "stream",
     "text": [
      "\n"
     ]
    }
   ],
   "source": [
    "test = process_dataframe_batch(df, \n",
    "                           batch_size = 1000,\n",
    "                           text_column = 'property_address',\n",
    "                           include_function_name = False,\n",
    "                           save_intermediate = False,\n",
    "                           output_dir = None,\n",
    "                           verbose = True)\n",
    "\n",
    "remove_overlapping_spans(test)"
   ]
  },
  {
   "cell_type": "code",
   "execution_count": 10,
   "id": "22e8ae74",
   "metadata": {},
   "outputs": [
    {
     "data": {
      "text/plain": [
       "{'total_rows': 1998,\n",
       " 'rows_with_overlaps': 1048,\n",
       " 'overlap_percentage': 52.45245245245245,\n",
       " 'total_spans_before': 10094,\n",
       " 'total_overlaps_removed': 1623,\n",
       " 'spans_after': 8471}"
      ]
     },
     "execution_count": 10,
     "metadata": {},
     "output_type": "execute_result"
    }
   ],
   "source": [
    "get_overlap_stats(test)"
   ]
  },
  {
   "cell_type": "code",
   "execution_count": 13,
   "id": "1cd018da",
   "metadata": {},
   "outputs": [
    {
     "data": {
      "text/plain": [
       "[{'text': '207 sloane street, london (sw1x 9qx)',\n",
       "  'spans': [{'text': '207', 'start': 0, 'end': 3, 'label': 'STREET_NUMBER'},\n",
       "   {'text': 'sloane street', 'start': 4, 'end': 17, 'label': 'STREET'},\n",
       "   {'text': 'london', 'start': 19, 'end': 25, 'label': 'CITY'},\n",
       "   {'text': 'sw1x 9qx', 'start': 27, 'end': 35, 'label': 'POSTCODE'}],\n",
       "  'row_id': 0},\n",
       " {'text': 'apartment 533, block 11 spectrum, blackfriars road, salford (m3 7ee)',\n",
       "  'spans': [{'text': 'apartment', 'start': 0, 'end': 9, 'label': 'UNIT_TYPE'},\n",
       "   {'text': '533', 'start': 10, 'end': 13, 'label': 'UNIT_ID'},\n",
       "   {'text': 'blackfriars road', 'start': 34, 'end': 50, 'label': 'STREET'},\n",
       "   {'text': 'salford', 'start': 52, 'end': 59, 'label': 'CITY'},\n",
       "   {'text': 'm3 7ee', 'start': 61, 'end': 67, 'label': 'POSTCODE'}],\n",
       "  'row_id': 1},\n",
       " {'text': 'flat 9, st. james heights, paradise walk, bexhill-on-sea (tn40 2lg)',\n",
       "  'spans': [{'text': 'flat', 'start': 0, 'end': 4, 'label': 'UNIT_TYPE'},\n",
       "   {'text': '9', 'start': 5, 'end': 6, 'label': 'UNIT_ID'},\n",
       "   {'text': 'st. james heights', 'start': 8, 'end': 25, 'label': 'BUILDING'},\n",
       "   {'text': 'paradise walk', 'start': 27, 'end': 40, 'label': 'STREET'},\n",
       "   {'text': 'bexhill-on-sea', 'start': 42, 'end': 56, 'label': 'CITY'},\n",
       "   {'text': 'tn40 2lg', 'start': 58, 'end': 66, 'label': 'POSTCODE'}],\n",
       "  'row_id': 2}]"
      ]
     },
     "execution_count": 13,
     "metadata": {},
     "output_type": "execute_result"
    }
   ],
   "source": [
    "test[0:3]"
   ]
  },
  {
   "cell_type": "code",
   "execution_count": 14,
   "id": "096863ec",
   "metadata": {},
   "outputs": [],
   "source": [
    "from enhance_ocod.training import convert_weak_labels_to_standard_format, evaluate_weak_labels\n",
    "\n"
   ]
  },
  {
   "cell_type": "code",
   "execution_count": null,
   "id": "7ef26ca3",
   "metadata": {},
   "outputs": [],
   "source": [
    "test2 = convert_weak_labels_to_standard_format(test)\n",
    "\n",
    "evaluate_weak_labels(test2, )"
   ]
  },
  {
   "cell_type": "markdown",
   "id": "63ea0adf",
   "metadata": {},
   "source": []
  }
 ],
 "metadata": {
  "kernelspec": {
   "display_name": ".venv",
   "language": "python",
   "name": "python3"
  },
  "language_info": {
   "codemirror_mode": {
    "name": "ipython",
    "version": 3
   },
   "file_extension": ".py",
   "mimetype": "text/x-python",
   "name": "python",
   "nbconvert_exporter": "python",
   "pygments_lexer": "ipython3",
   "version": "3.12.3"
  }
 },
 "nbformat": 4,
 "nbformat_minor": 5
}
