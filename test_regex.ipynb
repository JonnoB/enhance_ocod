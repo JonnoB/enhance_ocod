{
 "cells": [
  {
   "cell_type": "code",
   "execution_count": 1,
   "id": "72745f21",
   "metadata": {},
   "outputs": [],
   "source": [
    "from enhance_ocod.labelling.ner_spans import lfs\n",
    "from enhance_ocod.labelling.weak_labelling import (process_dataframe_batch, create_flat_tag, \n",
    "create_commercial_park_tag, remove_overlapping_spans, get_overlap_stats, remove_zero_length_spans)\n",
    "\n",
    "import pandas as pd \n",
    "\n",
    "\n",
    "gt_path = 'data/enhanced_ocod_data_and_gt/ground_truth_dev_set_labels.csv'\n",
    "\n",
    "gt_path = \"data/training_data/ground_truth_test_set_labels.csv\""
   ]
  },
  {
   "cell_type": "code",
   "execution_count": null,
   "id": "88a04e63",
   "metadata": {},
   "outputs": [
    {
     "name": "stderr",
     "output_type": "stream",
     "text": [
      "/teamspace/studios/this_studio/enhance_ocod/src/enhance_ocod/labelling/weak_labelling.py:273: UserWarning: This pattern is interpreted as a regular expression, and has match groups. To actually get the groups, use str.extract.\n",
      "  df['flat_tag'] = df[text_column].str.contains(\n",
      "/teamspace/studios/this_studio/enhance_ocod/src/enhance_ocod/labelling/weak_labelling.py:281: UserWarning: This pattern is interpreted as a regular expression, and has match groups. To actually get the groups, use str.extract.\n",
      "  df['commercial_park_tag'] = df[text_column].str.contains(\n"
     ]
    }
   ],
   "source": [
    "df = pd.read_csv(gt_path)\n",
    "#df = pd.read_csv(\"data/OCOD_FULL_2022_02.csv\").rename(columns = {'Property Address':'property_address'})\n",
    "df = df['property_address'].drop_duplicates().reset_index(drop=True).to_frame()\n",
    "\n",
    "\n",
    "df= create_flat_tag(df)\n",
    "\n",
    "df = create_commercial_park_tag(df)"
   ]
  },
  {
   "cell_type": "code",
   "execution_count": 3,
   "id": "78790458",
   "metadata": {},
   "outputs": [
    {
     "name": "stderr",
     "output_type": "stream",
     "text": [
      "Processing batches:   0%|          | 0/1 [00:00<?, ?it/s]"
     ]
    },
    {
     "name": "stderr",
     "output_type": "stream",
     "text": [
      "Processing batches: 100%|██████████| 1/1 [00:00<00:00,  1.17it/s]"
     ]
    },
    {
     "name": "stdout",
     "output_type": "stream",
     "text": [
      "\n",
      "Processing complete:\n",
      "  - Processed 1000 rows successfully\n",
      "  - Found 5016 total spans\n",
      "  - Average 5.02 spans per row\n"
     ]
    },
    {
     "name": "stderr",
     "output_type": "stream",
     "text": [
      "\n"
     ]
    }
   ],
   "source": [
    "test = process_dataframe_batch(df, \n",
    "                           batch_size = 1000,\n",
    "                           text_column = 'property_address',\n",
    "                           include_function_name = False,\n",
    "                           save_intermediate = False,\n",
    "                           output_dir = None,\n",
    "                           verbose = True)\n",
    "                           \n",
    "remove_zero_length_spans(test)\n",
    "remove_overlapping_spans(test)"
   ]
  },
  {
   "cell_type": "code",
   "execution_count": 4,
   "id": "7b53bf7c",
   "metadata": {},
   "outputs": [
    {
     "data": {
      "text/plain": [
       "{'total_rows': 1000,\n",
       " 'rows_with_overlaps': 0,\n",
       " 'overlap_percentage': 0.0,\n",
       " 'total_spans_before': 4161,\n",
       " 'total_overlaps_removed': 0,\n",
       " 'spans_after': 4161}"
      ]
     },
     "execution_count": 4,
     "metadata": {},
     "output_type": "execute_result"
    }
   ],
   "source": [
    "get_overlap_stats(test)"
   ]
  },
  {
   "cell_type": "code",
   "execution_count": 8,
   "id": "1cd018da",
   "metadata": {},
   "outputs": [
    {
     "data": {
      "text/plain": [
       "[{'text': '90 craven park, london (nw10 8qe)',\n",
       "  'spans': [{'text': '90', 'start': 0, 'end': 2, 'label': 'STREET_NUMBER'},\n",
       "   {'text': 'craven park', 'start': 3, 'end': 14, 'label': 'STREET'},\n",
       "   {'text': 'london', 'start': 16, 'end': 22, 'label': 'CITY'},\n",
       "   {'text': 'nw10 8qe', 'start': 24, 'end': 32, 'label': 'POSTCODE'}],\n",
       "  'row_id': 0},\n",
       " {'text': 'land on the west side of wisbech road, march',\n",
       "  'spans': [{'text': 'wisbech road',\n",
       "    'start': 25,\n",
       "    'end': 37,\n",
       "    'label': 'STREET'},\n",
       "   {'text': 'march', 'start': 39, 'end': 44, 'label': 'CITY'}],\n",
       "  'row_id': 1},\n",
       " {'text': '20a bute street, london (sw7 3ex)',\n",
       "  'spans': [{'text': '20', 'start': 0, 'end': 2, 'label': 'STREET_NUMBER'},\n",
       "   {'text': 'bute street', 'start': 4, 'end': 15, 'label': 'STREET'},\n",
       "   {'text': 'london', 'start': 17, 'end': 23, 'label': 'CITY'},\n",
       "   {'text': 'sw7 3ex', 'start': 25, 'end': 32, 'label': 'POSTCODE'}],\n",
       "  'row_id': 2}]"
      ]
     },
     "execution_count": 8,
     "metadata": {},
     "output_type": "execute_result"
    }
   ],
   "source": [
    "test[0:3]"
   ]
  },
  {
   "cell_type": "code",
   "execution_count": 5,
   "id": "096863ec",
   "metadata": {},
   "outputs": [],
   "source": [
    "from enhance_ocod.training import convert_weak_labels_to_standard_format, evaluate_weak_labels\n"
   ]
  },
  {
   "cell_type": "code",
   "execution_count": 7,
   "id": "7ef26ca3",
   "metadata": {},
   "outputs": [
    {
     "name": "stdout",
     "output_type": "stream",
     "text": [
      "Evaluating noisy predictions on regex_labels set...\n",
      "Loaded 1000 ground truth examples\n",
      "Loaded 1000 predictions\n"
     ]
    },
    {
     "ename": "ValueError",
     "evalue": "Found input variables with inconsistent numbers of samples:\n[4, 4, 6, 4, 3, 3, 4, 3, 6, 7, 5, 5, 6, 7, 4, 4, 2, 3, 6, 7, 4, 4, 7, 4, 3, 4, 3, 3, 9, 7, 4, 7, 5, 6, 9, 5, 4, 4, 3, 4, 6, 7, 4, 3, 4, 3, 4, 4, 4, 3, 4, 7, 5, 7, 3, 4, 6, 4, 5, 7, 4, 5, 4, 4, 4, 4, 5, 6, 4, 4, 4, 5, 5, 4, 7, 4, 3, 6, 6, 4, 3, 5, 5, 3, 5, 3, 5, 5, 4, 4, 6, 4, 4, 4, 4, 4, 5, 3, 4, 4, 5, 4, 4, 5, 5, 4, 6, 4, 4, 4, 4, 6, 4, 4, 4, 3, 6, 5, 4, 4, 5, 4, 6, 7, 6, 6, 3, 4, 4, 4, 5, 4, 4, 4, 4, 6, 7, 4, 4, 7, 4, 7, 6, 2, 7, 5, 4, 6, 5, 5, 3, 3, 4, 5, 3, 4, 7, 6, 5, 5, 6, 4, 4, 4, 6, 5, 11, 3, 3, 6, 3, 4, 7, 6, 6, 4, 6, 7, 6, 4, 7, 5, 4, 4, 4, 7, 3, 6, 5, 4, 6, 7, 5, 4, 4, 3, 7, 6, 4, 6, 6, 6, 4, 4, 6, 4, 2, 4, 4, 9, 4, 7, 4, 4, 6, 4, 6, 7, 5, 4, 4, 5, 4, 7, 4, 6, 4, 6, 2, 6, 3, 3, 4, 4, 4, 7, 4, 7, 3, 6, 4, 5, 5, 4, 5, 3, 4, 5, 4, 6, 4, 4, 4, 6, 6, 5, 6, 4, 4, 4, 4, 3, 4, 4, 4, 4, 3, 4, 6, 5, 4, 4, 4, 5, 4, 3, 4, 3, 4, 2, 2, 4, 3, 5, 7, 6, 3, 7, 3, 7, 6, 6, 4, 4, 3, 4, 4, 4, 5, 6, 5, 4, 6, 6, 6, 5, 6, 6, 6, 3, 8, 7, 7, 6, 7, 4, 10, 4, 3, 4, 5, 5, 4, 4, 6, 4, 7, 3, 6, 4, 4, 4, 2, 4, 5, 4, 3, 3, 6, 4, 6, 3, 2, 4, 2, 4, 3, 7, 3, 7, 5, 4, 5, 7, 4, 2, 4, 5, 4, 3, 5, 7, 5, 5, 5, 4, 4, 6, 3, 7, 5, 3, 5, 6, 4, 4, 5, 4, 6, 3, 4, 2, 3, 3, 6, 7, 3, 4, 3, 4, 4, 4, 3, 3, 2, 2, 4, 4, 6, 4, 6, 2, 6, 10, 4, 4, 7, 7, 5, 6, 3, 5, 6, 4, 6, 4, 3, 4, 3, 4, 3, 6, 4, 6, 4, 6, 4, 7, 4, 5, 5, 4, 7, 4, 7, 5, 2, 5, 4, 3, 4, 6, 4, 4, 5, 4, 6, 4, 6, 2, 5, 5, 7, 5, 5, 4, 3, 6, 7, 4, 3, 5, 3, 4, 5, 4, 7, 4, 4, 3, 10, 6, 7, 6, 4, 3, 4, 5, 4, 4, 5, 7, 4, 5, 5, 4, 7, 8, 6, 5, 6, 4, 4, 6, 4, 6, 4, 5, 4, 7, 5, 6, 6, 4, 5, 6, 2, 4, 4, 4, 6, 4, 6, 3, 5, 5, 4, 5, 4, 4, 4, 5, 6, 4, 4, 3, 4, 3, 10, 7, 4, 4, 5, 3, 4, 4, 5, 4, 4, 7, 4, 4, 4, 4, 5, 5, 4, 3, 5, 4, 4, 6, 8, 4, 8, 4, 6, 4, 6, 4, 4, 4, 4, 7, 11, 4, 5, 5, 4, 4, 6, 4, 4, 3, 4, 2, 4, 4, 4, 5, 6, 5, 4, 7, 3, 6, 1, 4, 7, 7, 6, 5, 5, 6, 4, 4, 3, 4, 4, 3, 7, 4, 6, 6, 3, 4, 4, 7, 6, 4, 3, 4, 4, 3, 4, 4, 3, 4, 5, 4, 4, 6, 2, 4, 4, 3, 7, 7, 7, 1, 4, 5, 7, 6, 5, 4, 7, 5, 3, 4, 2, 5, 4, 7, 2, 5, 3, 4, 4, 6, 4, 9, 5, 6, 6, 7, 4, 4, 3, 4, 4, 5, 3, 4, 7, 4, 5, 4, 7, 3, 5, 4, 4, 4, 3, 5, 4, 3, 4, 6, 4, 4, 5, 4, 7, 4, 5, 5, 6, 3, 5, 6, 3, 6, 6, 7, 5, 4, 4, 3, 6, 4, 3, 6, 5, 4, 4, 4, 2, 6, 4, 4, 4, 4, 5, 6, 5, 3, 3, 4, 3, 5, 4, 3, 5, 4, 9, 4, 5, 4, 5, 4, 10, 7, 8, 5, 2, 4, 6, 3, 5, 3, 4, 4, 4, 3, 4, 4, 5, 4, 2, 3, 4, 5, 6, 4, 4, 4, 4, 7, 4, 4, 4, 3, 3, 7, 6, 6, 4, 3, 5, 6, 3, 4, 4, 2, 4, 6, 3, 3, 4, 3, 5, 4, 6, 3, 6, 4, 5, 4, 6, 4, 4, 4, 4, 6, 5, 7, 7, 6, 5, 6, 4, 2, 4, 3, 6, 2, 4, 4, 5, 4, 4, 3, 3, 4, 7, 12, 5, 4, 2, 4, 4, 4, 4, 4, 3, 5, 7, 4, 4, 4, 5, 5, 3, 3, 7, 6, 4, 4, 6, 5, 5, 6, 4, 4, 5, 4, 3, 4, 4, 4, 6, 7, 4, 6, 7, 5, 6, 6, 4, 4, 3, 4, 4, 4, 3, 3, 3, 6, 5, 4, 4, 3, 5, 7, 6, 5, 7, 6, 2, 6, 7, 4, 9, 7, 3, 6, 5, 4, 5, 4, 6, 6, 4, 6, 6, 6, 2, 6, 3, 6, 5, 6, 6, 4, 4, 3, 4, 6, 6, 5, 6, 6, 4, 7, 6, 5, 4, 4, 4, 6, 11, 7, 5, 5, 4, 5, 6, 3, 4, 4, 6, 5, 6, 5, 5, 4, 4, 4, 4, 2, 6, 4, 5, 4, 5, 6, 4, 4, 2, 3, 2, 4, 4, 3, 3, 4, 7, 6, 4, 5, 4, 6, 3, 4, 4, 4, 5, 4, 5, 6, 4, 7, 7, 3, 5, 3, 4, 5, 4, 4, 3, 7, 7, 4, 6, 4, 6, 3, 4, 7, 7, 5, 6, 7, 6, 5, 5, 4]\n[4, 2, 4, 3, 3, 4, 2, 4, 2, 4, 3, 4, 4, 1, 1, 3, 1, 1, 2, 2, 3, 1, 1, 1, 2, 4, 3, 2, 2, 2, 3, 1, 4, 2, 2, 2, 2, 2, 4, 2, 2, 2, 4, 3, 4, 2, 2, 5, 5, 2, 3, 4, 4, 4, 4, 7, 2, 3, 3, 4, 5, 4, 4, 4, 4, 2, 4, 4, 2, 4, 3, 6, 8, 4, 4, 6, 4, 3, 4, 5, 4, 4, 9, 4, 7, 5, 4, 5, 1, 4, 2, 2, 6, 5, 7, 5, 9, 7, 2, 6, 4, 3, 4, 5, 4, 3, 4, 4, 6, 4, 4, 4, 4, 3, 5, 4, 4, 5, 4, 2, 3, 2, 4, 5, 4, 4, 4, 4, 4, 4, 5, 4, 6, 5, 2, 4, 4, 2, 4, 6, 5, 2, 4, 4, 4, 4, 4, 4, 6, 4, 6, 2, 4, 6, 5, 4, 5, 9, 4, 6, 5, 5, 5, 4, 8, 5, 5, 7, 7, 5, 6, 6, 6, 4, 3, 4, 5, 3, 4, 6, 2, 4, 4, 4, 4, 4, 4, 4, 4, 3, 3, 4, 4, 4, 4, 2, 7, 3, 5, 5, 4, 6, 4, 3, 7, 2, 5, 2, 2, 4, 4, 3, 4, 5, 3, 2, 9, 6, 4, 3, 2, 3, 6, 4, 7, 2, 4, 4, 4, 2, 4, 4, 4, 3, 3, 2, 4, 4, 6, 4, 4, 2, 4, 2, 2, 3, 3, 6, 6, 4, 4, 4, 4, 4, 2, 4, 6, 4, 5, 4, 4, 1, 4, 4, 5, 3, 5, 2, 4, 5, 4, 5, 2, 2, 4, 3, 3, 3, 5, 2, 4, 3, 4, 4, 7, 4, 3, 3, 4, 3, 3, 2, 4, 4, 2, 4, 4, 1, 3, 4, 4, 4, 8, 1, 5, 3, 5, 5, 6, 5, 5, 5, 2, 7, 7, 4, 6, 5, 4, 6, 7, 6, 7, 7, 6, 5, 4, 3, 5, 5, 7, 6, 3, 6, 3, 4, 3, 6, 4, 5, 5, 4, 6, 4, 5, 5, 5, 5, 7, 7, 9, 4, 7, 5, 5, 3, 6, 5, 6, 6, 6, 6, 6, 6, 5, 2, 5, 6, 5, 6, 6, 4, 3, 6, 4, 6, 5, 5, 6, 5, 2, 3, 6, 5, 5, 4, 6, 6, 6, 5, 5, 4, 6, 5, 6, 4, 5, 2, 5, 7, 2, 5, 6, 7, 6, 6, 3, 5, 4, 3, 5, 6, 3, 4, 3, 3, 6, 5, 4, 5, 6, 3, 4, 4, 3, 4, 4, 2, 6, 5, 5, 5, 5, 5, 4, 6, 2, 5, 4, 5, 6, 3, 3, 7, 5, 2, 2, 7, 3, 4, 3, 2, 3, 5, 5, 5, 3, 7, 5, 7, 5, 3, 4, 2, 4, 6, 4, 5, 5, 4, 6, 2, 6, 3, 6, 7, 7, 4, 3, 2, 4, 5, 6, 7, 6, 3, 6, 6, 4, 5, 4, 5, 5, 3, 4, 6, 6, 5, 3, 6, 4, 6, 6, 4, 5, 4, 6, 4, 3, 4, 6, 5, 5, 4, 3, 5, 2, 5, 4, 4, 5, 5, 1, 4, 6, 6, 6, 6, 5, 4, 5, 3, 3, 3, 4, 3, 5, 3, 3, 4, 6, 6, 6, 3, 5, 6, 2, 4, 2, 4, 3, 3, 4, 4, 4, 3, 5, 5, 6, 6, 5, 6, 4, 5, 5, 4, 5, 5, 4, 2, 4, 4, 4, 4, 4, 4, 4, 4, 4, 4, 4, 6, 4, 3, 7, 3, 4, 4, 6, 1, 5, 3, 3, 1, 4, 6, 6, 6, 4, 4, 3, 2, 7, 7, 3, 2, 4, 2, 4, 3, 5, 5, 5, 7, 3, 3, 6, 5, 3, 5, 2, 3, 4, 5, 6, 3, 5, 6, 3, 5, 5, 3, 4, 4, 4, 4, 4, 4, 4, 5, 2, 4, 4, 4, 4, 2, 5, 4, 4, 3, 3, 2, 6, 5, 2, 5, 5, 4, 2, 4, 5, 5, 5, 1, 4, 5, 4, 4, 3, 4, 5, 5, 4, 4, 3, 3, 3, 5, 5, 4, 5, 2, 2, 2, 4, 7, 3, 4, 5, 3, 5, 6, 5, 7, 3, 3, 6, 4, 5, 2, 5, 2, 2, 2, 5, 3, 4, 1, 3, 1, 5, 5, 4, 6, 5, 4, 5, 6, 5, 5, 5, 3, 4, 5, 2, 4, 4, 4, 4, 4, 3, 6, 4, 2, 4, 4, 4, 7, 4, 4, 4, 2, 3, 2, 5, 4, 7, 2, 4, 4, 2, 3, 4, 4, 4, 4, 4, 2, 3, 4, 4, 2, 7, 4, 4, 8, 3, 8, 4, 5, 4, 3, 4, 4, 4, 4, 3, 4, 4, 4, 4, 4, 4, 4, 4, 5, 2, 2, 6, 2, 2, 4, 3, 2, 3, 4, 6, 4, 2, 4, 2, 5, 5, 2, 5, 3, 1, 4, 4, 4, 5, 4, 4, 4, 4, 5, 3, 5, 6, 4, 6, 3, 5, 4, 3, 4, 3, 4, 6, 4, 4, 4, 5, 4, 5, 5, 6, 4, 4, 5, 5, 6, 3, 5, 7, 4, 3, 2, 2, 4, 2, 3, 3, 3, 3, 4, 4, 4, 4, 5, 4, 3, 3, 3, 2, 4, 5, 3, 2, 4, 5, 4, 4, 3, 6, 4, 3, 4, 4, 4, 6, 4, 4, 7, 4, 4, 4, 4, 2, 4, 4, 3, 4, 4, 4, 4, 4, 5, 5, 4, 4, 4, 2, 2, 6, 2, 4, 6, 5, 2, 4, 6, 3, 4, 4, 6, 4, 7, 4, 2, 2, 4, 4, 4, 4, 4, 2, 4, 4, 2, 2, 2, 3, 4, 4, 4, 1, 5, 5, 2, 6, 3, 5, 2, 0, 2, 4, 6, 4, 6, 5, 4, 8, 4, 5, 6, 3, 7, 7, 4, 6, 5, 3, 10, 7, 4, 6, 2, 4, 5, 4, 3, 6, 4, 4, 4, 5, 4, 4, 4, 5, 4, 4, 4, 4, 4, 4, 4, 4, 4, 4, 7, 4, 4, 5, 4, 5, 4, 6, 4]",
     "output_type": "error",
     "traceback": [
      "\u001b[0;31m---------------------------------------------------------------------------\u001b[0m",
      "\u001b[0;31mValueError\u001b[0m                                Traceback (most recent call last)",
      "Cell \u001b[0;32mIn[7], line 3\u001b[0m\n\u001b[1;32m      1\u001b[0m test2 \u001b[38;5;241m=\u001b[39m convert_weak_labels_to_standard_format(test)\n\u001b[0;32m----> 3\u001b[0m overall_results, class_df \u001b[38;5;241m=\u001b[39m \u001b[43mevaluate_weak_labels\u001b[49m\u001b[43m(\u001b[49m\u001b[43mtest2\u001b[49m\u001b[43m,\u001b[49m\u001b[43m \u001b[49m\n\u001b[1;32m      4\u001b[0m \u001b[43m    \u001b[49m\u001b[38;5;124;43m\"\u001b[39;49m\u001b[38;5;124;43mdata/training_data/ner_ready/ground_truth_test_set_labels.json\u001b[39;49m\u001b[38;5;124;43m\"\u001b[39;49m\u001b[43m,\u001b[49m\u001b[43m \u001b[49m\n\u001b[1;32m      5\u001b[0m \u001b[43m    \u001b[49m\u001b[38;5;124;43m\"\u001b[39;49m\u001b[38;5;124;43menhance_ocod/data/model_performance\u001b[39;49m\u001b[38;5;124;43m\"\u001b[39;49m\u001b[43m,\u001b[49m\u001b[43m \u001b[49m\n\u001b[1;32m      6\u001b[0m \u001b[43m    \u001b[49m\u001b[38;5;124;43m'\u001b[39;49m\u001b[38;5;124;43mregex_labels\u001b[39;49m\u001b[38;5;124;43m'\u001b[39;49m\u001b[43m)\u001b[49m\n",
      "File \u001b[0;32m~/enhance_ocod/src/enhance_ocod/training.py:508\u001b[0m, in \u001b[0;36mevaluate_weak_labels\u001b[0;34m(noisy_predictions, ground_truth_path, output_dir, dataset_name)\u001b[0m\n\u001b[1;32m    505\u001b[0m     y_pred \u001b[38;5;241m=\u001b[39m to_seqeval_format(noisy_predictions_clean)\n\u001b[1;32m    507\u001b[0m     \u001b[38;5;66;03m# Use shared evaluation core\u001b[39;00m\n\u001b[0;32m--> 508\u001b[0m     \u001b[38;5;28;01mreturn\u001b[39;00m \u001b[43m_evaluate_predictions_core\u001b[49m\u001b[43m(\u001b[49m\n\u001b[1;32m    509\u001b[0m \u001b[43m        \u001b[49m\u001b[43my_true\u001b[49m\u001b[38;5;241;43m=\u001b[39;49m\u001b[43my_true\u001b[49m\u001b[43m,\u001b[49m\n\u001b[1;32m    510\u001b[0m \u001b[43m        \u001b[49m\u001b[43my_pred\u001b[49m\u001b[38;5;241;43m=\u001b[39;49m\u001b[43my_pred\u001b[49m\u001b[43m,\u001b[49m\u001b[43m \u001b[49m\n\u001b[1;32m    511\u001b[0m \u001b[43m        \u001b[49m\u001b[43msystem_identifier\u001b[49m\u001b[38;5;241;43m=\u001b[39;49m\u001b[38;5;124;43m\"\u001b[39;49m\u001b[38;5;124;43mnoisy_ner_system\u001b[39;49m\u001b[38;5;124;43m\"\u001b[39;49m\u001b[43m,\u001b[49m\n\u001b[1;32m    512\u001b[0m \u001b[43m        \u001b[49m\u001b[43mdataset_name\u001b[49m\u001b[38;5;241;43m=\u001b[39;49m\u001b[43mdataset_name\u001b[49m\u001b[43m,\u001b[49m\n\u001b[1;32m    513\u001b[0m \u001b[43m        \u001b[49m\u001b[43mnum_examples\u001b[49m\u001b[38;5;241;43m=\u001b[39;49m\u001b[38;5;28;43mlen\u001b[39;49m\u001b[43m(\u001b[49m\u001b[43my_true\u001b[49m\u001b[43m)\u001b[49m\u001b[43m,\u001b[49m\n\u001b[1;32m    514\u001b[0m \u001b[43m        \u001b[49m\u001b[43moutput_dir\u001b[49m\u001b[38;5;241;43m=\u001b[39;49m\u001b[43moutput_dir\u001b[49m\n\u001b[1;32m    515\u001b[0m \u001b[43m)\u001b[49m\n",
      "File \u001b[0;32m~/enhance_ocod/src/enhance_ocod/training.py:366\u001b[0m, in \u001b[0;36m_evaluate_predictions_core\u001b[0;34m(y_true, y_pred, system_identifier, dataset_name, num_examples, output_dir)\u001b[0m\n\u001b[1;32m    363\u001b[0m \u001b[38;5;28;01mfrom\u001b[39;00m\u001b[38;5;250m \u001b[39m\u001b[38;5;21;01mseqeval\u001b[39;00m\u001b[38;5;21;01m.\u001b[39;00m\u001b[38;5;21;01mmetrics\u001b[39;00m\u001b[38;5;250m \u001b[39m\u001b[38;5;28;01mimport\u001b[39;00m f1_score, precision_score, recall_score, classification_report\n\u001b[1;32m    365\u001b[0m \u001b[38;5;66;03m# Calculate metrics\u001b[39;00m\n\u001b[0;32m--> 366\u001b[0m overall_f1 \u001b[38;5;241m=\u001b[39m \u001b[43mf1_score\u001b[49m\u001b[43m(\u001b[49m\u001b[43my_true\u001b[49m\u001b[43m,\u001b[49m\u001b[43m \u001b[49m\u001b[43my_pred\u001b[49m\u001b[43m)\u001b[49m\n\u001b[1;32m    367\u001b[0m overall_precision \u001b[38;5;241m=\u001b[39m precision_score(y_true, y_pred)\n\u001b[1;32m    368\u001b[0m overall_recall \u001b[38;5;241m=\u001b[39m recall_score(y_true, y_pred)\n",
      "File \u001b[0;32m/home/zeus/miniconda3/envs/cloudspace/lib/python3.10/site-packages/seqeval/metrics/sequence_labeling.py:359\u001b[0m, in \u001b[0;36mf1_score\u001b[0;34m(y_true, y_pred, average, suffix, mode, sample_weight, zero_division, scheme)\u001b[0m\n\u001b[1;32m    350\u001b[0m     _, _, f, _ \u001b[38;5;241m=\u001b[39m precision_recall_fscore_support_v1(y_true, y_pred,\n\u001b[1;32m    351\u001b[0m                                                     average\u001b[38;5;241m=\u001b[39maverage,\n\u001b[1;32m    352\u001b[0m                                                     warn_for\u001b[38;5;241m=\u001b[39m(\u001b[38;5;124m'\u001b[39m\u001b[38;5;124mf-score\u001b[39m\u001b[38;5;124m'\u001b[39m,),\n\u001b[0;32m   (...)\u001b[0m\n\u001b[1;32m    356\u001b[0m                                                     scheme\u001b[38;5;241m=\u001b[39mscheme,\n\u001b[1;32m    357\u001b[0m                                                     suffix\u001b[38;5;241m=\u001b[39msuffix)\n\u001b[1;32m    358\u001b[0m \u001b[38;5;28;01melse\u001b[39;00m:\n\u001b[0;32m--> 359\u001b[0m     _, _, f, _ \u001b[38;5;241m=\u001b[39m \u001b[43mprecision_recall_fscore_support\u001b[49m\u001b[43m(\u001b[49m\u001b[43my_true\u001b[49m\u001b[43m,\u001b[49m\u001b[43m \u001b[49m\u001b[43my_pred\u001b[49m\u001b[43m,\u001b[49m\n\u001b[1;32m    360\u001b[0m \u001b[43m                                                 \u001b[49m\u001b[43maverage\u001b[49m\u001b[38;5;241;43m=\u001b[39;49m\u001b[43maverage\u001b[49m\u001b[43m,\u001b[49m\n\u001b[1;32m    361\u001b[0m \u001b[43m                                                 \u001b[49m\u001b[43mwarn_for\u001b[49m\u001b[38;5;241;43m=\u001b[39;49m\u001b[43m(\u001b[49m\u001b[38;5;124;43m'\u001b[39;49m\u001b[38;5;124;43mf-score\u001b[39;49m\u001b[38;5;124;43m'\u001b[39;49m\u001b[43m,\u001b[49m\u001b[43m)\u001b[49m\u001b[43m,\u001b[49m\n\u001b[1;32m    362\u001b[0m \u001b[43m                                                 \u001b[49m\u001b[43mbeta\u001b[49m\u001b[38;5;241;43m=\u001b[39;49m\u001b[38;5;241;43m1\u001b[39;49m\u001b[43m,\u001b[49m\n\u001b[1;32m    363\u001b[0m \u001b[43m                                                 \u001b[49m\u001b[43msample_weight\u001b[49m\u001b[38;5;241;43m=\u001b[39;49m\u001b[43msample_weight\u001b[49m\u001b[43m,\u001b[49m\n\u001b[1;32m    364\u001b[0m \u001b[43m                                                 \u001b[49m\u001b[43mzero_division\u001b[49m\u001b[38;5;241;43m=\u001b[39;49m\u001b[43mzero_division\u001b[49m\u001b[43m,\u001b[49m\n\u001b[1;32m    365\u001b[0m \u001b[43m                                                 \u001b[49m\u001b[43msuffix\u001b[49m\u001b[38;5;241;43m=\u001b[39;49m\u001b[43msuffix\u001b[49m\u001b[43m)\u001b[49m\n\u001b[1;32m    366\u001b[0m \u001b[38;5;28;01mreturn\u001b[39;00m f\n",
      "File \u001b[0;32m/home/zeus/miniconda3/envs/cloudspace/lib/python3.10/site-packages/seqeval/metrics/sequence_labeling.py:130\u001b[0m, in \u001b[0;36mprecision_recall_fscore_support\u001b[0;34m(y_true, y_pred, average, warn_for, beta, sample_weight, zero_division, suffix)\u001b[0m\n\u001b[1;32m    126\u001b[0m         true_sum \u001b[38;5;241m=\u001b[39m np\u001b[38;5;241m.\u001b[39mappend(true_sum, \u001b[38;5;28mlen\u001b[39m(entities_true_type))\n\u001b[1;32m    128\u001b[0m     \u001b[38;5;28;01mreturn\u001b[39;00m pred_sum, tp_sum, true_sum\n\u001b[0;32m--> 130\u001b[0m precision, recall, f_score, true_sum \u001b[38;5;241m=\u001b[39m \u001b[43m_precision_recall_fscore_support\u001b[49m\u001b[43m(\u001b[49m\n\u001b[1;32m    131\u001b[0m \u001b[43m    \u001b[49m\u001b[43my_true\u001b[49m\u001b[43m,\u001b[49m\u001b[43m \u001b[49m\u001b[43my_pred\u001b[49m\u001b[43m,\u001b[49m\n\u001b[1;32m    132\u001b[0m \u001b[43m    \u001b[49m\u001b[43maverage\u001b[49m\u001b[38;5;241;43m=\u001b[39;49m\u001b[43maverage\u001b[49m\u001b[43m,\u001b[49m\n\u001b[1;32m    133\u001b[0m \u001b[43m    \u001b[49m\u001b[43mwarn_for\u001b[49m\u001b[38;5;241;43m=\u001b[39;49m\u001b[43mwarn_for\u001b[49m\u001b[43m,\u001b[49m\n\u001b[1;32m    134\u001b[0m \u001b[43m    \u001b[49m\u001b[43mbeta\u001b[49m\u001b[38;5;241;43m=\u001b[39;49m\u001b[43mbeta\u001b[49m\u001b[43m,\u001b[49m\n\u001b[1;32m    135\u001b[0m \u001b[43m    \u001b[49m\u001b[43msample_weight\u001b[49m\u001b[38;5;241;43m=\u001b[39;49m\u001b[43msample_weight\u001b[49m\u001b[43m,\u001b[49m\n\u001b[1;32m    136\u001b[0m \u001b[43m    \u001b[49m\u001b[43mzero_division\u001b[49m\u001b[38;5;241;43m=\u001b[39;49m\u001b[43mzero_division\u001b[49m\u001b[43m,\u001b[49m\n\u001b[1;32m    137\u001b[0m \u001b[43m    \u001b[49m\u001b[43mscheme\u001b[49m\u001b[38;5;241;43m=\u001b[39;49m\u001b[38;5;28;43;01mNone\u001b[39;49;00m\u001b[43m,\u001b[49m\n\u001b[1;32m    138\u001b[0m \u001b[43m    \u001b[49m\u001b[43msuffix\u001b[49m\u001b[38;5;241;43m=\u001b[39;49m\u001b[43msuffix\u001b[49m\u001b[43m,\u001b[49m\n\u001b[1;32m    139\u001b[0m \u001b[43m    \u001b[49m\u001b[43mextract_tp_actual_correct\u001b[49m\u001b[38;5;241;43m=\u001b[39;49m\u001b[43mextract_tp_actual_correct\u001b[49m\n\u001b[1;32m    140\u001b[0m \u001b[43m\u001b[49m\u001b[43m)\u001b[49m\n\u001b[1;32m    142\u001b[0m \u001b[38;5;28;01mreturn\u001b[39;00m precision, recall, f_score, true_sum\n",
      "File \u001b[0;32m/home/zeus/miniconda3/envs/cloudspace/lib/python3.10/site-packages/seqeval/metrics/v1.py:122\u001b[0m, in \u001b[0;36m_precision_recall_fscore_support\u001b[0;34m(y_true, y_pred, average, warn_for, beta, sample_weight, zero_division, scheme, suffix, extract_tp_actual_correct)\u001b[0m\n\u001b[1;32m    119\u001b[0m \u001b[38;5;28;01mif\u001b[39;00m average \u001b[38;5;129;01mnot\u001b[39;00m \u001b[38;5;129;01min\u001b[39;00m average_options:\n\u001b[1;32m    120\u001b[0m     \u001b[38;5;28;01mraise\u001b[39;00m \u001b[38;5;167;01mValueError\u001b[39;00m(\u001b[38;5;124m'\u001b[39m\u001b[38;5;124maverage has to be one of \u001b[39m\u001b[38;5;132;01m{}\u001b[39;00m\u001b[38;5;124m'\u001b[39m\u001b[38;5;241m.\u001b[39mformat(average_options))\n\u001b[0;32m--> 122\u001b[0m \u001b[43mcheck_consistent_length\u001b[49m\u001b[43m(\u001b[49m\u001b[43my_true\u001b[49m\u001b[43m,\u001b[49m\u001b[43m \u001b[49m\u001b[43my_pred\u001b[49m\u001b[43m)\u001b[49m\n\u001b[1;32m    124\u001b[0m pred_sum, tp_sum, true_sum \u001b[38;5;241m=\u001b[39m extract_tp_actual_correct(y_true, y_pred, suffix, scheme)\n\u001b[1;32m    126\u001b[0m \u001b[38;5;28;01mif\u001b[39;00m average \u001b[38;5;241m==\u001b[39m \u001b[38;5;124m'\u001b[39m\u001b[38;5;124mmicro\u001b[39m\u001b[38;5;124m'\u001b[39m:\n",
      "File \u001b[0;32m/home/zeus/miniconda3/envs/cloudspace/lib/python3.10/site-packages/seqeval/metrics/v1.py:101\u001b[0m, in \u001b[0;36mcheck_consistent_length\u001b[0;34m(y_true, y_pred)\u001b[0m\n\u001b[1;32m     99\u001b[0m \u001b[38;5;28;01mif\u001b[39;00m \u001b[38;5;28mlen\u001b[39m(y_true) \u001b[38;5;241m!=\u001b[39m \u001b[38;5;28mlen\u001b[39m(y_pred) \u001b[38;5;129;01mor\u001b[39;00m len_true \u001b[38;5;241m!=\u001b[39m len_pred:\n\u001b[1;32m    100\u001b[0m     message \u001b[38;5;241m=\u001b[39m \u001b[38;5;124m'\u001b[39m\u001b[38;5;124mFound input variables with inconsistent numbers of samples:\u001b[39m\u001b[38;5;130;01m\\n\u001b[39;00m\u001b[38;5;132;01m{}\u001b[39;00m\u001b[38;5;130;01m\\n\u001b[39;00m\u001b[38;5;132;01m{}\u001b[39;00m\u001b[38;5;124m'\u001b[39m\u001b[38;5;241m.\u001b[39mformat(len_true, len_pred)\n\u001b[0;32m--> 101\u001b[0m     \u001b[38;5;28;01mraise\u001b[39;00m \u001b[38;5;167;01mValueError\u001b[39;00m(message)\n",
      "\u001b[0;31mValueError\u001b[0m: Found input variables with inconsistent numbers of samples:\n[4, 4, 6, 4, 3, 3, 4, 3, 6, 7, 5, 5, 6, 7, 4, 4, 2, 3, 6, 7, 4, 4, 7, 4, 3, 4, 3, 3, 9, 7, 4, 7, 5, 6, 9, 5, 4, 4, 3, 4, 6, 7, 4, 3, 4, 3, 4, 4, 4, 3, 4, 7, 5, 7, 3, 4, 6, 4, 5, 7, 4, 5, 4, 4, 4, 4, 5, 6, 4, 4, 4, 5, 5, 4, 7, 4, 3, 6, 6, 4, 3, 5, 5, 3, 5, 3, 5, 5, 4, 4, 6, 4, 4, 4, 4, 4, 5, 3, 4, 4, 5, 4, 4, 5, 5, 4, 6, 4, 4, 4, 4, 6, 4, 4, 4, 3, 6, 5, 4, 4, 5, 4, 6, 7, 6, 6, 3, 4, 4, 4, 5, 4, 4, 4, 4, 6, 7, 4, 4, 7, 4, 7, 6, 2, 7, 5, 4, 6, 5, 5, 3, 3, 4, 5, 3, 4, 7, 6, 5, 5, 6, 4, 4, 4, 6, 5, 11, 3, 3, 6, 3, 4, 7, 6, 6, 4, 6, 7, 6, 4, 7, 5, 4, 4, 4, 7, 3, 6, 5, 4, 6, 7, 5, 4, 4, 3, 7, 6, 4, 6, 6, 6, 4, 4, 6, 4, 2, 4, 4, 9, 4, 7, 4, 4, 6, 4, 6, 7, 5, 4, 4, 5, 4, 7, 4, 6, 4, 6, 2, 6, 3, 3, 4, 4, 4, 7, 4, 7, 3, 6, 4, 5, 5, 4, 5, 3, 4, 5, 4, 6, 4, 4, 4, 6, 6, 5, 6, 4, 4, 4, 4, 3, 4, 4, 4, 4, 3, 4, 6, 5, 4, 4, 4, 5, 4, 3, 4, 3, 4, 2, 2, 4, 3, 5, 7, 6, 3, 7, 3, 7, 6, 6, 4, 4, 3, 4, 4, 4, 5, 6, 5, 4, 6, 6, 6, 5, 6, 6, 6, 3, 8, 7, 7, 6, 7, 4, 10, 4, 3, 4, 5, 5, 4, 4, 6, 4, 7, 3, 6, 4, 4, 4, 2, 4, 5, 4, 3, 3, 6, 4, 6, 3, 2, 4, 2, 4, 3, 7, 3, 7, 5, 4, 5, 7, 4, 2, 4, 5, 4, 3, 5, 7, 5, 5, 5, 4, 4, 6, 3, 7, 5, 3, 5, 6, 4, 4, 5, 4, 6, 3, 4, 2, 3, 3, 6, 7, 3, 4, 3, 4, 4, 4, 3, 3, 2, 2, 4, 4, 6, 4, 6, 2, 6, 10, 4, 4, 7, 7, 5, 6, 3, 5, 6, 4, 6, 4, 3, 4, 3, 4, 3, 6, 4, 6, 4, 6, 4, 7, 4, 5, 5, 4, 7, 4, 7, 5, 2, 5, 4, 3, 4, 6, 4, 4, 5, 4, 6, 4, 6, 2, 5, 5, 7, 5, 5, 4, 3, 6, 7, 4, 3, 5, 3, 4, 5, 4, 7, 4, 4, 3, 10, 6, 7, 6, 4, 3, 4, 5, 4, 4, 5, 7, 4, 5, 5, 4, 7, 8, 6, 5, 6, 4, 4, 6, 4, 6, 4, 5, 4, 7, 5, 6, 6, 4, 5, 6, 2, 4, 4, 4, 6, 4, 6, 3, 5, 5, 4, 5, 4, 4, 4, 5, 6, 4, 4, 3, 4, 3, 10, 7, 4, 4, 5, 3, 4, 4, 5, 4, 4, 7, 4, 4, 4, 4, 5, 5, 4, 3, 5, 4, 4, 6, 8, 4, 8, 4, 6, 4, 6, 4, 4, 4, 4, 7, 11, 4, 5, 5, 4, 4, 6, 4, 4, 3, 4, 2, 4, 4, 4, 5, 6, 5, 4, 7, 3, 6, 1, 4, 7, 7, 6, 5, 5, 6, 4, 4, 3, 4, 4, 3, 7, 4, 6, 6, 3, 4, 4, 7, 6, 4, 3, 4, 4, 3, 4, 4, 3, 4, 5, 4, 4, 6, 2, 4, 4, 3, 7, 7, 7, 1, 4, 5, 7, 6, 5, 4, 7, 5, 3, 4, 2, 5, 4, 7, 2, 5, 3, 4, 4, 6, 4, 9, 5, 6, 6, 7, 4, 4, 3, 4, 4, 5, 3, 4, 7, 4, 5, 4, 7, 3, 5, 4, 4, 4, 3, 5, 4, 3, 4, 6, 4, 4, 5, 4, 7, 4, 5, 5, 6, 3, 5, 6, 3, 6, 6, 7, 5, 4, 4, 3, 6, 4, 3, 6, 5, 4, 4, 4, 2, 6, 4, 4, 4, 4, 5, 6, 5, 3, 3, 4, 3, 5, 4, 3, 5, 4, 9, 4, 5, 4, 5, 4, 10, 7, 8, 5, 2, 4, 6, 3, 5, 3, 4, 4, 4, 3, 4, 4, 5, 4, 2, 3, 4, 5, 6, 4, 4, 4, 4, 7, 4, 4, 4, 3, 3, 7, 6, 6, 4, 3, 5, 6, 3, 4, 4, 2, 4, 6, 3, 3, 4, 3, 5, 4, 6, 3, 6, 4, 5, 4, 6, 4, 4, 4, 4, 6, 5, 7, 7, 6, 5, 6, 4, 2, 4, 3, 6, 2, 4, 4, 5, 4, 4, 3, 3, 4, 7, 12, 5, 4, 2, 4, 4, 4, 4, 4, 3, 5, 7, 4, 4, 4, 5, 5, 3, 3, 7, 6, 4, 4, 6, 5, 5, 6, 4, 4, 5, 4, 3, 4, 4, 4, 6, 7, 4, 6, 7, 5, 6, 6, 4, 4, 3, 4, 4, 4, 3, 3, 3, 6, 5, 4, 4, 3, 5, 7, 6, 5, 7, 6, 2, 6, 7, 4, 9, 7, 3, 6, 5, 4, 5, 4, 6, 6, 4, 6, 6, 6, 2, 6, 3, 6, 5, 6, 6, 4, 4, 3, 4, 6, 6, 5, 6, 6, 4, 7, 6, 5, 4, 4, 4, 6, 11, 7, 5, 5, 4, 5, 6, 3, 4, 4, 6, 5, 6, 5, 5, 4, 4, 4, 4, 2, 6, 4, 5, 4, 5, 6, 4, 4, 2, 3, 2, 4, 4, 3, 3, 4, 7, 6, 4, 5, 4, 6, 3, 4, 4, 4, 5, 4, 5, 6, 4, 7, 7, 3, 5, 3, 4, 5, 4, 4, 3, 7, 7, 4, 6, 4, 6, 3, 4, 7, 7, 5, 6, 7, 6, 5, 5, 4]\n[4, 2, 4, 3, 3, 4, 2, 4, 2, 4, 3, 4, 4, 1, 1, 3, 1, 1, 2, 2, 3, 1, 1, 1, 2, 4, 3, 2, 2, 2, 3, 1, 4, 2, 2, 2, 2, 2, 4, 2, 2, 2, 4, 3, 4, 2, 2, 5, 5, 2, 3, 4, 4, 4, 4, 7, 2, 3, 3, 4, 5, 4, 4, 4, 4, 2, 4, 4, 2, 4, 3, 6, 8, 4, 4, 6, 4, 3, 4, 5, 4, 4, 9, 4, 7, 5, 4, 5, 1, 4, 2, 2, 6, 5, 7, 5, 9, 7, 2, 6, 4, 3, 4, 5, 4, 3, 4, 4, 6, 4, 4, 4, 4, 3, 5, 4, 4, 5, 4, 2, 3, 2, 4, 5, 4, 4, 4, 4, 4, 4, 5, 4, 6, 5, 2, 4, 4, 2, 4, 6, 5, 2, 4, 4, 4, 4, 4, 4, 6, 4, 6, 2, 4, 6, 5, 4, 5, 9, 4, 6, 5, 5, 5, 4, 8, 5, 5, 7, 7, 5, 6, 6, 6, 4, 3, 4, 5, 3, 4, 6, 2, 4, 4, 4, 4, 4, 4, 4, 4, 3, 3, 4, 4, 4, 4, 2, 7, 3, 5, 5, 4, 6, 4, 3, 7, 2, 5, 2, 2, 4, 4, 3, 4, 5, 3, 2, 9, 6, 4, 3, 2, 3, 6, 4, 7, 2, 4, 4, 4, 2, 4, 4, 4, 3, 3, 2, 4, 4, 6, 4, 4, 2, 4, 2, 2, 3, 3, 6, 6, 4, 4, 4, 4, 4, 2, 4, 6, 4, 5, 4, 4, 1, 4, 4, 5, 3, 5, 2, 4, 5, 4, 5, 2, 2, 4, 3, 3, 3, 5, 2, 4, 3, 4, 4, 7, 4, 3, 3, 4, 3, 3, 2, 4, 4, 2, 4, 4, 1, 3, 4, 4, 4, 8, 1, 5, 3, 5, 5, 6, 5, 5, 5, 2, 7, 7, 4, 6, 5, 4, 6, 7, 6, 7, 7, 6, 5, 4, 3, 5, 5, 7, 6, 3, 6, 3, 4, 3, 6, 4, 5, 5, 4, 6, 4, 5, 5, 5, 5, 7, 7, 9, 4, 7, 5, 5, 3, 6, 5, 6, 6, 6, 6, 6, 6, 5, 2, 5, 6, 5, 6, 6, 4, 3, 6, 4, 6, 5, 5, 6, 5, 2, 3, 6, 5, 5, 4, 6, 6, 6, 5, 5, 4, 6, 5, 6, 4, 5, 2, 5, 7, 2, 5, 6, 7, 6, 6, 3, 5, 4, 3, 5, 6, 3, 4, 3, 3, 6, 5, 4, 5, 6, 3, 4, 4, 3, 4, 4, 2, 6, 5, 5, 5, 5, 5, 4, 6, 2, 5, 4, 5, 6, 3, 3, 7, 5, 2, 2, 7, 3, 4, 3, 2, 3, 5, 5, 5, 3, 7, 5, 7, 5, 3, 4, 2, 4, 6, 4, 5, 5, 4, 6, 2, 6, 3, 6, 7, 7, 4, 3, 2, 4, 5, 6, 7, 6, 3, 6, 6, 4, 5, 4, 5, 5, 3, 4, 6, 6, 5, 3, 6, 4, 6, 6, 4, 5, 4, 6, 4, 3, 4, 6, 5, 5, 4, 3, 5, 2, 5, 4, 4, 5, 5, 1, 4, 6, 6, 6, 6, 5, 4, 5, 3, 3, 3, 4, 3, 5, 3, 3, 4, 6, 6, 6, 3, 5, 6, 2, 4, 2, 4, 3, 3, 4, 4, 4, 3, 5, 5, 6, 6, 5, 6, 4, 5, 5, 4, 5, 5, 4, 2, 4, 4, 4, 4, 4, 4, 4, 4, 4, 4, 4, 6, 4, 3, 7, 3, 4, 4, 6, 1, 5, 3, 3, 1, 4, 6, 6, 6, 4, 4, 3, 2, 7, 7, 3, 2, 4, 2, 4, 3, 5, 5, 5, 7, 3, 3, 6, 5, 3, 5, 2, 3, 4, 5, 6, 3, 5, 6, 3, 5, 5, 3, 4, 4, 4, 4, 4, 4, 4, 5, 2, 4, 4, 4, 4, 2, 5, 4, 4, 3, 3, 2, 6, 5, 2, 5, 5, 4, 2, 4, 5, 5, 5, 1, 4, 5, 4, 4, 3, 4, 5, 5, 4, 4, 3, 3, 3, 5, 5, 4, 5, 2, 2, 2, 4, 7, 3, 4, 5, 3, 5, 6, 5, 7, 3, 3, 6, 4, 5, 2, 5, 2, 2, 2, 5, 3, 4, 1, 3, 1, 5, 5, 4, 6, 5, 4, 5, 6, 5, 5, 5, 3, 4, 5, 2, 4, 4, 4, 4, 4, 3, 6, 4, 2, 4, 4, 4, 7, 4, 4, 4, 2, 3, 2, 5, 4, 7, 2, 4, 4, 2, 3, 4, 4, 4, 4, 4, 2, 3, 4, 4, 2, 7, 4, 4, 8, 3, 8, 4, 5, 4, 3, 4, 4, 4, 4, 3, 4, 4, 4, 4, 4, 4, 4, 4, 5, 2, 2, 6, 2, 2, 4, 3, 2, 3, 4, 6, 4, 2, 4, 2, 5, 5, 2, 5, 3, 1, 4, 4, 4, 5, 4, 4, 4, 4, 5, 3, 5, 6, 4, 6, 3, 5, 4, 3, 4, 3, 4, 6, 4, 4, 4, 5, 4, 5, 5, 6, 4, 4, 5, 5, 6, 3, 5, 7, 4, 3, 2, 2, 4, 2, 3, 3, 3, 3, 4, 4, 4, 4, 5, 4, 3, 3, 3, 2, 4, 5, 3, 2, 4, 5, 4, 4, 3, 6, 4, 3, 4, 4, 4, 6, 4, 4, 7, 4, 4, 4, 4, 2, 4, 4, 3, 4, 4, 4, 4, 4, 5, 5, 4, 4, 4, 2, 2, 6, 2, 4, 6, 5, 2, 4, 6, 3, 4, 4, 6, 4, 7, 4, 2, 2, 4, 4, 4, 4, 4, 2, 4, 4, 2, 2, 2, 3, 4, 4, 4, 1, 5, 5, 2, 6, 3, 5, 2, 0, 2, 4, 6, 4, 6, 5, 4, 8, 4, 5, 6, 3, 7, 7, 4, 6, 5, 3, 10, 7, 4, 6, 2, 4, 5, 4, 3, 6, 4, 4, 4, 5, 4, 4, 4, 5, 4, 4, 4, 4, 4, 4, 4, 4, 4, 4, 7, 4, 4, 5, 4, 5, 4, 6, 4]"
     ]
    }
   ],
   "source": [
    "test2 = convert_weak_labels_to_standard_format(test)\n",
    "\n",
    "overall_results, class_df = evaluate_weak_labels(test2, \n",
    "    \"data/training_data/ner_ready/ground_truth_test_set_labels.json\", \n",
    "    \"enhance_ocod/data/model_performance\", \n",
    "    'regex_labels')"
   ]
  },
  {
   "cell_type": "markdown",
   "id": "63ea0adf",
   "metadata": {},
   "source": []
  }
 ],
 "metadata": {
  "kernelspec": {
   "display_name": ".venv",
   "language": "python",
   "name": "python3"
  },
  "language_info": {
   "codemirror_mode": {
    "name": "ipython",
    "version": 3
   },
   "file_extension": ".py",
   "mimetype": "text/x-python",
   "name": "python",
   "nbconvert_exporter": "python",
   "pygments_lexer": "ipython3",
   "version": "3.12.3"
  }
 },
 "nbformat": 4,
 "nbformat_minor": 5
}
