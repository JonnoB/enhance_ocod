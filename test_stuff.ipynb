{
 "cells": [
  {
   "cell_type": "code",
   "execution_count": 3,
   "metadata": {},
   "outputs": [],
   "source": [
    "import pandas as pd"
   ]
  },
  {
   "cell_type": "code",
   "execution_count": 25,
   "metadata": {},
   "outputs": [
    {
     "data": {
      "text/html": [
       "<div>\n",
       "<style scoped>\n",
       "    .dataframe tbody tr th:only-of-type {\n",
       "        vertical-align: middle;\n",
       "    }\n",
       "\n",
       "    .dataframe tbody tr th {\n",
       "        vertical-align: top;\n",
       "    }\n",
       "\n",
       "    .dataframe thead th {\n",
       "        text-align: right;\n",
       "    }\n",
       "</style>\n",
       "<table border=\"1\" class=\"dataframe\">\n",
       "  <thead>\n",
       "    <tr style=\"text-align: right;\">\n",
       "      <th></th>\n",
       "      <th>label</th>\n",
       "      <th>start</th>\n",
       "      <th>end</th>\n",
       "      <th>text</th>\n",
       "      <th>input:text</th>\n",
       "      <th>input:datapoint_id</th>\n",
       "    </tr>\n",
       "  </thead>\n",
       "  <tbody>\n",
       "    <tr>\n",
       "      <th>0</th>\n",
       "      <td>street_number</td>\n",
       "      <td>0</td>\n",
       "      <td>3</td>\n",
       "      <td>207</td>\n",
       "      <td>207 sloane street, london (sw1x 9qx)</td>\n",
       "      <td>53574</td>\n",
       "    </tr>\n",
       "    <tr>\n",
       "      <th>1</th>\n",
       "      <td>street_name</td>\n",
       "      <td>4</td>\n",
       "      <td>17</td>\n",
       "      <td>sloane street</td>\n",
       "      <td>207 sloane street, london (sw1x 9qx)</td>\n",
       "      <td>53574</td>\n",
       "    </tr>\n",
       "    <tr>\n",
       "      <th>2</th>\n",
       "      <td>city</td>\n",
       "      <td>19</td>\n",
       "      <td>25</td>\n",
       "      <td>london</td>\n",
       "      <td>207 sloane street, london (sw1x 9qx)</td>\n",
       "      <td>53574</td>\n",
       "    </tr>\n",
       "    <tr>\n",
       "      <th>3</th>\n",
       "      <td>postcode</td>\n",
       "      <td>27</td>\n",
       "      <td>35</td>\n",
       "      <td>sw1x 9qx</td>\n",
       "      <td>207 sloane street, london (sw1x 9qx)</td>\n",
       "      <td>53574</td>\n",
       "    </tr>\n",
       "    <tr>\n",
       "      <th>4</th>\n",
       "      <td>unit_type</td>\n",
       "      <td>0</td>\n",
       "      <td>9</td>\n",
       "      <td>apartment</td>\n",
       "      <td>apartment 533, block 11 spectrum, blackfriars ...</td>\n",
       "      <td>17501</td>\n",
       "    </tr>\n",
       "    <tr>\n",
       "      <th>...</th>\n",
       "      <td>...</td>\n",
       "      <td>...</td>\n",
       "      <td>...</td>\n",
       "      <td>...</td>\n",
       "      <td>...</td>\n",
       "      <td>...</td>\n",
       "    </tr>\n",
       "    <tr>\n",
       "      <th>73294</th>\n",
       "      <td>street_number</td>\n",
       "      <td>8</td>\n",
       "      <td>10</td>\n",
       "      <td>49</td>\n",
       "      <td>flat a, 49 norcott road, stoke newington, (n16...</td>\n",
       "      <td>76011</td>\n",
       "    </tr>\n",
       "    <tr>\n",
       "      <th>73295</th>\n",
       "      <td>street_name</td>\n",
       "      <td>11</td>\n",
       "      <td>23</td>\n",
       "      <td>norcott road</td>\n",
       "      <td>flat a, 49 norcott road, stoke newington, (n16...</td>\n",
       "      <td>76011</td>\n",
       "    </tr>\n",
       "    <tr>\n",
       "      <th>73296</th>\n",
       "      <td>street_number</td>\n",
       "      <td>25</td>\n",
       "      <td>30</td>\n",
       "      <td>stoke</td>\n",
       "      <td>flat a, 49 norcott road, stoke newington, (n16...</td>\n",
       "      <td>76011</td>\n",
       "    </tr>\n",
       "    <tr>\n",
       "      <th>73297</th>\n",
       "      <td>street_number</td>\n",
       "      <td>31</td>\n",
       "      <td>40</td>\n",
       "      <td>newington</td>\n",
       "      <td>flat a, 49 norcott road, stoke newington, (n16...</td>\n",
       "      <td>76011</td>\n",
       "    </tr>\n",
       "    <tr>\n",
       "      <th>73298</th>\n",
       "      <td>postcode</td>\n",
       "      <td>43</td>\n",
       "      <td>50</td>\n",
       "      <td>n16 7ej</td>\n",
       "      <td>flat a, 49 norcott road, stoke newington, (n16...</td>\n",
       "      <td>76011</td>\n",
       "    </tr>\n",
       "  </tbody>\n",
       "</table>\n",
       "<p>73299 rows × 6 columns</p>\n",
       "</div>"
      ],
      "text/plain": [
       "               label  start  end           text  \\\n",
       "0      street_number      0    3            207   \n",
       "1        street_name      4   17  sloane street   \n",
       "2               city     19   25         london   \n",
       "3           postcode     27   35       sw1x 9qx   \n",
       "4          unit_type      0    9      apartment   \n",
       "...              ...    ...  ...            ...   \n",
       "73294  street_number      8   10             49   \n",
       "73295    street_name     11   23   norcott road   \n",
       "73296  street_number     25   30          stoke   \n",
       "73297  street_number     31   40      newington   \n",
       "73298       postcode     43   50        n16 7ej   \n",
       "\n",
       "                                              input:text  input:datapoint_id  \n",
       "0                   207 sloane street, london (sw1x 9qx)               53574  \n",
       "1                   207 sloane street, london (sw1x 9qx)               53574  \n",
       "2                   207 sloane street, london (sw1x 9qx)               53574  \n",
       "3                   207 sloane street, london (sw1x 9qx)               53574  \n",
       "4      apartment 533, block 11 spectrum, blackfriars ...               17501  \n",
       "...                                                  ...                 ...  \n",
       "73294  flat a, 49 norcott road, stoke newington, (n16...               76011  \n",
       "73295  flat a, 49 norcott road, stoke newington, (n16...               76011  \n",
       "73296  flat a, 49 norcott road, stoke newington, (n16...               76011  \n",
       "73297  flat a, 49 norcott road, stoke newington, (n16...               76011  \n",
       "73298  flat a, 49 norcott road, stoke newington, (n16...               76011  \n",
       "\n",
       "[73299 rows x 6 columns]"
      ]
     },
     "execution_count": 25,
     "metadata": {},
     "output_type": "execute_result"
    }
   ],
   "source": [
    "pd.read_csv(\"enhance_ocod/data/training_data/ground_truth_dev_set_labels.csv\")"
   ]
  },
  {
   "cell_type": "code",
   "execution_count": 19,
   "metadata": {},
   "outputs": [],
   "source": [
    "from typing import List, Dict, Any, Iterator\n",
    "from collections import defaultdict\n",
    "\n",
    "def convert_df_to_gliner_format(df: pd.DataFrame) -> List[Dict]:\n",
    "    \"\"\"\n",
    "    Convert DataFrame data in the given format to GLiNER training format.\n",
    "    \n",
    "    Args:\n",
    "        df: DataFrame containing the data\n",
    "        \n",
    "    Returns:\n",
    "        List of dictionaries in GLiNER format\n",
    "    \"\"\"\n",
    "    \n",
    "    # Group by the input text and datapoint_id, but deduplicate spans\n",
    "    grouped_data = {}\n",
    "    for _, row in df.iterrows():\n",
    "        key = (row['input:text'], row['input:datapoint_id'])\n",
    "        \n",
    "        if key not in grouped_data:\n",
    "            grouped_data[key] = {\n",
    "                'text': row['input:text'],\n",
    "                'spans': set()  # Using a set to prevent duplicates\n",
    "            }\n",
    "        \n",
    "        # Convert span to a hashable tuple to use in a set\n",
    "        span_tuple = (row['text'], row['start'], row['end'], row['label'])\n",
    "        grouped_data[key]['spans'].add(span_tuple)\n",
    "    \n",
    "    # Convert back to the GLiNER format\n",
    "    gliner_data = []\n",
    "    for data in grouped_data.values():\n",
    "        # Convert set of tuples back to list of dictionaries\n",
    "        spans = [\n",
    "            {'text': text, 'start': start, 'end': end, 'label': label}\n",
    "            for text, start, end, label in data['spans']\n",
    "        ]\n",
    "        \n",
    "        gliner_data.append({\n",
    "            'text': data['text'],\n",
    "            'spans': spans\n",
    "        })\n",
    "    \n",
    "    return gliner_data"
   ]
  },
  {
   "cell_type": "code",
   "execution_count": 26,
   "metadata": {},
   "outputs": [],
   "source": [
    "#test = pd.read_csv(\"enhance_ocod/data/training_data/parsed_ground_truth_complete.csv\")\n",
    "data = pd.read_csv(\"data/training_data/ground_truth_dev_set_labels.csv\")\n",
    "data = pd.read_csv(\"data/training_data/ground_truth_test_set_labels.csv\")"
   ]
  },
  {
   "cell_type": "code",
   "execution_count": 28,
   "metadata": {},
   "outputs": [],
   "source": [
    "out_data = convert_df_to_gliner_format(data)"
   ]
  },
  {
   "cell_type": "code",
   "execution_count": 29,
   "metadata": {},
   "outputs": [
    {
     "data": {
      "text/plain": [
       "1000"
      ]
     },
     "execution_count": 29,
     "metadata": {},
     "output_type": "execute_result"
    }
   ],
   "source": [
    "len(out_data)"
   ]
  },
  {
   "cell_type": "code",
   "execution_count": 30,
   "metadata": {},
   "outputs": [],
   "source": [
    "import json\n",
    "with open('data/training_data_test.jsonl', 'w', encoding='utf-8') as f:\n",
    "    json.dump(out_data, f, ensure_ascii=False, indent=2)"
   ]
  },
  {
   "cell_type": "code",
   "execution_count": 1,
   "metadata": {},
   "outputs": [
    {
     "name": "stdout",
     "output_type": "stream",
     "text": [
      "Parsing: Flat 3, 25 Test Road, London\n",
      "- UNIT (flat): 'Flat 3'\n",
      "- UNIT (number): '25'\n",
      "- STREET (road_street): 'Road'\n"
     ]
    }
   ],
   "source": []
  }
 ],
 "metadata": {
  "language_info": {
   "name": "python"
  }
 },
 "nbformat": 4,
 "nbformat_minor": 2
}
