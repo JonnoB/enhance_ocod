{
 "cells": [
  {
   "cell_type": "code",
   "execution_count": 3,
   "metadata": {},
   "outputs": [],
   "source": [
    "\n",
    "import pandas as pd"
   ]
  },
  {
   "cell_type": "code",
   "execution_count": 2,
   "metadata": {},
   "outputs": [
    {
     "name": "stdout",
     "output_type": "stream",
     "text": [
      "Initializing parser...\n",
      "Loading model and tokenizer...\n",
      "AddressParserInference initialized: cuda, FP16=True\n",
      "✓ Parser initialized successfully\n",
      "\n",
      "Testing address: '36 - 49, chapel street, London, se45 6pq'\n",
      "\n",
      "==================================================\n",
      "RESULTS:\n",
      "==================================================\n",
      "✓ Original address: 36 - 49, chapel street, London, se45 6pq\n",
      "✓ Number of entities found: 3\n",
      "\n",
      "Entities found:\n",
      "  1. street_number: '36 - 49' (confidence: 1.000)\n",
      "  2. street_name: 'chapel street' (confidence: 1.000)\n",
      "  3. postcode: 'se45 6pq' (confidence: 1.000)\n",
      "\n",
      "Parsed components:\n",
      "  street_number: 36 - 49\n",
      "  street_name: chapel street\n",
      "  postcode: se45 6pq\n",
      "==================================================\n"
     ]
    }
   ],
   "source": [
    "# test_single_address.py\n",
    "\n",
    "def test_single_address():\n",
    "    # Initialize your parser\n",
    "    model_path = \"models/address_parser_dev/final_model\"  # Replace with your actual model path\n",
    "    \n",
    "    try:\n",
    "        print(\"Initializing parser...\")\n",
    "        parser = AddressParserInference(\n",
    "            model_path=model_path,\n",
    "            max_length=512,\n",
    "            stride=50,\n",
    "            use_fp16=True  # Set to False for debugging to avoid GPU issues\n",
    "        )\n",
    "        print(\"✓ Parser initialized successfully\")\n",
    "        \n",
    "        # Test address\n",
    "        test_address = \"36 - 49, chapel street, London, se45 6pq\"\n",
    "        print(f\"\\nTesting address: '{test_address}'\")\n",
    "        \n",
    "        # Make prediction\n",
    "        result = parser.predict_single_address(test_address, row_index=0)\n",
    "        \n",
    "        # Print results\n",
    "        print(\"\\n\" + \"=\"*50)\n",
    "        print(\"RESULTS:\")\n",
    "        print(\"=\"*50)\n",
    "        \n",
    "        if \"error\" in result:\n",
    "            print(f\"❌ ERROR: {result['error']}\")\n",
    "        else:\n",
    "            print(f\"✓ Original address: {result['original_address']}\")\n",
    "            print(f\"✓ Number of entities found: {len(result['entities'])}\")\n",
    "            \n",
    "            if result['entities']:\n",
    "                print(\"\\nEntities found:\")\n",
    "                for i, entity in enumerate(result['entities']):\n",
    "                    print(f\"  {i+1}. {entity['type']}: '{entity['text']}' (confidence: {entity['confidence']:.3f})\")\n",
    "                \n",
    "                print(\"\\nParsed components:\")\n",
    "                for key, value in result['parsed_components'].items():\n",
    "                    print(f\"  {key}: {value}\")\n",
    "            else:\n",
    "                print(\"⚠️  No entities found\")\n",
    "        \n",
    "        print(\"=\"*50)\n",
    "        \n",
    "    except Exception as e:\n",
    "        print(f\"❌ Failed to initialize or run parser: {str(e)}\")\n",
    "        import traceback\n",
    "        traceback.print_exc()\n",
    "\n",
    "\n",
    "test_single_address()"
   ]
  },
  {
   "cell_type": "code",
   "execution_count": 5,
   "metadata": {},
   "outputs": [],
   "source": [
    "test = pd.read_parquet(\"data/ocod_history_processed/OCOD_FULL_2015_10.parquet\")"
   ]
  },
  {
   "cell_type": "code",
   "execution_count": 7,
   "metadata": {},
   "outputs": [
    {
     "data": {
      "text/plain": [
       "array([None, 'great titchfield house', ' london house', ...,\n",
       "       'royal pavilion', ' the business village', 'afe'], dtype=object)"
      ]
     },
     "execution_count": 7,
     "metadata": {},
     "output_type": "execute_result"
    }
   ],
   "source": [
    "test['building_name'].unique()"
   ]
  }
 ],
 "metadata": {
  "language_info": {
   "name": "python"
  }
 },
 "nbformat": 4,
 "nbformat_minor": 2
}
