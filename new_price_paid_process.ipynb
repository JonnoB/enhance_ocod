{
 "cells": [
  {
   "cell_type": "code",
   "execution_count": 2,
   "metadata": {},
   "outputs": [],
   "source": [
    "from price_paid_process import load_and_process_pricepaid_data"
   ]
  },
  {
   "cell_type": "code",
   "execution_count": 2,
   "metadata": {},
   "outputs": [],
   "source": []
  },
  {
   "cell_type": "code",
   "execution_count": 4,
   "metadata": {},
   "outputs": [
    {
     "name": "stderr",
     "output_type": "stream",
     "text": [
      "/teamspace/studios/this_studio/enhance_ocod/locate_and_classify_helper_functions.py:108: DtypeWarning: Columns (18,31,39,44,51) have mixed types. Specify dtype option on import or set low_memory=False.\n",
      "  postcode_district_lookup = pd.read_csv(f)[['pcds', 'oslaua', 'oa11', 'lsoa11', 'msoa11', 'ctry']]\n"
     ]
    }
   ],
   "source": [
    "from locate_and_classify_helper_functions import load_postcode_district_lookup\n",
    "ONSPD_path = \"data/ONSPD_FEB_2025.zip\"\n",
    "\n",
    "postcode_district_lookup = load_postcode_district_lookup(ONSPD_path)"
   ]
  },
  {
   "cell_type": "code",
   "execution_count": 6,
   "metadata": {},
   "outputs": [
    {
     "name": "stdout",
     "output_type": "stream",
     "text": [
      "Processed data found. Skipping preprocessing.\n"
     ]
    },
    {
     "name": "stdout",
     "output_type": "stream",
     "text": [
      "Loaded 1194932 records for year 1999\n",
      "Loaded 1037132 records for year 2018\n",
      "Loaded 1011344 records for year 2019\n"
     ]
    }
   ],
   "source": [
    "test = load_and_process_pricepaid_data(file_path = 'mm', postcode_district_lookup = 'mm', years_needed = [1999, 2018, 2019])"
   ]
  }
 ],
 "metadata": {
  "language_info": {
   "name": "python"
  }
 },
 "nbformat": 4,
 "nbformat_minor": 2
}
