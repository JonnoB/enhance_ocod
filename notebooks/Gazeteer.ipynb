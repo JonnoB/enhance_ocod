{
 "cells": [
  {
   "cell_type": "code",
   "execution_count": null,
   "metadata": {},
   "outputs": [],
   "source": [
    "import pandas as pd\n",
    "from pathlib import Path\n",
    "import pandas as pd\n",
    "import numpy as np\n",
    "from datetime import datetime\n",
    "from tqdm import tqdm\n",
    "from plotnine import *\n",
    "import seaborn as sns\n",
    "import matplotlib.pyplot as plt\n",
    "from pandas.api.types import CategoricalDtype\n",
    "\n",
    "from enhance_ocod.price_paid_process import gazetteer_generator\n",
    "path = '../data/processed_price_paid/price_paid_2024.parquet'\n",
    "ONSPD_path = \"../data/ocod_history_processed/OCOD_FULL_2017_03.parquet\"\n",
    "figures_folder = Path('../figures')"
   ]
  },
  {
   "cell_type": "code",
   "execution_count": null,
   "metadata": {},
   "outputs": [],
   "source": [
    "outframe = gazetteer_generator()"
   ]
  },
  {
   "cell_type": "code",
   "execution_count": null,
   "metadata": {},
   "outputs": [],
   "source": [
    "outframe.loc[outframe['building'].str.contains('hamlyn')]"
   ]
  },
  {
   "cell_type": "code",
   "execution_count": null,
   "metadata": {},
   "outputs": [],
   "source": [
    "cleaned_ppd = pd.read_parquet(path)\n",
    "\n",
    "cleaned_ppd"
   ]
  },
  {
   "cell_type": "code",
   "execution_count": null,
   "metadata": {},
   "outputs": [],
   "source": [
    "test = cleaned_ppd.loc[cleaned_ppd['paon'].str.contains('wharf|building|apartment|house', na = False)].copy()\n",
    "test['building']= test['paon'].str.split(',').str[0]\n",
    "test.loc[:,['building', 'oa11cd', 'lsoa11cd', 'msoa11cd', 'lad11cd' ]]"
   ]
  },
  {
   "cell_type": "code",
   "execution_count": null,
   "metadata": {},
   "outputs": [],
   "source": [
    "test.drop_duplicates()"
   ]
  },
  {
   "cell_type": "code",
   "execution_count": null,
   "metadata": {},
   "outputs": [],
   "source": [
    "    dtype_dict = {\n",
    "        \"paon\": \"string\",\n",
    "        \"street\": \"string\",\n",
    "        \"locality\": \"string\",\n",
    "        \"postcode\": \"string\",\n",
    "        \"price\": \"int32\",\n",
    "        \"date_of_transfer\": \"string\",\n",
    "        \"district\": \"string\",\n",
    "        \"property_type\": CategoricalDtype(categories=[\"D\", \"S\", \"T\", \"F\", \"O\"]),\n",
    "        \"ppd_category_type\": CategoricalDtype(categories=[\"A\", \"B\"]),\n",
    "    }\n",
    "\n",
    "    price_paid_headers = [\n",
    "        \"transaction_unique_identifier\",\n",
    "        \"price\",\n",
    "        \"date_of_transfer\",\n",
    "        \"postcode\",\n",
    "        \"property_type\",\n",
    "        \"old_new\",\n",
    "        \"duration\",\n",
    "        \"paon\",\n",
    "        \"saon\",\n",
    "        \"street\",\n",
    "        \"locality\",\n",
    "        \"town\",\n",
    "        \"district\",\n",
    "        \"county\",\n",
    "        \"ppd_category_type\",\n",
    "        \"record_status\",\n",
    "    ]"
   ]
  },
  {
   "cell_type": "code",
   "execution_count": null,
   "metadata": {},
   "outputs": [],
   "source": [
    "test = pd.read_csv('/teamspace/studios/this_studio/enhance_ocod/data/price_paid_data/price_paid_complete_may_2025.csv', nrows = 10000,\n",
    "            names=price_paid_headers,\n",
    "            dtype=dtype_dict,)"
   ]
  },
  {
   "cell_type": "code",
   "execution_count": null,
   "metadata": {},
   "outputs": [],
   "source": [
    "test['saon'].unique()"
   ]
  },
  {
   "cell_type": "code",
   "execution_count": null,
   "metadata": {},
   "outputs": [],
   "source": [
    "test.loc[test['saon'].str.contains('UNIT', na = False)]"
   ]
  },
  {
   "cell_type": "code",
   "execution_count": null,
   "metadata": {},
   "outputs": [],
   "source": [
    "test.loc[test['paon'].str.contains('FLAT', na = False)]"
   ]
  }
 ],
 "metadata": {
  "language_info": {
   "name": "python"
  }
 },
 "nbformat": 4,
 "nbformat_minor": 2
}
