{
 "cells": [
  {
   "cell_type": "markdown",
   "metadata": {},
   "source": [
    "# This notebook explores the performance of the property type classification"
   ]
  },
  {
   "cell_type": "code",
   "execution_count": null,
   "metadata": {},
   "outputs": [],
   "source": [
    "from enhance_ocod.locate_and_classify import (\n",
    "    load_voa_ratinglist,\n",
    "    add_geographic_metadata,\n",
    "    enhance_ocod_with_gazetteers,\n",
    "    add_business_matches,\n",
    "    property_class,\n",
    "    get_default_property_rules,\n",
    "    fill_unknown_classes_by_group,\n",
    "    )\n",
    "\n",
    "from enhance_ocod.address_parsing import (\n",
    "    load_and_prep_OCOD_data,\n",
    "    load_postcode_district_lookup,\n",
    "    process_addresses,\n",
    "    expand_dataframe_numbers,\n",
    "    create_unique_id\n",
    ")\n",
    "import pandas as pd\n",
    "from pathlib import Path\n",
    "import pickle\n",
    "\n",
    "SCRIPT_DIR = Path(\"../data\")\n",
    "\n",
    "input_dir = SCRIPT_DIR.parent / \"data\" / \"ocod_history\"\n",
    "output_dir = SCRIPT_DIR.parent / \"data\" / \"ocod_history_processed\"\n",
    "model_path = (\n",
    "    SCRIPT_DIR.parent / \"models\" / \"address_parser_original_fullset\" / \"final_model\"\n",
    ")\n",
    "\n",
    "\n",
    "\n",
    "def get_first_file_in_data_dir(dirname):\n",
    "    \"\"\"Get the first file in a data subdirectory, or None if no files exist.\"\"\"\n",
    "    data_dir = SCRIPT_DIR.parent / \"data\" / dirname\n",
    "    files = list(data_dir.glob(\"*\"))\n",
    "    return files[0] if files else None\n",
    "\n",
    "# Usage\n",
    "ONSPD_path = get_first_file_in_data_dir(\"onspd\")\n",
    "price_paid_path = get_first_file_in_data_dir(\"price_paid_data\")\n",
    "voa_path = get_first_file_in_data_dir(\"voa\")\n",
    "\n",
    "\n",
    "data_folder = Path('../data') \n",
    "\n",
    "OCOD_history_path = data_folder / 'ocod_history_processed' "
   ]
  },
  {
   "cell_type": "code",
   "execution_count": null,
   "metadata": {},
   "outputs": [],
   "source": [
    "postcode_district_lookup = load_postcode_district_lookup(str(ONSPD_path))"
   ]
  },
  {
   "cell_type": "code",
   "execution_count": null,
   "metadata": {},
   "outputs": [],
   "source": [
    "voa_businesses = load_voa_ratinglist(str(voa_path), postcode_district_lookup)"
   ]
  },
  {
   "cell_type": "code",
   "execution_count": null,
   "metadata": {},
   "outputs": [],
   "source": [
    "# Load gazetteers\n",
    "\n",
    "gazetteer_dir = SCRIPT_DIR.parent / 'data'/ 'gazetteer' \n",
    "\n",
    "print(\"Loading existing gazetteer files...\")\n",
    "building_gazetteer = pd.read_parquet(gazetteer_dir / 'building_gazetteer.parquet')\n",
    "building_gazetteer['fraction'] = 1\n",
    "district_gazetteer = pd.read_parquet(gazetteer_dir / 'district_gazetteer.parquet')\n",
    "street_gazetteer = pd.read_parquet(gazetteer_dir / 'street_gazetteer.parquet')"
   ]
  },
  {
   "cell_type": "code",
   "execution_count": null,
   "metadata": {},
   "outputs": [],
   "source": [
    "\n",
    "parsed_results_file = data_folder /'/parsed_ocod_dicts/OCOD_FULL_2022_02_parsed_results.pkl'\n",
    "\n",
    "with open(parsed_results_file, \"rb\") as f:\n",
    "    results = pickle.load(f)\n",
    "\n",
    "zip_file = data_folder /'ocod_history/OCOD_FULL_2022_02.zip'\n",
    "\n",
    "ocod_data = load_and_prep_OCOD_data(str(zip_file))\n",
    "\n",
    "processed_addresses_df = process_addresses(results['results'])\n",
    "\n",
    "post_processed_data = processed_addresses_df.merge(\n",
    "    ocod_data, how=\"left\", left_on=\"datapoint_id\", right_index=True\n",
    ")[\n",
    "        [\n",
    "            \"title_number\",\n",
    "            \"tenure\",\n",
    "            \"unit_id\",\n",
    "            \"unit_type\",\n",
    "            \"number_filter\",\n",
    "            \"building_name\",\n",
    "            \"street_number\",\n",
    "            \"street_name\",\n",
    "            \"postcode\",\n",
    "            \"city\",\n",
    "            \"district\",\n",
    "            \"county\",\n",
    "            \"region\",\n",
    "            \"price_paid\",\n",
    "            \"property_address\",\n",
    "            \"country_incorporated\",\n",
    "        ]\n",
    "    ]"
   ]
  },
  {
   "cell_type": "code",
   "execution_count": null,
   "metadata": {},
   "outputs": [],
   "source": [
    "post_processed_data[\"postcode\"] = post_processed_data[\"postcode\"].str.upper()\n",
    "\n",
    "pre_process_ocod = add_geographic_metadata(post_processed_data, postcode_district_lookup)"
   ]
  },
  {
   "cell_type": "code",
   "execution_count": null,
   "metadata": {},
   "outputs": [],
   "source": [
    "pre_process_ocod['building_name'] = pre_process_ocod['building_name'].str.lower()\n",
    "pre_process_ocod['street_name2'] = pre_process_ocod['street_name2'].str.lower()\n",
    "enhanced  =  enhance_ocod_with_gazetteers(pre_process_ocod, building_gazetteer, district_gazetteer, street_gazetteer)"
   ]
  },
  {
   "cell_type": "code",
   "execution_count": null,
   "metadata": {},
   "outputs": [],
   "source": [
    "with_matches = add_business_matches(enhanced, voa_businesses)\n",
    "with_matches = create_unique_id(with_matches)\n"
   ]
  },
  {
   "cell_type": "code",
   "execution_count": null,
   "metadata": {},
   "outputs": [],
   "source": [
    "rules = get_default_property_rules()\n",
    "default_classes  = property_class(with_matches.copy(), rules, include_rule_name=True)\n",
    "default_classes = fill_unknown_classes_by_group(default_classes)\n",
    "default_classes = drop_non_residential_duplicates(default_classes, class_col='class')"
   ]
  },
  {
   "cell_type": "code",
   "execution_count": null,
   "metadata": {},
   "outputs": [],
   "source": [
    "default_classes.groupby('class').size()"
   ]
  },
  {
   "cell_type": "code",
   "execution_count": null,
   "metadata": {},
   "outputs": [],
   "source": [
    "rules2 = rules + [{\n",
    "    'rule_name': 'no address match residences',\n",
    "    'condition': lambda df: (~df[\"number_match\"]) & df[\"street_match\"] & df['street_number'].notna(),\n",
    "    'class': 'residential',\n",
    "    'comments': 'when a property has a street number but does not match with any business on the same street it is a property, this primarily affects estate developments'\n",
    "}]\n",
    "\n",
    "no_business_match  = property_class(with_matches.copy(),  rules2, \n",
    "include_rule_name=True)\n",
    "\n",
    "no_business_match = fill_unknown_classes_by_group(no_business_match)\n",
    "no_business_match = drop_non_residential_duplicates(no_business_match, class_col='class')"
   ]
  },
  {
   "cell_type": "code",
   "execution_count": null,
   "metadata": {},
   "outputs": [],
   "source": [
    "no_business_match.groupby('class').size()"
   ]
  },
  {
   "cell_type": "code",
   "execution_count": null,
   "metadata": {},
   "outputs": [],
   "source": [
    "class_gt = pd.read_csv(data_folder / 'training_data' / 'parsed_ground_truth_complete.csv').drop_duplicates(['title_number'])\n",
    "class_gt['class'] = class_gt['truth']\n",
    "class_gt['class'] = class_gt['class'].str.replace('domestic', 'residential')\n",
    "\n",
    "\n",
    "class_pred_data_raw = pd.read_parquet(OCOD_history_path /'OCOD_FULL_2022_02.parquet')\n",
    "\n",
    "\n",
    "class_pred_data_raw = default_classes\n",
    "class_pred_data = class_pred_data_raw.loc[class_pred_data_raw['title_number'].isin(class_gt['title_number']), \n",
    "['title_number', 'class']].drop_duplicates('title_number')\n",
    "\n",
    "\n",
    "evaluate_classification_predictions(\n",
    "    class_gt, class_pred_data)"
   ]
  },
  {
   "cell_type": "code",
   "execution_count": null,
   "metadata": {},
   "outputs": [],
   "source": [
    "class_pred_data_raw = no_business_match\n",
    "class_pred_data = class_pred_data_raw.loc[class_pred_data_raw['title_number'].isin(class_gt['title_number']), \n",
    "['title_number', 'class']].drop_duplicates('title_number')\n",
    "\n",
    "evaluate_classification_predictions(\n",
    "    class_gt, class_pred_data)"
   ]
  },
  {
   "cell_type": "code",
   "execution_count": null,
   "metadata": {},
   "outputs": [],
   "source": [
    "default_expanded_df = expand_dataframe_numbers(default_classes, class_var = 'class', print_every=10000, min_count=1)\n",
    "\n",
    "default_expanded_df = create_unique_id(default_expanded_df)\n",
    "\n",
    "class_pred_data_raw = default_expanded_df\n",
    "class_pred_data = class_pred_data_raw.loc[class_pred_data_raw['title_number'].isin(class_gt['title_number']), \n",
    "['title_number', 'class']]\n",
    "\n",
    "merged_data = class_pred_data.merge(class_gt, on='title_number', how='left', suffixes=('_pred', '_gt'))\n",
    "\n",
    "# Extract the two dataframes with matching rows\n",
    "class_pred_data = merged_data[['title_number', 'class_pred']].rename(columns={'class_pred': 'class'})\n",
    "class_gt = merged_data[['title_number', 'class_gt']].rename(columns={'class_gt': 'class'})\n",
    "\n",
    "evaluate_classification_predictions(\n",
    "    class_gt, class_pred_data)"
   ]
  },
  {
   "cell_type": "code",
   "execution_count": null,
   "metadata": {},
   "outputs": [],
   "source": [
    "no_business_expanded_df = expand_dataframe_numbers(no_business_match, class_var = 'class', print_every=10000, min_count=1)\n",
    "\n",
    "no_business_expanded_df = create_unique_id(no_business_expanded_df)\n",
    "\n",
    "class_pred_data_raw = no_business_expanded_df\n",
    "class_pred_data = class_pred_data_raw.loc[class_pred_data_raw['title_number'].isin(class_gt['title_number']), \n",
    "['title_number', 'class']]\n",
    "\n",
    "merged_data = class_pred_data.merge(class_gt, on='title_number', how='left', suffixes=('_pred', '_gt'))\n",
    "\n",
    "# Extract the two dataframes with matching rows\n",
    "class_pred_data = merged_data[['title_number', 'class_pred']].rename(columns={'class_pred': 'class'})\n",
    "class_gt_expanded = merged_data[['title_number', 'class_gt']].rename(columns={'class_gt': 'class'})\n",
    "\n",
    "evaluate_classification_predictions(\n",
    "    class_gt_expanded, class_pred_data)"
   ]
  },
  {
   "cell_type": "markdown",
   "metadata": {},
   "source": [
    "# Location classification"
   ]
  },
  {
   "cell_type": "code",
   "execution_count": null,
   "metadata": {},
   "outputs": [],
   "source": [
    "default_location = default_classes.loc[default_classes['lsoa11cd'].isna() & default_classes['class'].isin(['residential'])]\n",
    "\n",
    "default_location.groupby('class').size()"
   ]
  },
  {
   "cell_type": "code",
   "execution_count": null,
   "metadata": {},
   "outputs": [],
   "source": [
    "default_location.groupby('is_multi').size()"
   ]
  }
 ],
 "metadata": {
  "language_info": {
   "name": "python"
  }
 },
 "nbformat": 4,
 "nbformat_minor": 2
}
