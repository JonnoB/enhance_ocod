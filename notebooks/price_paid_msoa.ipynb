{
 "cells": [
  {
   "cell_type": "code",
   "execution_count": null,
   "metadata": {},
   "outputs": [],
   "source": [
    "import pandas as pd\n",
    "from pathlib import Path\n",
    "import pandas as pd\n",
    "import numpy as np\n",
    "from datetime import datetime\n",
    "from tqdm import tqdm\n",
    "from plotnine import *\n",
    "import seaborn as sns\n",
    "from enhance_ocod.analysis import create_time_series_by_groups, create_mean_difference_by_groups\n",
    "path = '../data/processed_price_paid/price_paid_2024.parquet'\n",
    "ONSPD_path = \"../data/ocod_history_processed/OCOD_FULL_2017_03.parquet\"\n",
    "figures_folder = Path('../figures/figures')\n",
    "\n",
    "figures_folder.mkdir(parents=True, exist_ok=True)\n",
    "\n",
    "active_ocod_path = '../data/ocod_history_processed'\n",
    "\n",
    "active_class_var = 'class'\n"
   ]
  },
  {
   "cell_type": "markdown",
   "metadata": {},
   "source": [
    "# Get MSOA dwelling counts from 2021 census\n",
    "\n",
    "https://statistics.ukdataservice.ac.uk/dataset/england-and-wales-census-2021-rm205-dwelling-type/resource/f7cde7e0-5c9b-4091-bfb6-b34db820f30e"
   ]
  },
  {
   "cell_type": "code",
   "execution_count": null,
   "metadata": {},
   "outputs": [],
   "source": [
    "msoa_dwelling = pd.read_excel('https://ukds-ckan.s3.eu-west-1.amazonaws.com/2021/ONS/dwelling-type/RM205-Dwelling-Type-2021-msoa-ONS.xlsx',\n",
    ").rename(columns = {'Middle layer Super Output Areas Code':'msoa11cd', 'Observation':'dwellings'})\n",
    "msoa_dwelling = msoa_dwelling.groupby('msoa11cd')['dwellings'].sum().reset_index()"
   ]
  },
  {
   "cell_type": "code",
   "execution_count": null,
   "metadata": {},
   "outputs": [],
   "source": [
    "sns.histplot(msoa_dwelling, x = 'dwellings')"
   ]
  },
  {
   "cell_type": "markdown",
   "metadata": {},
   "source": [
    "## Overall figures\n",
    "\n",
    "THe below shows the total value of all residential property as well as the total residential value"
   ]
  },
  {
   "cell_type": "code",
   "execution_count": null,
   "metadata": {},
   "outputs": [],
   "source": [
    "overall_figures = create_time_series_by_groups(msoa_dwellings = msoa_dwelling, grouping_vars=None, \n",
    "ocod_path = active_ocod_path,\n",
    "class_var = active_class_var)"
   ]
  },
  {
   "cell_type": "code",
   "execution_count": null,
   "metadata": {},
   "outputs": [],
   "source": [
    "\n",
    "\n",
    "overall_figures.loc[overall_figures.index.isin([overall_figures.index[0], overall_figures.index[-1]]), \n",
    "['date','year','month', 'ocod_mean', 'ocod_median' ,'ocod_ratio_mean', 'total_value_ocod_mean' ]]"
   ]
  },
  {
   "cell_type": "code",
   "execution_count": null,
   "metadata": {},
   "outputs": [],
   "source": [
    "# Get the first and last rows\n",
    "subset = overall_figures.loc[overall_figures.index.isin([overall_figures.index[0], overall_figures.index[-1]]), \n",
    "                           ['date','year','month', 'ocod_mean', 'ocod_median' ,'ocod_ratio_mean', 'total_value_ocod_mean']]\n",
    "\n",
    "# Calculate percentage change\n",
    "pct_change = subset.select_dtypes(include='number').pct_change().iloc[-1] * 100\n",
    "\n",
    "print(\"Data:\")\n",
    "print(subset)\n",
    "print(\"\\nPercentage Change:\")\n",
    "print(pct_change)"
   ]
  },
  {
   "cell_type": "markdown",
   "metadata": {},
   "source": [
    "## Region figures\n",
    "\n",
    "THe below shows the total value of all residential property as well as the total residential value"
   ]
  },
  {
   "cell_type": "code",
   "execution_count": null,
   "metadata": {},
   "outputs": [],
   "source": [
    "\n",
    "df_msoa_region = create_time_series_by_groups(msoa_dwellings = msoa_dwelling, grouping_vars= ['region'], \n",
    "ocod_path = active_ocod_path,\n",
    "class_var = active_class_var)\n"
   ]
  },
  {
   "cell_type": "code",
   "execution_count": null,
   "metadata": {},
   "outputs": [],
   "source": [
    "fract_total = df_msoa_region[['total_value_ocod_mean', 'region']].groupby('region').mean()\n",
    "\n",
    "print(fract_total)\n",
    "\n",
    "(fract_total /fract_total['total_value_ocod_mean'].sum()).round(2)*100"
   ]
  },
  {
   "cell_type": "code",
   "execution_count": null,
   "metadata": {},
   "outputs": [],
   "source": [
    "p = ggplot(df_msoa_region.loc[df_msoa_region['region']!='GREATER LONDON'], aes(x = 'date', y = 'ocod_ratio_mean', color = 'region')) + geom_line() + labs(\n",
    "    title = \"Relative value by region excluding London\") +   scale_x_date(\n",
    "     breaks=pd.date_range(start=df_msoa_region['date'].min(), end=df_msoa_region['date'].max(), freq='YE'),\n",
    "     date_labels='%Y'  # Format to show only year\n",
    " )\n",
    "\n",
    "p.save(filename = figures_folder / 'relative_value_excluding_london.png')\n",
    "\n",
    "p"
   ]
  },
  {
   "cell_type": "code",
   "execution_count": null,
   "metadata": {},
   "outputs": [],
   "source": [
    "p = ggplot(df_msoa_region, aes(x = 'date', y = 'ocod_ratio_mean', color = 'region')) + geom_line() + labs(\n",
    "    title = \"Relative value by region\") +   scale_x_date(\n",
    "     breaks=pd.date_range(start=df_msoa_region['date'].min(), end=df_msoa_region['date'].max(), freq='YE'),\n",
    "     date_labels='%Y'  # Format to show only year\n",
    " )\n",
    "\n",
    "\n",
    "p.save(filename = figures_folder / 'relative_value_region.png')\n",
    "\n",
    "p"
   ]
  },
  {
   "cell_type": "code",
   "execution_count": null,
   "metadata": {},
   "outputs": [],
   "source": [
    "df_msoa_nested = create_time_series_by_groups(msoa_dwellings = msoa_dwelling, grouping_vars= ['is_multi'],\n",
    "ocod_path = active_ocod_path,\n",
    "class_var = active_class_var)"
   ]
  },
  {
   "cell_type": "code",
   "execution_count": null,
   "metadata": {},
   "outputs": [],
   "source": [
    "p = ggplot(df_msoa_nested, aes(x = 'date', y = 'ocod_ratio_mean', color = 'is_multi')) + geom_line() + labs(\n",
    "    title = \"Relative value of single and multiple properties\",\n",
    "    color = 'is multi') +   scale_x_date(\n",
    "     breaks=pd.date_range(start=df_msoa_nested['date'].min(), end=df_msoa_nested['date'].max(), freq='YE'),\n",
    "     date_labels='%Y'  # Format to show only year\n",
    " )\n",
    "\n",
    "p.save(filename = figures_folder / 'relative_value_nested.png')\n",
    "\n",
    "p"
   ]
  },
  {
   "cell_type": "code",
   "execution_count": null,
   "metadata": {},
   "outputs": [],
   "source": [
    "p = ggplot(df_msoa_nested, aes(x = 'date', y = 'ocod_total_counts', color = 'is_multi')) + geom_line() + labs(\n",
    "    title = \"Quantity by multiple property status\") +   scale_x_date(\n",
    "     breaks=pd.date_range(start=df_msoa_region['date'].min(), end=df_msoa_region['date'].max(), freq='YE'),\n",
    "     date_labels='%Y'  # Format to show only year\n",
    " )\n",
    "\n",
    "p"
   ]
  },
  {
   "cell_type": "markdown",
   "metadata": {},
   "source": [
    "# Country of Incorporation\n",
    " "
   ]
  },
  {
   "cell_type": "code",
   "execution_count": null,
   "metadata": {},
   "outputs": [],
   "source": [
    "df_msoa_incorporated = create_time_series_by_groups( msoa_dwellings = msoa_dwelling, \n",
    "grouping_vars=  ['country_incorporated'], \n",
    "ocod_path = '../data/ocod_history_processed',\n",
    "class_var = active_class_var)"
   ]
  },
  {
   "cell_type": "code",
   "execution_count": null,
   "metadata": {},
   "outputs": [],
   "source": [
    "df_msoa_incorporated.to_csv(figures_folder / 'country.csv')"
   ]
  },
  {
   "cell_type": "code",
   "execution_count": null,
   "metadata": {},
   "outputs": [],
   "source": [
    "df_msoa_incorporated['country_incorporated'] = df_msoa_incorporated['country_incorporated'].str.replace(\"BRITISH VIRGIN ISLANDS\", \"BVI\")\n",
    "\n",
    "p =  ggplot(df_msoa_incorporated.loc[df_msoa_incorporated['country_incorporated'].isin(['JERSEY', 'GUERNSEY', \n",
    "'ISLE OF MAN', 'BRITISH VIRGIN ISLANDS', 'BVI'])], \n",
    "aes(x = 'date', y = 'ocod_ratio_mean', color = 'country_incorporated')) + geom_line() + labs(\n",
    "    title = \"Relative value of the country of incorporation\\nwith highest quantity of properties\") +   scale_x_date(\n",
    "     breaks=pd.date_range(start=df_msoa_incorporated['date'].min(), end=df_msoa_incorporated['date'].max(), freq='YE'),\n",
    "     date_labels='%Y'  # Format to show only year\n",
    " ) + \\\n",
    "  guides(color = guide_legend(title = \"country\")) \n",
    "\n",
    "p.save(filename = figures_folder / 'relative_value_incorporation.png')\n",
    "\n",
    "p"
   ]
  },
  {
   "cell_type": "code",
   "execution_count": null,
   "metadata": {},
   "outputs": [],
   "source": [
    "incorp_last_month_df = df_msoa_incorporated[(df_msoa_incorporated['date'] == pd.to_datetime('2025-05-01')) ]\n",
    "\n",
    "incorp_last_month_df['fraction_of_total_incorp_value'] = incorp_last_month_df['total_value_ocod_mean']/incorp_last_month_df['total_value_ocod_mean'].sum()\n",
    "\n",
    "incorp_last_month_df.sort_values('total_value_ocod_mean').tail().sum(numeric_only = True)"
   ]
  },
  {
   "cell_type": "code",
   "execution_count": null,
   "metadata": {},
   "outputs": [],
   "source": [
    "top4_df = df_msoa_incorporated[(df_msoa_incorporated['date'] == pd.to_datetime('2025-05-01')) & df_msoa_incorporated['country_incorporated'].isin(['JERSEY', 'GUERNSEY', \n",
    "'ISLE OF MAN', 'BRITISH VIRGIN ISLANDS', 'BVI'])]"
   ]
  },
  {
   "cell_type": "code",
   "execution_count": null,
   "metadata": {},
   "outputs": [],
   "source": [
    "df_msoa_incorporated.loc[df_msoa_incorporated['country_incorporated'].isin(['BVI', 'JERSEY', 'GUERNSEY', 'ISLE OF MAN']),\n",
    "['date','ocod_total_counts', 'total_dwelling_count', 'total_value_ocod_mean',\n",
    "       'total_value_dwelling_mean', 'fraction_of_total_value',\n",
    "       'country_incorporated']]"
   ]
  },
  {
   "cell_type": "code",
   "execution_count": null,
   "metadata": {},
   "outputs": [],
   "source": [
    "countries = [\n",
    "    \"JERSEY\",\n",
    "    \"BVI\",\n",
    "    \"GUERNSEY\",\n",
    "    \"ISLE OF MAN\",\n",
    "    \"GIBRALTAR\",\n",
    "    \"LUXEMBOURG\",\n",
    "    \"SINGAPORE\",\n",
    "    \"IRELAND\",\n",
    "    \"HONG KONG\",\n",
    "    \"PANAMA\",\n",
    "    \"CAYMAN ISLANDS\",\n",
    "    \"SEYCHELLES\",\n",
    "    \"NETHERLANDS\",\n",
    "    \"CYPRUS\",\n",
    "    \"BAHAMAS\",\n",
    "    \"MAURITIUS\",\n",
    "    \"GERMANY\",\n",
    "    \"AUSTRALIA\",\n",
    "    \"BERMUDA\",\n",
    "    \"DELAWARE, U.S.A.\"\n",
    "]"
   ]
  },
  {
   "cell_type": "code",
   "execution_count": null,
   "metadata": {},
   "outputs": [],
   "source": [
    "df = df_msoa_incorporated.loc[df_msoa_incorporated['country_incorporated'].isin(countries)]\n",
    "\n",
    "# Get values at min and max dates\n",
    "grouped = df.groupby('country_incorporated').apply(\n",
    "    lambda x: pd.Series({\n",
    "        'min_date_value': x.loc[x['date'].idxmin(), 'ocod_ratio_mean'],\n",
    "        'max_date_value': x.loc[x['date'].idxmax(), 'ocod_ratio_mean']\n",
    "    })\n",
    ")\n",
    "\n",
    "# Calculate ratio of change\n",
    "grouped['ratio_change'] = grouped['max_date_value'] / grouped['min_date_value']\n",
    "result = grouped['ratio_change']\n",
    "\n",
    "result.sort_values().reset_index()"
   ]
  },
  {
   "cell_type": "code",
   "execution_count": null,
   "metadata": {},
   "outputs": [],
   "source": [
    "\n",
    "df_msoa_region_nested = create_time_series_by_groups(  msoa_dwellings = msoa_dwelling, grouping_vars = ['region', 'is_multi'], \n",
    "ocod_path = active_ocod_path,\n",
    "class_var = active_class_var)"
   ]
  },
  {
   "cell_type": "code",
   "execution_count": null,
   "metadata": {},
   "outputs": [],
   "source": [
    "p = ggplot(df_msoa_region_nested.loc[df_msoa_region_nested['region']!='GREATER LONDON'], \n",
    "aes(x = 'date', y = 'ocod_ratio_mean', linetype = 'is_multi')) + geom_line() + labs(\n",
    "    title = \"Relative value by region excluding London\\nSolid line single property, dashed line multi property\",\n",
    "    linetype = 'nested',\n",
    "    y = 'Cost relative to all residential property') +   scale_x_date(\n",
    "     breaks=pd.date_range(start=df_msoa_region_nested['date'].min(), end=df_msoa_region_nested['date'].max(), freq='YE'),\n",
    "     date_labels='%Y'\n",
    " ) + facet_wrap(\"region\") +\\\n",
    "    theme(\n",
    "        axis_text_x=element_text(angle=90,hjust = 1),\n",
    "        legend_position = 'none'\n",
    "    )\n",
    "\n",
    "\n",
    "p.save(filename = figures_folder / 'relative_value_nested_region.png')\n",
    "\n",
    "p"
   ]
  },
  {
   "cell_type": "code",
   "execution_count": null,
   "metadata": {},
   "outputs": [],
   "source": [
    "df_msoa_lad = create_time_series_by_groups(msoa_dwellings = msoa_dwelling, grouping_vars = ['lad11cd'], \n",
    "ocod_path = active_ocod_path,\n",
    "class_var = active_class_var )\n"
   ]
  },
  {
   "cell_type": "markdown",
   "metadata": {},
   "source": [
    "# All property percentage value\n",
    "\n",
    "It looks like the fraction of total value of the residential properties is broadly flat across the 10 year period, fluctating between 1.3 and 1.4%"
   ]
  },
  {
   "cell_type": "code",
   "execution_count": null,
   "metadata": {},
   "outputs": [],
   "source": [
    "all_property_value = df_msoa_lad.groupby('date')[['ocod_total_counts','total_value_ocod_mean', 'total_value_dwelling_mean']].sum().reset_index()\n",
    "\n",
    "all_property_value['fraction_value'] = all_property_value['total_value_ocod_mean'] / all_property_value['total_value_dwelling_mean']\n",
    "\n",
    "all_property_value['percentage_value'] = (all_property_value['fraction_value'] *100).round(2)\n"
   ]
  },
  {
   "cell_type": "code",
   "execution_count": null,
   "metadata": {},
   "outputs": [],
   "source": [
    "p = ggplot(all_property_value, aes(x = 'date', y = 'percentage_value')) + geom_line() + labs(\n",
    "    title = \"Offshore residential property as a percentage of total value\") +   scale_x_date(\n",
    "     breaks=pd.date_range(start=all_property_value['date'].min(), end=all_property_value['date'].max(), freq='YE'),\n",
    "     date_labels='%Y'  # Format to show only year\n",
    " )\n",
    "\n",
    "p"
   ]
  },
  {
   "cell_type": "code",
   "execution_count": null,
   "metadata": {},
   "outputs": [],
   "source": [
    "df_msoa_lad['fraction'] = df_msoa_lad.groupby('date')['total_value_ocod_mean'].transform(lambda x: x / x.sum())"
   ]
  },
  {
   "cell_type": "code",
   "execution_count": null,
   "metadata": {},
   "outputs": [],
   "source": [
    "df_msoa_lad.groupby('lad11cd')[['fraction', 'total_value_ocod_mean']].mean().sort_values('fraction').sort_values('fraction',ascending = False)"
   ]
  },
  {
   "cell_type": "code",
   "execution_count": null,
   "metadata": {},
   "outputs": [],
   "source": [
    "df_msoa_lad.groupby('lad11cd')[['fraction', 'total_value_ocod_mean']].mean().sort_values('fraction').sort_values('fraction',ascending = False).head(2).sum()"
   ]
  },
  {
   "cell_type": "code",
   "execution_count": null,
   "metadata": {},
   "outputs": [],
   "source": [
    "df_msoa_lad.to_csv('../data/lad.csv')"
   ]
  }
 ],
 "metadata": {
  "kernelspec": {
   "display_name": "ocod",
   "language": "python",
   "name": "python3"
  },
  "language_info": {
   "codemirror_mode": {
    "name": "ipython",
    "version": 3
   },
   "file_extension": ".py",
   "mimetype": "text/x-python",
   "name": "python",
   "nbconvert_exporter": "python",
   "pygments_lexer": "ipython3",
   "version": "3.12.3"
  }
 },
 "nbformat": 4,
 "nbformat_minor": 2
}
