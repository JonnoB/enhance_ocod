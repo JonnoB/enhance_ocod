{
 "cells": [
  {
   "cell_type": "code",
   "execution_count": 1,
   "id": "716c6b15",
   "metadata": {},
   "outputs": [
    {
     "name": "stderr",
     "output_type": "stream",
     "text": [
      "/tmp/ipykernel_12917/912229180.py:1: DeprecationWarning: Importing display from IPython.core.display is deprecated since IPython 7.14, please import from IPython display\n",
      "  from IPython.core.display import display, HTML\n"
     ]
    },
    {
     "data": {
      "text/html": [
       "<style>.container { width:90% !important; }</style>"
      ],
      "text/plain": [
       "<IPython.core.display.HTML object>"
      ]
     },
     "metadata": {},
     "output_type": "display_data"
    }
   ],
   "source": [
    "from IPython.core.display import display, HTML\n",
    "display(HTML(\"<style>.container { width:90% !important; }</style>\"))"
   ]
  },
  {
   "attachments": {},
   "cell_type": "markdown",
   "id": "df1ca2a6",
   "metadata": {},
   "source": [
    "# Introduction\n",
    "\n",
    "This note book is used for the following\n",
    "\n",
    "* Loading and processing the OCOD data\n",
    "* Tokenising and performing NER on the OCOD dataset using the previously trained model\n",
    "* Evaluating the performance of the trained model\n",
    "* Expanding the OCOD dataset such that a single line represents a single street address\n",
    "* Adding in additional information from the original OCOD dataset\n"
   ]
  },
  {
   "cell_type": "code",
   "execution_count": 6,
   "id": "417b5276",
   "metadata": {},
   "outputs": [],
   "source": [
    "import json\n",
    "import pandas as pd\n",
    "import re\n",
    "#from helper_functions import *\n",
    "from address_parsing_helper_functions import *\n",
    "import numpy as np\n",
    "from sklearn import metrics"
   ]
  },
  {
   "attachments": {},
   "cell_type": "markdown",
   "id": "12c70e46",
   "metadata": {},
   "source": [
    "# Load  and predict data\n",
    "\n",
    "The below two chunk do all the processing to load clean and predict the OCOD dataset using a pretrained spaCy model"
   ]
  },
  {
   "cell_type": "code",
   "execution_count": 7,
   "id": "a3145e24",
   "metadata": {},
   "outputs": [],
   "source": [
    "from address_parsing_helper_functions import *\n",
    "from locate_and_classify_helper_functions import *\n",
    "\n",
    "#!ipython full_ocod_parse_process.py \"/home/jonno/data/\""
   ]
  },
  {
   "cell_type": "code",
   "execution_count": 12,
   "id": "4c41c760",
   "metadata": {},
   "outputs": [
    {
     "name": "stderr",
     "output_type": "stream",
     "text": [
      "/home/jonno/enhance_ocod/address_parsing_helper_functions.py:473: DtypeWarning: Columns (24,28,30,32,33,34) have mixed types. Specify dtype option on import or set low_memory=False.\n",
      "  ocod_data =  pd.read_csv(file_path,\n"
     ]
    },
    {
     "name": "stdout",
     "output_type": "stream",
     "text": [
      "Loading the spaCy model\n"
     ]
    },
    {
     "name": "stderr",
     "output_type": "stream",
     "text": [
      "/home/jonno/venv/ocod/lib/python3.11/site-packages/spacy/util.py:887: UserWarning: [W095] Model 'en_pipeline' (0.0.0) was trained with spaCy v3.3 and may not be 100% compatible with the current version (3.5.3). If you see errors or degraded performance, download a newer compatible model or retrain your custom model with the current spaCy version. For more details and available updates, run: python -m spacy validate\n",
      "  warnings.warn(warn_msg)\n"
     ]
    },
    {
     "name": "stdout",
     "output_type": "stream",
     "text": [
      "Adding the datapoint id and title number meta data to the property address\n",
      "predicting over the OCOD dataset using the pre-trained spaCy model\n",
      "extracting entity label text\n",
      "Names Entity Recognition labelling complete\n"
     ]
    }
   ],
   "source": [
    "\n",
    "#\"./data/spacy_data/training/data_24_05_22/model-best\"\n",
    "ocod_data = load_and_prep_OCOD_data('./data/' + 'OCOD_FULL_2022_02.csv')\n",
    "#for data without overlapping spans, where the spans were removed by my own script\n",
    "#all_entities = load_cleaned_labels('./data/full_dataset_no_overlaps.json')\n",
    "\n",
    "#for predicting from the original dataset using spacy model\n",
    "\n",
    "#\"./data/spacy_cpu_model\"\n",
    "#\"./data/spacy_data/training/data_25_05_22/model-best\"\n",
    "#\"./data/spacy_data/training/data_25_05_22/model-last\"\n",
    "all_entities = spacy_pred_fn(spacy_model_path = \"./data/spacy_data/spacy_cpu_model\", ocod_data = ocod_data) \n",
    "#for data with overlapping spans overlapping spans\n",
    "#all_entities = load_data_with_overlaps_jonno('/tf/data/test.json')"
   ]
  },
  {
   "attachments": {},
   "cell_type": "markdown",
   "id": "970a3087",
   "metadata": {},
   "source": [
    "# Assesing quality\n",
    "\n",
    "This section allows for the spacy model to be evaluated using the groundtruth dataset"
   ]
  },
  {
   "cell_type": "code",
   "execution_count": 9,
   "id": "beb9b5d1",
   "metadata": {},
   "outputs": [
    {
     "ename": "NameError",
     "evalue": "name 'all_entities' is not defined",
     "output_type": "error",
     "traceback": [
      "\u001b[0;31m---------------------------------------------------------------------------\u001b[0m",
      "\u001b[0;31mNameError\u001b[0m                                 Traceback (most recent call last)",
      "Cell \u001b[0;32mIn[9], line 12\u001b[0m\n\u001b[1;32m      3\u001b[0m \u001b[39m#I only need a small number of the columns to be able to calculate the F1 score\u001b[39;00m\n\u001b[1;32m      4\u001b[0m \u001b[39m#Everything else just makes it confusing. \u001b[39;00m\n\u001b[1;32m      5\u001b[0m \u001b[39m#renaming is for consistancy\u001b[39;00m\n\u001b[1;32m      6\u001b[0m ground_truth_df \u001b[39m=\u001b[39m ground_truth_df\u001b[39m.\u001b[39mloc[ground_truth_df\u001b[39m.\u001b[39mloc[:,\u001b[39m'\u001b[39m\u001b[39mresult_type\u001b[39m\u001b[39m'\u001b[39m]\u001b[39m==\u001b[39m\u001b[39m\"\u001b[39m\u001b[39mspan\u001b[39m\u001b[39m\"\u001b[39m,[ \u001b[39m'\u001b[39m\u001b[39mresult_type\u001b[39m\u001b[39m'\u001b[39m, \u001b[39m'\u001b[39m\u001b[39mlabel\u001b[39m\u001b[39m'\u001b[39m,\n\u001b[1;32m      7\u001b[0m        \u001b[39m'\u001b[39m\u001b[39mstart\u001b[39m\u001b[39m'\u001b[39m, \u001b[39m'\u001b[39m\u001b[39mend\u001b[39m\u001b[39m'\u001b[39m, \u001b[39m'\u001b[39m\u001b[39mtext\u001b[39m\u001b[39m'\u001b[39m, \u001b[39m'\u001b[39m\u001b[39minput:text\u001b[39m\u001b[39m'\u001b[39m, \u001b[39m'\u001b[39m\u001b[39minput:datapoint_id\u001b[39m\u001b[39m'\u001b[39m]]\u001b[39m.\u001b[39mrename(\n\u001b[1;32m      8\u001b[0m     columns \u001b[39m=\u001b[39m {\u001b[39m'\u001b[39m\u001b[39minput:text\u001b[39m\u001b[39m'\u001b[39m:\u001b[39m'\u001b[39m\u001b[39mproperty_address\u001b[39m\u001b[39m'\u001b[39m,\n\u001b[1;32m      9\u001b[0m               \u001b[39m'\u001b[39m\u001b[39minput:datapoint_id\u001b[39m\u001b[39m'\u001b[39m:\u001b[39m'\u001b[39m\u001b[39mdatapoint_id\u001b[39m\u001b[39m'\u001b[39m,\n\u001b[1;32m     10\u001b[0m               \u001b[39m'\u001b[39m\u001b[39mtext\u001b[39m\u001b[39m'\u001b[39m:\u001b[39m'\u001b[39m\u001b[39mlabel_text\u001b[39m\u001b[39m'\u001b[39m})\n\u001b[0;32m---> 12\u001b[0m ground_truth_df \u001b[39m=\u001b[39m ground_truth_df\u001b[39m.\u001b[39mmerge(all_entities\u001b[39m.\u001b[39mloc[all_entities\u001b[39m.\u001b[39mdatapoint_id\u001b[39m.\u001b[39misin(ground_truth_df\u001b[39m.\u001b[39mdatapoint_id),\n\u001b[1;32m     13\u001b[0m                                        [\u001b[39m'\u001b[39m\u001b[39mstart\u001b[39m\u001b[39m'\u001b[39m, \u001b[39m'\u001b[39m\u001b[39mend\u001b[39m\u001b[39m'\u001b[39m, \u001b[39m'\u001b[39m\u001b[39mdatapoint_id\u001b[39m\u001b[39m'\u001b[39m ,\u001b[39m'\u001b[39m\u001b[39mlabel\u001b[39m\u001b[39m'\u001b[39m]\n\u001b[1;32m     14\u001b[0m                                       ],\n\u001b[1;32m     15\u001b[0m                      how \u001b[39m=\u001b[39m \u001b[39m\"\u001b[39m\u001b[39mleft\u001b[39m\u001b[39m\"\u001b[39m, on \u001b[39m=\u001b[39m [\u001b[39m'\u001b[39m\u001b[39mstart\u001b[39m\u001b[39m'\u001b[39m, \u001b[39m'\u001b[39m\u001b[39mend\u001b[39m\u001b[39m'\u001b[39m, \u001b[39m'\u001b[39m\u001b[39mdatapoint_id\u001b[39m\u001b[39m'\u001b[39m])\n\u001b[1;32m     17\u001b[0m \u001b[39m#These are the elements that are most important to get right\u001b[39;00m\n\u001b[1;32m     18\u001b[0m ground_truth_important_df \u001b[39m=\u001b[39m ground_truth_df[ground_truth_df\u001b[39m.\u001b[39mlabel_x\u001b[39m.\u001b[39misin([\u001b[39m'\u001b[39m\u001b[39mbuilding_name\u001b[39m\u001b[39m'\u001b[39m,\u001b[39m'\u001b[39m\u001b[39mstreet_name\u001b[39m\u001b[39m'\u001b[39m, \u001b[39m'\u001b[39m\u001b[39mstreet_number\u001b[39m\u001b[39m'\u001b[39m,\u001b[39m'\u001b[39m\u001b[39munit_id\u001b[39m\u001b[39m'\u001b[39m])]\n",
      "\u001b[0;31mNameError\u001b[0m: name 'all_entities' is not defined"
     ]
    }
   ],
   "source": [
    "ground_truth_df = pd.read_csv('./data/ground_truth_test_set_labels.csv')\n",
    "\n",
    "#I only need a small number of the columns to be able to calculate the F1 score\n",
    "#Everything else just makes it confusing. \n",
    "#renaming is for consistancy\n",
    "ground_truth_df = ground_truth_df.loc[ground_truth_df.loc[:,'result_type']==\"span\",[ 'result_type', 'label',\n",
    "       'start', 'end', 'text', 'input:text', 'input:datapoint_id']].rename(\n",
    "    columns = {'input:text':'property_address',\n",
    "              'input:datapoint_id':'datapoint_id',\n",
    "              'text':'label_text'})\n",
    "\n",
    "ground_truth_df = ground_truth_df.merge(all_entities.loc[all_entities.datapoint_id.isin(ground_truth_df.datapoint_id),\n",
    "                                       ['start', 'end', 'datapoint_id' ,'label']\n",
    "                                      ],\n",
    "                     how = \"left\", on = ['start', 'end', 'datapoint_id'])\n",
    "\n",
    "#These are the elements that are most important to get right\n",
    "ground_truth_important_df = ground_truth_df[ground_truth_df.label_x.isin(['building_name','street_name', 'street_number','unit_id'])]"
   ]
  },
  {
   "cell_type": "code",
   "execution_count": 46,
   "id": "67253a88",
   "metadata": {},
   "outputs": [],
   "source": [
    "ground_truth_df.to_csv('./data/what_errors_dev.csv')"
   ]
  },
  {
   "cell_type": "code",
   "execution_count": 18,
   "id": "b199672b",
   "metadata": {},
   "outputs": [
    {
     "data": {
      "text/html": [
       "<div>\n",
       "<style scoped>\n",
       "    .dataframe tbody tr th:only-of-type {\n",
       "        vertical-align: middle;\n",
       "    }\n",
       "\n",
       "    .dataframe tbody tr th {\n",
       "        vertical-align: top;\n",
       "    }\n",
       "\n",
       "    .dataframe thead th {\n",
       "        text-align: right;\n",
       "    }\n",
       "</style>\n",
       "<table border=\"1\" class=\"dataframe\">\n",
       "  <thead>\n",
       "    <tr style=\"text-align: right;\">\n",
       "      <th></th>\n",
       "      <th>metric</th>\n",
       "      <th>values</th>\n",
       "    </tr>\n",
       "  </thead>\n",
       "  <tbody>\n",
       "    <tr>\n",
       "      <th>0</th>\n",
       "      <td>precision</td>\n",
       "      <td>0.95</td>\n",
       "    </tr>\n",
       "    <tr>\n",
       "      <th>1</th>\n",
       "      <td>recall</td>\n",
       "      <td>0.95</td>\n",
       "    </tr>\n",
       "    <tr>\n",
       "      <th>2</th>\n",
       "      <td>fscore</td>\n",
       "      <td>0.95</td>\n",
       "    </tr>\n",
       "  </tbody>\n",
       "</table>\n",
       "</div>"
      ],
      "text/plain": [
       "      metric  values\n",
       "0  precision    0.95\n",
       "1     recall    0.95\n",
       "2     fscore    0.95"
      ]
     },
     "execution_count": 18,
     "metadata": {},
     "output_type": "execute_result"
    }
   ],
   "source": [
    "label_names = list(np.unique(ground_truth_df.label_x.to_list()))\n",
    "\n",
    "overall_score = pd.DataFrame( \n",
    "              [round(x,2) for x in \n",
    "               metrics.precision_recall_fscore_support(ground_truth_important_df.label_x.to_list(),\n",
    "                                        ground_truth_important_df.label_y.to_list(), \n",
    "                                        average = \"micro\")[0:3]], columns = [\"values\"])\n",
    "overall_score['metric']=[\"precision\", \"recall\", \"fscore\"]\n",
    "\n",
    "\n",
    "overall_score[['metric', 'values']]\n"
   ]
  },
  {
   "attachments": {},
   "cell_type": "markdown",
   "id": "9bc04ed2",
   "metadata": {},
   "source": [
    "The below chunk creates the performance table used in the paper"
   ]
  },
  {
   "cell_type": "code",
   "execution_count": 19,
   "id": "83162a80",
   "metadata": {},
   "outputs": [
    {
     "name": "stdout",
     "output_type": "stream",
     "text": [
      "\\begin{tabular}{lrrrr}\n",
      "\\toprule\n",
      "        class &  precision &  recall &  fscore &  support \\\\\n",
      "\\midrule\n",
      "building_name &       0.93 &    0.89 &    0.91 &    383.0 \\\\\n",
      "         city &       1.00 &    0.97 &    0.98 &    947.0 \\\\\n",
      "number_filter &       1.00 &    1.00 &    1.00 &     23.0 \\\\\n",
      "     postcode &       1.00 &    1.00 &    1.00 &    768.0 \\\\\n",
      "  street_name &       1.00 &    0.95 &    0.97 &   1029.0 \\\\\n",
      "street_number &       0.98 &    0.98 &    0.98 &    678.0 \\\\\n",
      "      unit_id &       0.98 &    0.92 &    0.95 &    370.0 \\\\\n",
      "    unit_type &       1.00 &    0.97 &    0.98 &    488.0 \\\\\n",
      "\\bottomrule\n",
      "\\end{tabular}\n",
      "\n"
     ]
    },
    {
     "name": "stderr",
     "output_type": "stream",
     "text": [
      "<ipython-input-19-3ffd4ba58f72>:8: FutureWarning: In future versions `DataFrame.to_latex` is expected to utilise the base implementation of `Styler.to_latex` for formatting and rendering. The arguments signature may therefore change. It is recommended instead to use `DataFrame.style.to_latex` which also contains additional functionality.\n",
      "  print(performance_df[['class',\"precision\", \"recall\", \"fscore\", \"support\"]].to_latex(index = False, escape = False))\n"
     ]
    }
   ],
   "source": [
    "\n",
    "performance_df = metrics.precision_recall_fscore_support(ground_truth_df.label_x.to_list(),\n",
    "                                        ground_truth_df.label_y.to_list(), \n",
    "                                        labels = label_names)\n",
    "\n",
    "performance_df = pd.DataFrame(np.round_(np.transpose(performance_df),2), columns = [\"precision\", \"recall\", \"fscore\", \"support\"])\n",
    "performance_df['class'] = list(np.unique(ground_truth_df.label_x.to_list()))\n",
    "performance_df[['class',\"precision\", \"recall\", \"fscore\", \"support\"]]\n",
    "print(performance_df[['class',\"precision\", \"recall\", \"fscore\", \"support\"]].to_latex(index = False, escape = False))"
   ]
  },
  {
   "cell_type": "code",
   "execution_count": 14,
   "id": "019ffea3",
   "metadata": {},
   "outputs": [
    {
     "data": {
      "text/html": [
       "<div>\n",
       "<style scoped>\n",
       "    .dataframe tbody tr th:only-of-type {\n",
       "        vertical-align: middle;\n",
       "    }\n",
       "\n",
       "    .dataframe tbody tr th {\n",
       "        vertical-align: top;\n",
       "    }\n",
       "\n",
       "    .dataframe thead th {\n",
       "        text-align: right;\n",
       "    }\n",
       "</style>\n",
       "<table border=\"1\" class=\"dataframe\">\n",
       "  <thead>\n",
       "    <tr style=\"text-align: right;\">\n",
       "      <th></th>\n",
       "      <th>class</th>\n",
       "      <th>precision</th>\n",
       "      <th>recall</th>\n",
       "      <th>fscore</th>\n",
       "      <th>support</th>\n",
       "    </tr>\n",
       "  </thead>\n",
       "  <tbody>\n",
       "    <tr>\n",
       "      <th>0</th>\n",
       "      <td>building_name</td>\n",
       "      <td>0.93</td>\n",
       "      <td>0.89</td>\n",
       "      <td>0.91</td>\n",
       "      <td>383.0</td>\n",
       "    </tr>\n",
       "    <tr>\n",
       "      <th>1</th>\n",
       "      <td>city</td>\n",
       "      <td>1.00</td>\n",
       "      <td>0.97</td>\n",
       "      <td>0.98</td>\n",
       "      <td>947.0</td>\n",
       "    </tr>\n",
       "    <tr>\n",
       "      <th>2</th>\n",
       "      <td>number_filter</td>\n",
       "      <td>1.00</td>\n",
       "      <td>1.00</td>\n",
       "      <td>1.00</td>\n",
       "      <td>23.0</td>\n",
       "    </tr>\n",
       "    <tr>\n",
       "      <th>3</th>\n",
       "      <td>postcode</td>\n",
       "      <td>1.00</td>\n",
       "      <td>1.00</td>\n",
       "      <td>1.00</td>\n",
       "      <td>768.0</td>\n",
       "    </tr>\n",
       "    <tr>\n",
       "      <th>4</th>\n",
       "      <td>street_name</td>\n",
       "      <td>1.00</td>\n",
       "      <td>0.95</td>\n",
       "      <td>0.97</td>\n",
       "      <td>1029.0</td>\n",
       "    </tr>\n",
       "    <tr>\n",
       "      <th>5</th>\n",
       "      <td>street_number</td>\n",
       "      <td>0.98</td>\n",
       "      <td>0.98</td>\n",
       "      <td>0.98</td>\n",
       "      <td>678.0</td>\n",
       "    </tr>\n",
       "    <tr>\n",
       "      <th>6</th>\n",
       "      <td>unit_id</td>\n",
       "      <td>0.98</td>\n",
       "      <td>0.92</td>\n",
       "      <td>0.95</td>\n",
       "      <td>370.0</td>\n",
       "    </tr>\n",
       "    <tr>\n",
       "      <th>7</th>\n",
       "      <td>unit_type</td>\n",
       "      <td>1.00</td>\n",
       "      <td>0.97</td>\n",
       "      <td>0.98</td>\n",
       "      <td>488.0</td>\n",
       "    </tr>\n",
       "  </tbody>\n",
       "</table>\n",
       "</div>"
      ],
      "text/plain": [
       "           class  precision  recall  fscore  support\n",
       "0  building_name       0.93    0.89    0.91    383.0\n",
       "1           city       1.00    0.97    0.98    947.0\n",
       "2  number_filter       1.00    1.00    1.00     23.0\n",
       "3       postcode       1.00    1.00    1.00    768.0\n",
       "4    street_name       1.00    0.95    0.97   1029.0\n",
       "5  street_number       0.98    0.98    0.98    678.0\n",
       "6        unit_id       0.98    0.92    0.95    370.0\n",
       "7      unit_type       1.00    0.97    0.98    488.0"
      ]
     },
     "execution_count": 14,
     "metadata": {},
     "output_type": "execute_result"
    }
   ],
   "source": [
    "\n",
    "performance_df = metrics.precision_recall_fscore_support(ground_truth_df.label_x.to_list(),\n",
    "                                        ground_truth_df.label_y.to_list(), \n",
    "                                        labels = label_names)\n",
    "\n",
    "performance_df = pd.DataFrame(np.round_(np.transpose(performance_df),2), columns = [\"precision\", \"recall\", \"fscore\", \"support\"])\n",
    "performance_df['class'] = list(np.unique(ground_truth_df.label_x.to_list()))\n",
    "performance_df[['class',\"precision\", \"recall\", \"fscore\", \"support\"]]\n",
    "#print(performance_df[['class',\"precision\", \"recall\", \"fscore\", \"support\"]].to_latex(index = False, escape = False))"
   ]
  },
  {
   "cell_type": "code",
   "execution_count": 7,
   "id": "830cb92a",
   "metadata": {},
   "outputs": [
    {
     "data": {
      "text/html": [
       "<div>\n",
       "<style scoped>\n",
       "    .dataframe tbody tr th:only-of-type {\n",
       "        vertical-align: middle;\n",
       "    }\n",
       "\n",
       "    .dataframe tbody tr th {\n",
       "        vertical-align: top;\n",
       "    }\n",
       "\n",
       "    .dataframe thead th {\n",
       "        text-align: right;\n",
       "    }\n",
       "</style>\n",
       "<table border=\"1\" class=\"dataframe\">\n",
       "  <thead>\n",
       "    <tr style=\"text-align: right;\">\n",
       "      <th></th>\n",
       "      <th>class</th>\n",
       "      <th>precision</th>\n",
       "      <th>recall</th>\n",
       "      <th>fscore</th>\n",
       "      <th>support</th>\n",
       "    </tr>\n",
       "  </thead>\n",
       "  <tbody>\n",
       "    <tr>\n",
       "      <th>0</th>\n",
       "      <td>building_name</td>\n",
       "      <td>0.93</td>\n",
       "      <td>0.90</td>\n",
       "      <td>0.92</td>\n",
       "      <td>383.0</td>\n",
       "    </tr>\n",
       "    <tr>\n",
       "      <th>1</th>\n",
       "      <td>city</td>\n",
       "      <td>1.00</td>\n",
       "      <td>0.97</td>\n",
       "      <td>0.99</td>\n",
       "      <td>947.0</td>\n",
       "    </tr>\n",
       "    <tr>\n",
       "      <th>2</th>\n",
       "      <td>number_filter</td>\n",
       "      <td>1.00</td>\n",
       "      <td>1.00</td>\n",
       "      <td>1.00</td>\n",
       "      <td>23.0</td>\n",
       "    </tr>\n",
       "    <tr>\n",
       "      <th>3</th>\n",
       "      <td>postcode</td>\n",
       "      <td>1.00</td>\n",
       "      <td>1.00</td>\n",
       "      <td>1.00</td>\n",
       "      <td>768.0</td>\n",
       "    </tr>\n",
       "    <tr>\n",
       "      <th>4</th>\n",
       "      <td>street_name</td>\n",
       "      <td>1.00</td>\n",
       "      <td>0.95</td>\n",
       "      <td>0.97</td>\n",
       "      <td>1029.0</td>\n",
       "    </tr>\n",
       "    <tr>\n",
       "      <th>5</th>\n",
       "      <td>street_number</td>\n",
       "      <td>0.99</td>\n",
       "      <td>0.98</td>\n",
       "      <td>0.99</td>\n",
       "      <td>678.0</td>\n",
       "    </tr>\n",
       "    <tr>\n",
       "      <th>6</th>\n",
       "      <td>unit_id</td>\n",
       "      <td>0.99</td>\n",
       "      <td>0.95</td>\n",
       "      <td>0.97</td>\n",
       "      <td>370.0</td>\n",
       "    </tr>\n",
       "    <tr>\n",
       "      <th>7</th>\n",
       "      <td>unit_type</td>\n",
       "      <td>1.00</td>\n",
       "      <td>0.97</td>\n",
       "      <td>0.98</td>\n",
       "      <td>488.0</td>\n",
       "    </tr>\n",
       "  </tbody>\n",
       "</table>\n",
       "</div>"
      ],
      "text/plain": [
       "           class  precision  recall  fscore  support\n",
       "0  building_name       0.93    0.90    0.92    383.0\n",
       "1           city       1.00    0.97    0.99    947.0\n",
       "2  number_filter       1.00    1.00    1.00     23.0\n",
       "3       postcode       1.00    1.00    1.00    768.0\n",
       "4    street_name       1.00    0.95    0.97   1029.0\n",
       "5  street_number       0.99    0.98    0.99    678.0\n",
       "6        unit_id       0.99    0.95    0.97    370.0\n",
       "7      unit_type       1.00    0.97    0.98    488.0"
      ]
     },
     "execution_count": 7,
     "metadata": {},
     "output_type": "execute_result"
    }
   ],
   "source": [
    "\n",
    "performance_df = metrics.precision_recall_fscore_support(ground_truth_df.label_x.to_list(),\n",
    "                                        ground_truth_df.label_y.to_list(), \n",
    "                                        labels = label_names)\n",
    "\n",
    "performance_df = pd.DataFrame(np.round_(np.transpose(performance_df),2), columns = [\"precision\", \"recall\", \"fscore\", \"support\"])\n",
    "performance_df['class'] = list(np.unique(ground_truth_df.label_x.to_list()))\n",
    "performance_df[['class',\"precision\", \"recall\", \"fscore\", \"support\"]]\n",
    "#print(performance_df[['class',\"precision\", \"recall\", \"fscore\", \"support\"]].to_latex(index = False, escape = False))"
   ]
  },
  {
   "attachments": {},
   "cell_type": "markdown",
   "id": "72ebdacd",
   "metadata": {},
   "source": [
    "## Example of the data frame of labels"
   ]
  },
  {
   "cell_type": "code",
   "execution_count": 8,
   "id": "4fe11238",
   "metadata": {},
   "outputs": [
    {
     "data": {
      "text/html": [
       "<div>\n",
       "<style scoped>\n",
       "    .dataframe tbody tr th:only-of-type {\n",
       "        vertical-align: middle;\n",
       "    }\n",
       "\n",
       "    .dataframe tbody tr th {\n",
       "        vertical-align: top;\n",
       "    }\n",
       "\n",
       "    .dataframe thead th {\n",
       "        text-align: right;\n",
       "    }\n",
       "</style>\n",
       "<table border=\"1\" class=\"dataframe\">\n",
       "  <thead>\n",
       "    <tr style=\"text-align: right;\">\n",
       "      <th></th>\n",
       "      <th>start</th>\n",
       "      <th>end</th>\n",
       "      <th>label_text</th>\n",
       "      <th>labelId</th>\n",
       "      <th>label</th>\n",
       "      <th>labellingFunctionId</th>\n",
       "      <th>groundTruthId</th>\n",
       "      <th>datapoint_id</th>\n",
       "      <th>text</th>\n",
       "      <th>label_id_count</th>\n",
       "    </tr>\n",
       "  </thead>\n",
       "  <tbody>\n",
       "    <tr>\n",
       "      <th>0</th>\n",
       "      <td>0</td>\n",
       "      <td>25</td>\n",
       "      <td>westleigh lodge care home</td>\n",
       "      <td>10</td>\n",
       "      <td>building_name</td>\n",
       "      <td>73</td>\n",
       "      <td>None</td>\n",
       "      <td>0</td>\n",
       "      <td>westleigh lodge care home, nel pan lane, leigh...</td>\n",
       "      <td>0</td>\n",
       "    </tr>\n",
       "    <tr>\n",
       "      <th>1</th>\n",
       "      <td>27</td>\n",
       "      <td>39</td>\n",
       "      <td>nel pan lane</td>\n",
       "      <td>12</td>\n",
       "      <td>street_name</td>\n",
       "      <td>28</td>\n",
       "      <td>None</td>\n",
       "      <td>0</td>\n",
       "      <td>westleigh lodge care home, nel pan lane, leigh...</td>\n",
       "      <td>0</td>\n",
       "    </tr>\n",
       "    <tr>\n",
       "      <th>2</th>\n",
       "      <td>41</td>\n",
       "      <td>46</td>\n",
       "      <td>leigh</td>\n",
       "      <td>5</td>\n",
       "      <td>city</td>\n",
       "      <td>10</td>\n",
       "      <td>None</td>\n",
       "      <td>0</td>\n",
       "      <td>westleigh lodge care home, nel pan lane, leigh...</td>\n",
       "      <td>0</td>\n",
       "    </tr>\n",
       "    <tr>\n",
       "      <th>3</th>\n",
       "      <td>48</td>\n",
       "      <td>55</td>\n",
       "      <td>wn7 5jt</td>\n",
       "      <td>11</td>\n",
       "      <td>postcode</td>\n",
       "      <td>50</td>\n",
       "      <td>None</td>\n",
       "      <td>0</td>\n",
       "      <td>westleigh lodge care home, nel pan lane, leigh...</td>\n",
       "      <td>0</td>\n",
       "    </tr>\n",
       "    <tr>\n",
       "      <th>4</th>\n",
       "      <td>0</td>\n",
       "      <td>4</td>\n",
       "      <td>flat</td>\n",
       "      <td>15</td>\n",
       "      <td>unit_type</td>\n",
       "      <td>15</td>\n",
       "      <td>None</td>\n",
       "      <td>1</td>\n",
       "      <td>flat 1, 1a canal street, manchester (m1 3he)</td>\n",
       "      <td>0</td>\n",
       "    </tr>\n",
       "    <tr>\n",
       "      <th>...</th>\n",
       "      <td>...</td>\n",
       "      <td>...</td>\n",
       "      <td>...</td>\n",
       "      <td>...</td>\n",
       "      <td>...</td>\n",
       "      <td>...</td>\n",
       "      <td>...</td>\n",
       "      <td>...</td>\n",
       "      <td>...</td>\n",
       "      <td>...</td>\n",
       "    </tr>\n",
       "    <tr>\n",
       "      <th>434483</th>\n",
       "      <td>12</td>\n",
       "      <td>42</td>\n",
       "      <td>discovery dock apartments east</td>\n",
       "      <td>10</td>\n",
       "      <td>building_name</td>\n",
       "      <td>39</td>\n",
       "      <td>None</td>\n",
       "      <td>94087</td>\n",
       "      <td>storage 17, discovery dock apartments east, 3 ...</td>\n",
       "      <td>0</td>\n",
       "    </tr>\n",
       "    <tr>\n",
       "      <th>434484</th>\n",
       "      <td>44</td>\n",
       "      <td>45</td>\n",
       "      <td>3</td>\n",
       "      <td>13</td>\n",
       "      <td>street_number</td>\n",
       "      <td>7</td>\n",
       "      <td>None</td>\n",
       "      <td>94087</td>\n",
       "      <td>storage 17, discovery dock apartments east, 3 ...</td>\n",
       "      <td>0</td>\n",
       "    </tr>\n",
       "    <tr>\n",
       "      <th>434485</th>\n",
       "      <td>46</td>\n",
       "      <td>63</td>\n",
       "      <td>south quay square</td>\n",
       "      <td>12</td>\n",
       "      <td>street_name</td>\n",
       "      <td>28</td>\n",
       "      <td>None</td>\n",
       "      <td>94087</td>\n",
       "      <td>storage 17, discovery dock apartments east, 3 ...</td>\n",
       "      <td>0</td>\n",
       "    </tr>\n",
       "    <tr>\n",
       "      <th>434486</th>\n",
       "      <td>65</td>\n",
       "      <td>71</td>\n",
       "      <td>london</td>\n",
       "      <td>5</td>\n",
       "      <td>city</td>\n",
       "      <td>10</td>\n",
       "      <td>None</td>\n",
       "      <td>94087</td>\n",
       "      <td>storage 17, discovery dock apartments east, 3 ...</td>\n",
       "      <td>0</td>\n",
       "    </tr>\n",
       "    <tr>\n",
       "      <th>434487</th>\n",
       "      <td>73</td>\n",
       "      <td>80</td>\n",
       "      <td>e14 9ru</td>\n",
       "      <td>11</td>\n",
       "      <td>postcode</td>\n",
       "      <td>50</td>\n",
       "      <td>None</td>\n",
       "      <td>94087</td>\n",
       "      <td>storage 17, discovery dock apartments east, 3 ...</td>\n",
       "      <td>0</td>\n",
       "    </tr>\n",
       "  </tbody>\n",
       "</table>\n",
       "<p>434488 rows × 10 columns</p>\n",
       "</div>"
      ],
      "text/plain": [
       "        start  end                      label_text labelId          label  \\\n",
       "0           0   25       westleigh lodge care home      10  building_name   \n",
       "1          27   39                    nel pan lane      12    street_name   \n",
       "2          41   46                           leigh       5           city   \n",
       "3          48   55                         wn7 5jt      11       postcode   \n",
       "4           0    4                            flat      15      unit_type   \n",
       "...       ...  ...                             ...     ...            ...   \n",
       "434483     12   42  discovery dock apartments east      10  building_name   \n",
       "434484     44   45                               3      13  street_number   \n",
       "434485     46   63               south quay square      12    street_name   \n",
       "434486     65   71                          london       5           city   \n",
       "434487     73   80                         e14 9ru      11       postcode   \n",
       "\n",
       "        labellingFunctionId groundTruthId datapoint_id  \\\n",
       "0                        73          None            0   \n",
       "1                        28          None            0   \n",
       "2                        10          None            0   \n",
       "3                        50          None            0   \n",
       "4                        15          None            1   \n",
       "...                     ...           ...          ...   \n",
       "434483                   39          None        94087   \n",
       "434484                    7          None        94087   \n",
       "434485                   28          None        94087   \n",
       "434486                   10          None        94087   \n",
       "434487                   50          None        94087   \n",
       "\n",
       "                                                     text  label_id_count  \n",
       "0       westleigh lodge care home, nel pan lane, leigh...               0  \n",
       "1       westleigh lodge care home, nel pan lane, leigh...               0  \n",
       "2       westleigh lodge care home, nel pan lane, leigh...               0  \n",
       "3       westleigh lodge care home, nel pan lane, leigh...               0  \n",
       "4            flat 1, 1a canal street, manchester (m1 3he)               0  \n",
       "...                                                   ...             ...  \n",
       "434483  storage 17, discovery dock apartments east, 3 ...               0  \n",
       "434484  storage 17, discovery dock apartments east, 3 ...               0  \n",
       "434485  storage 17, discovery dock apartments east, 3 ...               0  \n",
       "434486  storage 17, discovery dock apartments east, 3 ...               0  \n",
       "434487  storage 17, discovery dock apartments east, 3 ...               0  \n",
       "\n",
       "[434488 rows x 10 columns]"
      ]
     },
     "execution_count": 8,
     "metadata": {},
     "output_type": "execute_result"
    }
   ],
   "source": [
    "all_entities"
   ]
  },
  {
   "attachments": {},
   "cell_type": "markdown",
   "id": "02eca1da",
   "metadata": {},
   "source": [
    "## Identify multi versus single address observations\n",
    "\n",
    "Some addresses may have the form xx to yy but should not be expanded as this is a building that covers multiple street numbers. Items such as these need to be carefully removed before expansion"
   ]
  },
  {
   "cell_type": "code",
   "execution_count": 9,
   "id": "1ea58657",
   "metadata": {},
   "outputs": [],
   "source": [
    "#This regex is used in several places and is kept here as it was originally used in the function below.\n",
    "xx_to_yy_regex = r'^\\d+\\s?(?:-|to)\\s?\\d+$'\n",
    "multi_unit_id, multi_property, all_multi_ids = identify_multi_addresses(all_entities)"
   ]
  },
  {
   "cell_type": "code",
   "execution_count": 10,
   "id": "03b56ec5",
   "metadata": {},
   "outputs": [
    {
     "name": "stderr",
     "output_type": "stream",
     "text": [
      "/tf/empty_homes_london/address_parsing_helper_functions.py:341: SettingWithCopyWarning: \n",
      "A value is trying to be set on a copy of a slice from a DataFrame.\n",
      "Try using .loc[row_indexer,col_indexer] = value instead\n",
      "\n",
      "See the caveats in the documentation: https://pandas.pydata.org/pandas-docs/stable/user_guide/indexing.html#returning-a-view-versus-a-copy\n",
      "  temp_df['index'] = temp_df.index\n"
     ]
    }
   ],
   "source": [
    "df = spread_address_labels(all_entities, all_multi_ids)\n",
    "#Blockers prevent the filling of wrong information. As an example if a building is going to back fill up \n",
    "#previous addresses it should not back fill past another street as this is highly unlikely to be the same building\n",
    "df = add_backfill_blockers(df)\n",
    "df = backfill_address_labels(df)"
   ]
  },
  {
   "cell_type": "code",
   "execution_count": 11,
   "id": "d669be44",
   "metadata": {},
   "outputs": [
    {
     "data": {
      "text/html": [
       "<div>\n",
       "<style scoped>\n",
       "    .dataframe tbody tr th:only-of-type {\n",
       "        vertical-align: middle;\n",
       "    }\n",
       "\n",
       "    .dataframe tbody tr th {\n",
       "        vertical-align: top;\n",
       "    }\n",
       "\n",
       "    .dataframe thead th {\n",
       "        text-align: right;\n",
       "    }\n",
       "</style>\n",
       "<table border=\"1\" class=\"dataframe\">\n",
       "  <thead>\n",
       "    <tr style=\"text-align: right;\">\n",
       "      <th></th>\n",
       "      <th>datapoint_id</th>\n",
       "      <th>building_name</th>\n",
       "      <th>city</th>\n",
       "      <th>number_filter</th>\n",
       "      <th>postcode</th>\n",
       "      <th>street_name</th>\n",
       "      <th>street_number</th>\n",
       "      <th>unit_id</th>\n",
       "      <th>unit_type</th>\n",
       "      <th>text</th>\n",
       "    </tr>\n",
       "  </thead>\n",
       "  <tbody>\n",
       "    <tr>\n",
       "      <th>0</th>\n",
       "      <td>13</td>\n",
       "      <td>block</td>\n",
       "      <td>peterborough</td>\n",
       "      <td>even</td>\n",
       "      <td>NaN</td>\n",
       "      <td>miller way</td>\n",
       "      <td>2-24</td>\n",
       "      <td>NaN</td>\n",
       "      <td>NaN</td>\n",
       "      <td>2-24 (even) miller way, 15-25 hammonds drive (...</td>\n",
       "    </tr>\n",
       "    <tr>\n",
       "      <th>1</th>\n",
       "      <td>13</td>\n",
       "      <td>block</td>\n",
       "      <td>peterborough</td>\n",
       "      <td>even</td>\n",
       "      <td>NaN</td>\n",
       "      <td>miller way</td>\n",
       "      <td>block</td>\n",
       "      <td>NaN</td>\n",
       "      <td>NaN</td>\n",
       "      <td>2-24 (even) miller way, 15-25 hammonds drive (...</td>\n",
       "    </tr>\n",
       "    <tr>\n",
       "      <th>2</th>\n",
       "      <td>13</td>\n",
       "      <td>block</td>\n",
       "      <td>peterborough</td>\n",
       "      <td>block</td>\n",
       "      <td>NaN</td>\n",
       "      <td>miller way</td>\n",
       "      <td>block</td>\n",
       "      <td>NaN</td>\n",
       "      <td>NaN</td>\n",
       "      <td>2-24 (even) miller way, 15-25 hammonds drive (...</td>\n",
       "    </tr>\n",
       "    <tr>\n",
       "      <th>3</th>\n",
       "      <td>13</td>\n",
       "      <td>block</td>\n",
       "      <td>peterborough</td>\n",
       "      <td>block</td>\n",
       "      <td>NaN</td>\n",
       "      <td>hammonds drive</td>\n",
       "      <td>15-25</td>\n",
       "      <td>NaN</td>\n",
       "      <td>NaN</td>\n",
       "      <td>2-24 (even) miller way, 15-25 hammonds drive (...</td>\n",
       "    </tr>\n",
       "    <tr>\n",
       "      <th>4</th>\n",
       "      <td>13</td>\n",
       "      <td>block</td>\n",
       "      <td>peterborough</td>\n",
       "      <td>block</td>\n",
       "      <td>NaN</td>\n",
       "      <td>hammonds drive</td>\n",
       "      <td>block</td>\n",
       "      <td>NaN</td>\n",
       "      <td>NaN</td>\n",
       "      <td>2-24 (even) miller way, 15-25 hammonds drive (...</td>\n",
       "    </tr>\n",
       "    <tr>\n",
       "      <th>...</th>\n",
       "      <td>...</td>\n",
       "      <td>...</td>\n",
       "      <td>...</td>\n",
       "      <td>...</td>\n",
       "      <td>...</td>\n",
       "      <td>...</td>\n",
       "      <td>...</td>\n",
       "      <td>...</td>\n",
       "      <td>...</td>\n",
       "      <td>...</td>\n",
       "    </tr>\n",
       "    <tr>\n",
       "      <th>41875</th>\n",
       "      <td>94046</td>\n",
       "      <td>block</td>\n",
       "      <td>sheffield</td>\n",
       "      <td>block</td>\n",
       "      <td>NaN</td>\n",
       "      <td>doveholes drive</td>\n",
       "      <td>50 to 55</td>\n",
       "      <td>NaN</td>\n",
       "      <td>NaN</td>\n",
       "      <td>50 to 55 (inclusive), 62 to 73 (inclusive) and...</td>\n",
       "    </tr>\n",
       "    <tr>\n",
       "      <th>41876</th>\n",
       "      <td>94046</td>\n",
       "      <td>block</td>\n",
       "      <td>sheffield</td>\n",
       "      <td>block</td>\n",
       "      <td>NaN</td>\n",
       "      <td>doveholes drive</td>\n",
       "      <td>62 to 73</td>\n",
       "      <td>NaN</td>\n",
       "      <td>NaN</td>\n",
       "      <td>50 to 55 (inclusive), 62 to 73 (inclusive) and...</td>\n",
       "    </tr>\n",
       "    <tr>\n",
       "      <th>41877</th>\n",
       "      <td>94046</td>\n",
       "      <td>block</td>\n",
       "      <td>sheffield</td>\n",
       "      <td>block</td>\n",
       "      <td>NaN</td>\n",
       "      <td>doveholes drive</td>\n",
       "      <td>81 to 91</td>\n",
       "      <td>NaN</td>\n",
       "      <td>NaN</td>\n",
       "      <td>50 to 55 (inclusive), 62 to 73 (inclusive) and...</td>\n",
       "    </tr>\n",
       "    <tr>\n",
       "      <th>41878</th>\n",
       "      <td>94046</td>\n",
       "      <td>block</td>\n",
       "      <td>sheffield</td>\n",
       "      <td>block</td>\n",
       "      <td>NaN</td>\n",
       "      <td>doveholes drive</td>\n",
       "      <td>block</td>\n",
       "      <td>NaN</td>\n",
       "      <td>NaN</td>\n",
       "      <td>50 to 55 (inclusive), 62 to 73 (inclusive) and...</td>\n",
       "    </tr>\n",
       "    <tr>\n",
       "      <th>41879</th>\n",
       "      <td>94046</td>\n",
       "      <td>NaN</td>\n",
       "      <td>sheffield</td>\n",
       "      <td>block</td>\n",
       "      <td>NaN</td>\n",
       "      <td>NaN</td>\n",
       "      <td>NaN</td>\n",
       "      <td>NaN</td>\n",
       "      <td>NaN</td>\n",
       "      <td>50 to 55 (inclusive), 62 to 73 (inclusive) and...</td>\n",
       "    </tr>\n",
       "  </tbody>\n",
       "</table>\n",
       "<p>41880 rows × 10 columns</p>\n",
       "</div>"
      ],
      "text/plain": [
       "      datapoint_id building_name          city number_filter postcode  \\\n",
       "0               13         block  peterborough          even      NaN   \n",
       "1               13         block  peterborough          even      NaN   \n",
       "2               13         block  peterborough         block      NaN   \n",
       "3               13         block  peterborough         block      NaN   \n",
       "4               13         block  peterborough         block      NaN   \n",
       "...            ...           ...           ...           ...      ...   \n",
       "41875        94046         block     sheffield         block      NaN   \n",
       "41876        94046         block     sheffield         block      NaN   \n",
       "41877        94046         block     sheffield         block      NaN   \n",
       "41878        94046         block     sheffield         block      NaN   \n",
       "41879        94046           NaN     sheffield         block      NaN   \n",
       "\n",
       "           street_name street_number unit_id unit_type  \\\n",
       "0           miller way          2-24     NaN       NaN   \n",
       "1           miller way         block     NaN       NaN   \n",
       "2           miller way         block     NaN       NaN   \n",
       "3       hammonds drive         15-25     NaN       NaN   \n",
       "4       hammonds drive         block     NaN       NaN   \n",
       "...                ...           ...     ...       ...   \n",
       "41875  doveholes drive      50 to 55     NaN       NaN   \n",
       "41876  doveholes drive      62 to 73     NaN       NaN   \n",
       "41877  doveholes drive      81 to 91     NaN       NaN   \n",
       "41878  doveholes drive         block     NaN       NaN   \n",
       "41879              NaN           NaN     NaN       NaN   \n",
       "\n",
       "                                                    text  \n",
       "0      2-24 (even) miller way, 15-25 hammonds drive (...  \n",
       "1      2-24 (even) miller way, 15-25 hammonds drive (...  \n",
       "2      2-24 (even) miller way, 15-25 hammonds drive (...  \n",
       "3      2-24 (even) miller way, 15-25 hammonds drive (...  \n",
       "4      2-24 (even) miller way, 15-25 hammonds drive (...  \n",
       "...                                                  ...  \n",
       "41875  50 to 55 (inclusive), 62 to 73 (inclusive) and...  \n",
       "41876  50 to 55 (inclusive), 62 to 73 (inclusive) and...  \n",
       "41877  50 to 55 (inclusive), 62 to 73 (inclusive) and...  \n",
       "41878  50 to 55 (inclusive), 62 to 73 (inclusive) and...  \n",
       "41879  50 to 55 (inclusive), 62 to 73 (inclusive) and...  \n",
       "\n",
       "[41880 rows x 10 columns]"
      ]
     },
     "execution_count": 11,
     "metadata": {},
     "output_type": "execute_result"
    }
   ],
   "source": [
    "df"
   ]
  },
  {
   "cell_type": "code",
   "execution_count": 60,
   "id": "71d10825",
   "metadata": {},
   "outputs": [
    {
     "name": "stdout",
     "output_type": "stream",
     "text": [
      "i= 0  expand time,0.0 filter time0.0 make_dataframe_time 0.001\n",
      "i= 1000  expand time,0.194 filter time0.12 make_dataframe_time 0.993\n",
      "i= 2000  expand time,0.387 filter time0.241 make_dataframe_time 1.924\n",
      "i= 0  expand time,0.001 filter time0.0 make_dataframe_time 0.001\n",
      "i= 1000  expand time,0.191 filter time0.116 make_dataframe_time 1.076\n"
     ]
    },
    {
     "name": "stderr",
     "output_type": "stream",
     "text": [
      "/usr/local/lib/python3.8/dist-packages/pandas/core/algorithms.py:798: FutureWarning: In a future version, the Index constructor will not infer numeric dtypes when passed object-dtype sequences (matching Series behavior)\n",
      "  uniques = Index(uniques)\n",
      "/usr/local/lib/python3.8/dist-packages/pandas/core/algorithms.py:798: FutureWarning: In a future version, the Index constructor will not infer numeric dtypes when passed object-dtype sequences (matching Series behavior)\n",
      "  uniques = Index(uniques)\n"
     ]
    }
   ],
   "source": [
    "full_expanded_data = final_parsed_addresses(df,all_entities ,multi_property, multi_unit_id, all_multi_ids, expand_addresses = True)\n",
    "full_not_expanded_data = final_parsed_addresses(df,all_entities ,multi_property, multi_unit_id, all_multi_ids, expand_addresses = False)"
   ]
  },
  {
   "cell_type": "code",
   "execution_count": 61,
   "id": "b4e46b06",
   "metadata": {},
   "outputs": [
    {
     "name": "stdout",
     "output_type": "stream",
     "text": [
      "(159699, 11)\n",
      "(109249, 11)\n"
     ]
    }
   ],
   "source": [
    "print(full_expanded_data.shape)\n",
    "print(full_not_expanded_data.shape)"
   ]
  },
  {
   "cell_type": "code",
   "execution_count": 43,
   "id": "53dc8d77",
   "metadata": {},
   "outputs": [
    {
     "name": "stdout",
     "output_type": "stream",
     "text": [
      "i= 0  expand time,0.0 filter time0.0 make_dataframe_time 0.001\n",
      "i= 1000  expand time,0.191 filter time0.116 make_dataframe_time 0.938\n",
      "i= 2000  expand time,0.38 filter time0.229 make_dataframe_time 1.837\n",
      "i= 0  expand time,0.001 filter time0.0 make_dataframe_time 0.001\n",
      "i= 1000  expand time,0.178 filter time0.104 make_dataframe_time 0.965\n"
     ]
    },
    {
     "name": "stderr",
     "output_type": "stream",
     "text": [
      "/usr/local/lib/python3.8/dist-packages/pandas/core/algorithms.py:798: FutureWarning: In a future version, the Index constructor will not infer numeric dtypes when passed object-dtype sequences (matching Series behavior)\n",
      "  uniques = Index(uniques)\n",
      "/usr/local/lib/python3.8/dist-packages/pandas/core/algorithms.py:798: FutureWarning: In a future version, the Index constructor will not infer numeric dtypes when passed object-dtype sequences (matching Series behavior)\n",
      "  uniques = Index(uniques)\n"
     ]
    }
   ],
   "source": [
    "full_expanded_data = final_parsed_addresses(df,all_entities ,multi_property, multi_unit_id, all_multi_ids, expand_addresses = True)\n",
    "full_not_expanded_data = final_parsed_addresses(df,all_entities ,multi_property, multi_unit_id, all_multi_ids, expand_addresses = False)"
   ]
  },
  {
   "attachments": {},
   "cell_type": "markdown",
   "id": "bbad9a36",
   "metadata": {},
   "source": [
    "# Load OCOD data and combine necessary information with the expanded data"
   ]
  },
  {
   "cell_type": "code",
   "execution_count": 30,
   "id": "36c74f3a",
   "metadata": {},
   "outputs": [
    {
     "name": "stderr",
     "output_type": "stream",
     "text": [
      "<ipython-input-30-1ce070f5a3aa>:1: DtypeWarning: Columns (24,28,30,32,33,34) have mixed types. Specify dtype option on import or set low_memory=False.\n",
      "  ocod_data =  pd.read_csv('/tf/empty_homes_data/' +\n"
     ]
    }
   ],
   "source": [
    "ocod_data =  pd.read_csv('/tf/data/' +\n",
    "                    'OCOD_FULL_2022_02.csv',\n",
    "                   encoding_errors= 'ignore').rename(columns = lambda x: x.lower().replace(\" \", \"_\"))\n",
    "#empty addresses cannot be used. however there are only three so not a problem\n",
    "ocod_data = ocod_data.dropna(subset = 'property_address')\n",
    "ocod_data.reset_index(inplace = True, drop = True)\n",
    "ocod_data = ocod_data[['title_number', 'tenure', 'district', 'county',\n",
    "       'region', 'multiple_address_indicator', 'price_paid', 'property_address']]\n",
    "\n",
    "ocod_data['property_address'] = ocod_data['property_address'].str.lower()\n",
    "\n",
    "#ensure there is a space after commas\n",
    "#This is because some numbers are are written as 1,2,3,4,5 which causes issues during tokenisation\n",
    "ocod_data.property_address = ocod_data.property_address.str.replace(',', r', ', regex = True)\n",
    "#remove multiple spaces\n",
    "ocod_data.property_address = ocod_data.property_address.str.replace('\\s{2,}', r' ', regex = True)\n",
    "\n",
    "#typo in the data leads to a large number of fake flats\n",
    "ocod_data.loc[:, 'property_address'] = ocod_data['property_address'].str.replace(\"stanley court \", \"stanley court, \")\n",
    "#This typo leads to some rather silly addresses\n",
    "ocod_data.loc[:, 'property_address'] = ocod_data['property_address'].str.replace(\"100-1124\", \"100-112\")\n",
    "ocod_data.loc[:, 'property_address'] = ocod_data['property_address'].str.replace(\"40a, 40, 40¨, 42, 44\", \"40a, 40, 40, 42, 44\")\n",
    "\n",
    "full_expanded_data = full_expanded_data.merge(ocod_data, how = \"left\", left_on = \"datapoint_id\", right_index = True)"
   ]
  },
  {
   "attachments": {},
   "cell_type": "markdown",
   "id": "ebd6454c",
   "metadata": {},
   "source": [
    "This is a quality test that checks that the property addresses are identical between the original ocod data and the expanded OCOD data.\n",
    "It also acts as a proof that the addresses are not being re-ordered"
   ]
  },
  {
   "cell_type": "code",
   "execution_count": 32,
   "id": "df20409c",
   "metadata": {},
   "outputs": [
    {
     "data": {
      "text/plain": [
       "True"
      ]
     },
     "execution_count": 32,
     "metadata": {},
     "output_type": "execute_result"
    }
   ],
   "source": [
    "\n",
    "full_expanded_data['property_address'].str.lower().equals(full_expanded_data['text']) # When 'True' this shows the match works because the address string are equal\n",
    "#If the above is not true then the below code shows which rows are not the same\n",
    "#full_expanded_data.loc[~((full_expanded_data['text']==full_expanded_data['property_address'].str.lower())), ['property_address', 'text', 'datapoint_id']]"
   ]
  },
  {
   "attachments": {},
   "cell_type": "markdown",
   "id": "a052747b",
   "metadata": {},
   "source": [
    "# Finalise expanded OCOD and save CSV\n",
    "This is the final step of this notebook. It ouputs a csv for the next notebook to load and add in geolocation and classification"
   ]
  },
  {
   "cell_type": "code",
   "execution_count": 35,
   "id": "b761cb42",
   "metadata": {},
   "outputs": [],
   "source": [
    "full_expanded_data['within_title_id'] = full_expanded_data.groupby('title_number').cumcount()+1\n",
    "full_expanded_data['unique_id'] = [str(x) + '-' + str(y) for x, y in zip(full_expanded_data['title_number'], full_expanded_data['within_title_id'])]\n",
    "\n",
    "tmp_df =((full_expanded_data[['title_number', 'within_title_id']].groupby('title_number').max('within_title_id'))>1)\n",
    "tmp_df.columns = tmp_df.columns.str.replace('within_title_id', 'within_larger_title') #could also be called nested_address\n",
    "full_expanded_data = full_expanded_data.merge(tmp_df, how = \"left\", left_on = \"title_number\", right_index = True)\n",
    "\n",
    "\n",
    "full_expanded_data['postcode'] =full_expanded_data['postcode'].str.upper()\n",
    "del tmp_df\n",
    "\n",
    "#re-order the columns and drop columns that are not needed\n",
    "\n",
    "full_expanded_data =full_expanded_data[['title_number', 'within_title_id', 'unique_id', 'within_larger_title',  'tenure','unit_id', 'unit_type','building_name','street_number', 'street_name', 'postcode','city',  'district', 'county', 'region',\n",
    "       'multiple_address_indicator', 'price_paid' ,'property_address']].replace('block', np.NaN)\n",
    "\n",
    "#save as CSV\n",
    "full_expanded_data.to_csv(\"./data/OCOD_cleaned_expanded2.csv\")"
   ]
  },
  {
   "attachments": {},
   "cell_type": "markdown",
   "id": "c2124136",
   "metadata": {},
   "source": [
    "# The entire parsing process\n",
    "The below chunk goes through the entire parsing process and saves the resulting dataframe as a csv"
   ]
  },
  {
   "cell_type": "code",
   "execution_count": 51,
   "id": "a5186987",
   "metadata": {},
   "outputs": [
    {
     "name": "stderr",
     "output_type": "stream",
     "text": [
      "/tf/address_parsing_helper_functions.py:469: DtypeWarning: Columns (24,28,30,32,33,34) have mixed types. Specify dtype option on import or set low_memory=False.\n",
      "  ocod_data =  pd.read_csv(file_path,\n"
     ]
    },
    {
     "name": "stdout",
     "output_type": "stream",
     "text": [
      "Loading the spaCy model\n",
      "Adding the datapoint id and title number meta data to the property address\n",
      "predicting over the OCOD dataset using the pre-trained spaCy model\n",
      "extracting entity label text\n",
      "Names Entity Recognition labelling complete\n",
      "i= 0  expand time,0.0 filter time0.0 make_dataframe_time 0.001\n",
      "i= 1000  expand time,0.24 filter time0.143 make_dataframe_time 1.303\n",
      "i= 2000  expand time,0.505 filter time0.306 make_dataframe_time 2.515\n",
      "i= 0  expand time,0.001 filter time0.0 make_dataframe_time 0.002\n",
      "i= 1000  expand time,0.353 filter time0.23 make_dataframe_time 1.725\n"
     ]
    },
    {
     "name": "stderr",
     "output_type": "stream",
     "text": [
      "/usr/local/lib/python3.8/dist-packages/pandas/core/algorithms.py:798: FutureWarning: In a future version, the Index constructor will not infer numeric dtypes when passed object-dtype sequences (matching Series behavior)\n",
      "  uniques = Index(uniques)\n"
     ]
    }
   ],
   "source": [
    "ocod_data = load_and_prep_OCOD_data('./data/' + 'OCOD_FULL_2022_02.csv')\n",
    "\n",
    "all_entities = spacy_pred_fn(spacy_model_path = \"./data/spacy_data/cpu/model-best\", ocod_data = ocod_data)\n",
    "#all_entities = load_cleaned_labels('./data/full_dataset_no_overlaps.json')\n",
    "full_expanded_data = parsing_and_expansion_process(all_entities, expand_addresses = True)\n",
    "\n",
    "full_expanded_data = post_process_expanded_data(full_expanded_data, ocod_data)\n",
    "\n",
    "full_expanded_data.to_csv(\"./data/OCOD_cleaned_expanded_spacy.csv\")"
   ]
  },
  {
   "cell_type": "code",
   "execution_count": 52,
   "id": "fca6525a",
   "metadata": {},
   "outputs": [],
   "source": [
    "test_spacy = pd.read_csv(\"./data/OCOD_cleaned_expanded_spacy.csv\")\n",
    "test_prog = pd.read_csv(\"./data/OCOD_cleaned_expanded_programmatic_only.csv\")"
   ]
  },
  {
   "cell_type": "code",
   "execution_count": 61,
   "id": "4dad8686",
   "metadata": {},
   "outputs": [
    {
     "data": {
      "text/plain": [
       "Unnamed: 0                         0\n",
       "title_number                       0\n",
       "within_title_id                    0\n",
       "unique_id                          0\n",
       "within_larger_title                0\n",
       "tenure                             0\n",
       "unit_id                       101723\n",
       "unit_type                     112129\n",
       "building_name                 105968\n",
       "street_number                  57337\n",
       "street_name                    13304\n",
       "postcode                       57352\n",
       "city                            9191\n",
       "district                           0\n",
       "county                             0\n",
       "region                             0\n",
       "multiple_address_indicator         0\n",
       "price_paid                    117993\n",
       "property_address                   0\n",
       "dtype: int64"
      ]
     },
     "execution_count": 61,
     "metadata": {},
     "output_type": "execute_result"
    }
   ],
   "source": [
    "np.sum(test_prog.isna()*1)"
   ]
  },
  {
   "cell_type": "code",
   "execution_count": 62,
   "id": "edf7b040",
   "metadata": {},
   "outputs": [
    {
     "data": {
      "text/plain": [
       "Unnamed: 0                         0\n",
       "title_number                       0\n",
       "within_title_id                    0\n",
       "unique_id                          0\n",
       "within_larger_title                0\n",
       "tenure                             0\n",
       "unit_id                       104432\n",
       "unit_type                     105295\n",
       "building_name                 107086\n",
       "street_number                  50541\n",
       "street_name                    11541\n",
       "postcode                       52998\n",
       "city                           11323\n",
       "district                           0\n",
       "county                             0\n",
       "region                             0\n",
       "multiple_address_indicator         0\n",
       "price_paid                    111323\n",
       "property_address                   0\n",
       "dtype: int64"
      ]
     },
     "execution_count": 62,
     "metadata": {},
     "output_type": "execute_result"
    }
   ],
   "source": [
    "np.sum(test_spacy.isna()*1)"
   ]
  },
  {
   "cell_type": "code",
   "execution_count": 14,
   "id": "fa9bc12b",
   "metadata": {},
   "outputs": [
    {
     "data": {
      "text/html": [
       "<div>\n",
       "<style scoped>\n",
       "    .dataframe tbody tr th:only-of-type {\n",
       "        vertical-align: middle;\n",
       "    }\n",
       "\n",
       "    .dataframe tbody tr th {\n",
       "        vertical-align: top;\n",
       "    }\n",
       "\n",
       "    .dataframe thead th {\n",
       "        text-align: right;\n",
       "    }\n",
       "</style>\n",
       "<table border=\"1\" class=\"dataframe\">\n",
       "  <thead>\n",
       "    <tr style=\"text-align: right;\">\n",
       "      <th></th>\n",
       "      <th>index</th>\n",
       "      <th>datapoint_id</th>\n",
       "      <th>building_name</th>\n",
       "      <th>city</th>\n",
       "      <th>number_filter</th>\n",
       "      <th>postcode</th>\n",
       "      <th>street_name</th>\n",
       "      <th>street_number</th>\n",
       "      <th>unit_id</th>\n",
       "      <th>unit_type</th>\n",
       "      <th>text</th>\n",
       "    </tr>\n",
       "  </thead>\n",
       "  <tbody>\n",
       "    <tr>\n",
       "      <th>112</th>\n",
       "      <td>NaN</td>\n",
       "      <td>123</td>\n",
       "      <td>NaN</td>\n",
       "      <td>aylesbury</td>\n",
       "      <td>odd</td>\n",
       "      <td>NaN</td>\n",
       "      <td>stadium approach,</td>\n",
       "      <td>33-63</td>\n",
       "      <td>NaN</td>\n",
       "      <td>NaN</td>\n",
       "      <td>33-63 (odd), stadium approach, aylesbury</td>\n",
       "    </tr>\n",
       "  </tbody>\n",
       "</table>\n",
       "</div>"
      ],
      "text/plain": [
       "    index datapoint_id building_name       city number_filter postcode  \\\n",
       "112   NaN          123           NaN  aylesbury           odd      NaN   \n",
       "\n",
       "           street_name street_number unit_id unit_type  \\\n",
       "112  stadium approach,         33-63     NaN       NaN   \n",
       "\n",
       "                                         text  \n",
       "112  33-63 (odd), stadium approach, aylesbury  "
      ]
     },
     "execution_count": 14,
     "metadata": {},
     "output_type": "execute_result"
    }
   ],
   "source": [
    "full_expanded_data.loc[full_expanded_data['street_name'].str.contains(\"stadium approach,\")==True,:]\n",
    "#full_expanded_data['street_name'].str.contains(\"stadium approach,\")==True"
   ]
  }
 ],
 "metadata": {
  "kernelspec": {
   "display_name": "Python 3",
   "language": "python",
   "name": "python3"
  },
  "language_info": {
   "codemirror_mode": {
    "name": "ipython",
    "version": 3
   },
   "file_extension": ".py",
   "mimetype": "text/x-python",
   "name": "python",
   "nbconvert_exporter": "python",
   "pygments_lexer": "ipython3",
   "version": "3.11.2"
  }
 },
 "nbformat": 4,
 "nbformat_minor": 5
}
